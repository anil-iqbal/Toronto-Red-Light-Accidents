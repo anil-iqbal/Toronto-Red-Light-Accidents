{
 "cells": [
  {
   "cell_type": "code",
   "execution_count": 500,
   "metadata": {},
   "outputs": [],
   "source": [
    "import pandas as pd\n",
    "import numpy as np\n",
    "import matplotlib.pyplot as plt\n",
    "%matplotlib inline\n",
    "import seaborn as sns"
   ]
  },
  {
   "cell_type": "code",
   "execution_count": 501,
   "metadata": {},
   "outputs": [],
   "source": [
    "df = pd.read_csv('KSI.csv')"
   ]
  },
  {
   "cell_type": "code",
   "execution_count": 685,
   "metadata": {},
   "outputs": [
    {
     "data": {
      "text/plain": [
       "'C:\\\\Users\\\\anili\\\\Downloads\\\\DA_Bootcamp\\\\Python'"
      ]
     },
     "execution_count": 685,
     "metadata": {},
     "output_type": "execute_result"
    }
   ],
   "source": [
    "pwd"
   ]
  },
  {
   "cell_type": "code",
   "execution_count": 502,
   "metadata": {},
   "outputs": [
    {
     "data": {
      "text/html": [
       "<div>\n",
       "<style scoped>\n",
       "    .dataframe tbody tr th:only-of-type {\n",
       "        vertical-align: middle;\n",
       "    }\n",
       "\n",
       "    .dataframe tbody tr th {\n",
       "        vertical-align: top;\n",
       "    }\n",
       "\n",
       "    .dataframe thead th {\n",
       "        text-align: right;\n",
       "    }\n",
       "</style>\n",
       "<table border=\"1\" class=\"dataframe\">\n",
       "  <thead>\n",
       "    <tr style=\"text-align: right;\">\n",
       "      <th></th>\n",
       "      <th>X</th>\n",
       "      <th>Y</th>\n",
       "      <th>Index_</th>\n",
       "      <th>ACCNUM</th>\n",
       "      <th>YEAR</th>\n",
       "      <th>DATE</th>\n",
       "      <th>TIME</th>\n",
       "      <th>HOUR</th>\n",
       "      <th>STREET1</th>\n",
       "      <th>STREET2</th>\n",
       "      <th>...</th>\n",
       "      <th>EMERG_VEH</th>\n",
       "      <th>PASSENGER</th>\n",
       "      <th>SPEEDING</th>\n",
       "      <th>AG_DRIV</th>\n",
       "      <th>REDLIGHT</th>\n",
       "      <th>ALCOHOL</th>\n",
       "      <th>DISABILITY</th>\n",
       "      <th>Hood_ID</th>\n",
       "      <th>Neighbourhood</th>\n",
       "      <th>ObjectId</th>\n",
       "    </tr>\n",
       "  </thead>\n",
       "  <tbody>\n",
       "    <tr>\n",
       "      <th>0</th>\n",
       "      <td>-8.829728e+06</td>\n",
       "      <td>5.419071e+06</td>\n",
       "      <td>3389067</td>\n",
       "      <td>893184</td>\n",
       "      <td>2006</td>\n",
       "      <td>2006/01/01 05:00:00+00</td>\n",
       "      <td>236</td>\n",
       "      <td>2</td>\n",
       "      <td>WOODBINE AVE</td>\n",
       "      <td>O CONNOR DR</td>\n",
       "      <td>...</td>\n",
       "      <td>NaN</td>\n",
       "      <td>Yes</td>\n",
       "      <td>Yes</td>\n",
       "      <td>Yes</td>\n",
       "      <td>NaN</td>\n",
       "      <td>Yes</td>\n",
       "      <td>NaN</td>\n",
       "      <td>60</td>\n",
       "      <td>Woodbine-Lumsden (60)</td>\n",
       "      <td>1</td>\n",
       "    </tr>\n",
       "    <tr>\n",
       "      <th>1</th>\n",
       "      <td>-8.829728e+06</td>\n",
       "      <td>5.419071e+06</td>\n",
       "      <td>3389068</td>\n",
       "      <td>893184</td>\n",
       "      <td>2006</td>\n",
       "      <td>2006/01/01 05:00:00+00</td>\n",
       "      <td>236</td>\n",
       "      <td>2</td>\n",
       "      <td>WOODBINE AVE</td>\n",
       "      <td>O CONNOR DR</td>\n",
       "      <td>...</td>\n",
       "      <td>NaN</td>\n",
       "      <td>Yes</td>\n",
       "      <td>Yes</td>\n",
       "      <td>Yes</td>\n",
       "      <td>NaN</td>\n",
       "      <td>Yes</td>\n",
       "      <td>NaN</td>\n",
       "      <td>60</td>\n",
       "      <td>Woodbine-Lumsden (60)</td>\n",
       "      <td>2</td>\n",
       "    </tr>\n",
       "    <tr>\n",
       "      <th>2</th>\n",
       "      <td>-8.829728e+06</td>\n",
       "      <td>5.419071e+06</td>\n",
       "      <td>3389069</td>\n",
       "      <td>893184</td>\n",
       "      <td>2006</td>\n",
       "      <td>2006/01/01 05:00:00+00</td>\n",
       "      <td>236</td>\n",
       "      <td>2</td>\n",
       "      <td>WOODBINE AVE</td>\n",
       "      <td>O CONNOR DR</td>\n",
       "      <td>...</td>\n",
       "      <td>NaN</td>\n",
       "      <td>Yes</td>\n",
       "      <td>Yes</td>\n",
       "      <td>Yes</td>\n",
       "      <td>NaN</td>\n",
       "      <td>Yes</td>\n",
       "      <td>NaN</td>\n",
       "      <td>60</td>\n",
       "      <td>Woodbine-Lumsden (60)</td>\n",
       "      <td>3</td>\n",
       "    </tr>\n",
       "    <tr>\n",
       "      <th>3</th>\n",
       "      <td>-8.829728e+06</td>\n",
       "      <td>5.419071e+06</td>\n",
       "      <td>3389070</td>\n",
       "      <td>893184</td>\n",
       "      <td>2006</td>\n",
       "      <td>2006/01/01 05:00:00+00</td>\n",
       "      <td>236</td>\n",
       "      <td>2</td>\n",
       "      <td>WOODBINE AVE</td>\n",
       "      <td>O CONNOR DR</td>\n",
       "      <td>...</td>\n",
       "      <td>NaN</td>\n",
       "      <td>Yes</td>\n",
       "      <td>Yes</td>\n",
       "      <td>Yes</td>\n",
       "      <td>NaN</td>\n",
       "      <td>Yes</td>\n",
       "      <td>NaN</td>\n",
       "      <td>60</td>\n",
       "      <td>Woodbine-Lumsden (60)</td>\n",
       "      <td>4</td>\n",
       "    </tr>\n",
       "    <tr>\n",
       "      <th>4</th>\n",
       "      <td>-8.829728e+06</td>\n",
       "      <td>5.419071e+06</td>\n",
       "      <td>3389071</td>\n",
       "      <td>893184</td>\n",
       "      <td>2006</td>\n",
       "      <td>2006/01/01 05:00:00+00</td>\n",
       "      <td>236</td>\n",
       "      <td>2</td>\n",
       "      <td>WOODBINE AVE</td>\n",
       "      <td>O CONNOR DR</td>\n",
       "      <td>...</td>\n",
       "      <td>NaN</td>\n",
       "      <td>Yes</td>\n",
       "      <td>Yes</td>\n",
       "      <td>Yes</td>\n",
       "      <td>NaN</td>\n",
       "      <td>Yes</td>\n",
       "      <td>NaN</td>\n",
       "      <td>60</td>\n",
       "      <td>Woodbine-Lumsden (60)</td>\n",
       "      <td>5</td>\n",
       "    </tr>\n",
       "  </tbody>\n",
       "</table>\n",
       "<p>5 rows × 56 columns</p>\n",
       "</div>"
      ],
      "text/plain": [
       "              X             Y   Index_  ACCNUM  YEAR                    DATE  \\\n",
       "0 -8.829728e+06  5.419071e+06  3389067  893184  2006  2006/01/01 05:00:00+00   \n",
       "1 -8.829728e+06  5.419071e+06  3389068  893184  2006  2006/01/01 05:00:00+00   \n",
       "2 -8.829728e+06  5.419071e+06  3389069  893184  2006  2006/01/01 05:00:00+00   \n",
       "3 -8.829728e+06  5.419071e+06  3389070  893184  2006  2006/01/01 05:00:00+00   \n",
       "4 -8.829728e+06  5.419071e+06  3389071  893184  2006  2006/01/01 05:00:00+00   \n",
       "\n",
       "   TIME  HOUR       STREET1      STREET2  ... EMERG_VEH PASSENGER SPEEDING  \\\n",
       "0   236     2  WOODBINE AVE  O CONNOR DR  ...       NaN       Yes      Yes   \n",
       "1   236     2  WOODBINE AVE  O CONNOR DR  ...       NaN       Yes      Yes   \n",
       "2   236     2  WOODBINE AVE  O CONNOR DR  ...       NaN       Yes      Yes   \n",
       "3   236     2  WOODBINE AVE  O CONNOR DR  ...       NaN       Yes      Yes   \n",
       "4   236     2  WOODBINE AVE  O CONNOR DR  ...       NaN       Yes      Yes   \n",
       "\n",
       "   AG_DRIV  REDLIGHT  ALCOHOL  DISABILITY Hood_ID          Neighbourhood  \\\n",
       "0      Yes       NaN      Yes         NaN      60  Woodbine-Lumsden (60)   \n",
       "1      Yes       NaN      Yes         NaN      60  Woodbine-Lumsden (60)   \n",
       "2      Yes       NaN      Yes         NaN      60  Woodbine-Lumsden (60)   \n",
       "3      Yes       NaN      Yes         NaN      60  Woodbine-Lumsden (60)   \n",
       "4      Yes       NaN      Yes         NaN      60  Woodbine-Lumsden (60)   \n",
       "\n",
       "  ObjectId  \n",
       "0        1  \n",
       "1        2  \n",
       "2        3  \n",
       "3        4  \n",
       "4        5  \n",
       "\n",
       "[5 rows x 56 columns]"
      ]
     },
     "execution_count": 502,
     "metadata": {},
     "output_type": "execute_result"
    }
   ],
   "source": [
    "df.head()"
   ]
  },
  {
   "cell_type": "code",
   "execution_count": 503,
   "metadata": {},
   "outputs": [
    {
     "name": "stdout",
     "output_type": "stream",
     "text": [
      "<class 'pandas.core.frame.DataFrame'>\n",
      "RangeIndex: 16093 entries, 0 to 16092\n",
      "Data columns (total 56 columns):\n",
      " #   Column         Non-Null Count  Dtype  \n",
      "---  ------         --------------  -----  \n",
      " 0   X              16093 non-null  float64\n",
      " 1   Y              16093 non-null  float64\n",
      " 2   Index_         16093 non-null  int64  \n",
      " 3   ACCNUM         16093 non-null  int64  \n",
      " 4   YEAR           16093 non-null  int64  \n",
      " 5   DATE           16093 non-null  object \n",
      " 6   TIME           16093 non-null  int64  \n",
      " 7   HOUR           16093 non-null  int64  \n",
      " 8   STREET1        16093 non-null  object \n",
      " 9   STREET2        14698 non-null  object \n",
      " 10  OFFSET         2388 non-null   object \n",
      " 11  ROAD_CLASS     15725 non-null  object \n",
      " 12  District       16080 non-null  object \n",
      " 13  WardNum        13795 non-null  float64\n",
      " 14  Division       16093 non-null  int64  \n",
      " 15  LATITUDE       16093 non-null  float64\n",
      " 16  LONGITUDE      16093 non-null  float64\n",
      " 17  LOCCOORD       15963 non-null  object \n",
      " 18  ACCLOC         10643 non-null  object \n",
      " 19  TRAFFCTL       16064 non-null  object \n",
      " 20  VISIBILITY     16071 non-null  object \n",
      " 21  LIGHT          16093 non-null  object \n",
      " 22  RDSFCOND       16066 non-null  object \n",
      " 23  ACCLASS        16093 non-null  object \n",
      " 24  IMPACTYPE      16089 non-null  object \n",
      " 25  INVTYPE        16083 non-null  object \n",
      " 26  INVAGE         16093 non-null  object \n",
      " 27  INJURY         14484 non-null  object \n",
      " 28  FATAL_NO       673 non-null    float64\n",
      " 29  INITDIR        11257 non-null  object \n",
      " 30  VEHTYPE        13566 non-null  object \n",
      " 31  MANOEUVER      9141 non-null   object \n",
      " 32  DRIVACT        8032 non-null   object \n",
      " 33  DRIVCOND       8032 non-null   object \n",
      " 34  PEDTYPE        2570 non-null   object \n",
      " 35  PEDACT         2564 non-null   object \n",
      " 36  PEDCOND        2684 non-null   object \n",
      " 37  CYCLISTYPE     641 non-null    object \n",
      " 38  CYCACT         666 non-null    object \n",
      " 39  CYCCOND        665 non-null    object \n",
      " 40  PEDESTRIAN     6484 non-null   object \n",
      " 41  CYCLIST        1681 non-null   object \n",
      " 42  AUTOMOBILE     14632 non-null  object \n",
      " 43  MOTORCYCLE     1274 non-null   object \n",
      " 44  TRUCK          990 non-null    object \n",
      " 45  TRSN_CITY_VEH  982 non-null    object \n",
      " 46  EMERG_VEH      31 non-null     object \n",
      " 47  PASSENGER      6091 non-null   object \n",
      " 48  SPEEDING       2157 non-null   object \n",
      " 49  AG_DRIV        8306 non-null   object \n",
      " 50  REDLIGHT       1361 non-null   object \n",
      " 51  ALCOHOL        713 non-null    object \n",
      " 52  DISABILITY     450 non-null    object \n",
      " 53  Hood_ID        16093 non-null  int64  \n",
      " 54  Neighbourhood  16093 non-null  object \n",
      " 55  ObjectId       16093 non-null  int64  \n",
      "dtypes: float64(6), int64(8), object(42)\n",
      "memory usage: 6.9+ MB\n"
     ]
    }
   ],
   "source": [
    "df.info()"
   ]
  },
  {
   "cell_type": "code",
   "execution_count": 504,
   "metadata": {},
   "outputs": [
    {
     "data": {
      "text/plain": [
       "901208"
      ]
     },
     "execution_count": 504,
     "metadata": {},
     "output_type": "execute_result"
    }
   ],
   "source": [
    "df.size"
   ]
  },
  {
   "cell_type": "code",
   "execution_count": 505,
   "metadata": {},
   "outputs": [
    {
     "data": {
      "text/plain": [
       "(16093, 56)"
      ]
     },
     "execution_count": 505,
     "metadata": {},
     "output_type": "execute_result"
    }
   ],
   "source": [
    "df.shape"
   ]
  },
  {
   "cell_type": "code",
   "execution_count": 506,
   "metadata": {},
   "outputs": [
    {
     "data": {
      "text/plain": [
       "Index(['X', 'Y', 'Index_', 'ACCNUM', 'YEAR', 'DATE', 'TIME', 'HOUR', 'STREET1',\n",
       "       'STREET2', 'OFFSET', 'ROAD_CLASS', 'District', 'WardNum', 'Division',\n",
       "       'LATITUDE', 'LONGITUDE', 'LOCCOORD', 'ACCLOC', 'TRAFFCTL', 'VISIBILITY',\n",
       "       'LIGHT', 'RDSFCOND', 'ACCLASS', 'IMPACTYPE', 'INVTYPE', 'INVAGE',\n",
       "       'INJURY', 'FATAL_NO', 'INITDIR', 'VEHTYPE', 'MANOEUVER', 'DRIVACT',\n",
       "       'DRIVCOND', 'PEDTYPE', 'PEDACT', 'PEDCOND', 'CYCLISTYPE', 'CYCACT',\n",
       "       'CYCCOND', 'PEDESTRIAN', 'CYCLIST', 'AUTOMOBILE', 'MOTORCYCLE', 'TRUCK',\n",
       "       'TRSN_CITY_VEH', 'EMERG_VEH', 'PASSENGER', 'SPEEDING', 'AG_DRIV',\n",
       "       'REDLIGHT', 'ALCOHOL', 'DISABILITY', 'Hood_ID', 'Neighbourhood',\n",
       "       'ObjectId'],\n",
       "      dtype='object')"
      ]
     },
     "execution_count": 506,
     "metadata": {},
     "output_type": "execute_result"
    }
   ],
   "source": [
    "df.columns"
   ]
  },
  {
   "cell_type": "code",
   "execution_count": 507,
   "metadata": {},
   "outputs": [],
   "source": [
    "df['DATE']= pd.to_datetime(df['DATE'])"
   ]
  },
  {
   "cell_type": "code",
   "execution_count": 508,
   "metadata": {},
   "outputs": [
    {
     "data": {
      "text/html": [
       "<div>\n",
       "<style scoped>\n",
       "    .dataframe tbody tr th:only-of-type {\n",
       "        vertical-align: middle;\n",
       "    }\n",
       "\n",
       "    .dataframe tbody tr th {\n",
       "        vertical-align: top;\n",
       "    }\n",
       "\n",
       "    .dataframe thead th {\n",
       "        text-align: right;\n",
       "    }\n",
       "</style>\n",
       "<table border=\"1\" class=\"dataframe\">\n",
       "  <thead>\n",
       "    <tr style=\"text-align: right;\">\n",
       "      <th></th>\n",
       "      <th>X</th>\n",
       "      <th>Y</th>\n",
       "      <th>Index_</th>\n",
       "      <th>ACCNUM</th>\n",
       "      <th>YEAR</th>\n",
       "      <th>DATE</th>\n",
       "      <th>TIME</th>\n",
       "      <th>HOUR</th>\n",
       "      <th>STREET1</th>\n",
       "      <th>STREET2</th>\n",
       "      <th>...</th>\n",
       "      <th>EMERG_VEH</th>\n",
       "      <th>PASSENGER</th>\n",
       "      <th>SPEEDING</th>\n",
       "      <th>AG_DRIV</th>\n",
       "      <th>REDLIGHT</th>\n",
       "      <th>ALCOHOL</th>\n",
       "      <th>DISABILITY</th>\n",
       "      <th>Hood_ID</th>\n",
       "      <th>Neighbourhood</th>\n",
       "      <th>ObjectId</th>\n",
       "    </tr>\n",
       "  </thead>\n",
       "  <tbody>\n",
       "    <tr>\n",
       "      <th>0</th>\n",
       "      <td>-8.829728e+06</td>\n",
       "      <td>5.419071e+06</td>\n",
       "      <td>3389067</td>\n",
       "      <td>893184</td>\n",
       "      <td>2006</td>\n",
       "      <td>2006-01-01 05:00:00+00:00</td>\n",
       "      <td>236</td>\n",
       "      <td>2</td>\n",
       "      <td>WOODBINE AVE</td>\n",
       "      <td>O CONNOR DR</td>\n",
       "      <td>...</td>\n",
       "      <td>NaN</td>\n",
       "      <td>Yes</td>\n",
       "      <td>Yes</td>\n",
       "      <td>Yes</td>\n",
       "      <td>NaN</td>\n",
       "      <td>Yes</td>\n",
       "      <td>NaN</td>\n",
       "      <td>60</td>\n",
       "      <td>Woodbine-Lumsden (60)</td>\n",
       "      <td>1</td>\n",
       "    </tr>\n",
       "    <tr>\n",
       "      <th>1</th>\n",
       "      <td>-8.829728e+06</td>\n",
       "      <td>5.419071e+06</td>\n",
       "      <td>3389068</td>\n",
       "      <td>893184</td>\n",
       "      <td>2006</td>\n",
       "      <td>2006-01-01 05:00:00+00:00</td>\n",
       "      <td>236</td>\n",
       "      <td>2</td>\n",
       "      <td>WOODBINE AVE</td>\n",
       "      <td>O CONNOR DR</td>\n",
       "      <td>...</td>\n",
       "      <td>NaN</td>\n",
       "      <td>Yes</td>\n",
       "      <td>Yes</td>\n",
       "      <td>Yes</td>\n",
       "      <td>NaN</td>\n",
       "      <td>Yes</td>\n",
       "      <td>NaN</td>\n",
       "      <td>60</td>\n",
       "      <td>Woodbine-Lumsden (60)</td>\n",
       "      <td>2</td>\n",
       "    </tr>\n",
       "  </tbody>\n",
       "</table>\n",
       "<p>2 rows × 56 columns</p>\n",
       "</div>"
      ],
      "text/plain": [
       "              X             Y   Index_  ACCNUM  YEAR  \\\n",
       "0 -8.829728e+06  5.419071e+06  3389067  893184  2006   \n",
       "1 -8.829728e+06  5.419071e+06  3389068  893184  2006   \n",
       "\n",
       "                       DATE  TIME  HOUR       STREET1      STREET2  ...  \\\n",
       "0 2006-01-01 05:00:00+00:00   236     2  WOODBINE AVE  O CONNOR DR  ...   \n",
       "1 2006-01-01 05:00:00+00:00   236     2  WOODBINE AVE  O CONNOR DR  ...   \n",
       "\n",
       "  EMERG_VEH PASSENGER SPEEDING  AG_DRIV  REDLIGHT  ALCOHOL  DISABILITY  \\\n",
       "0       NaN       Yes      Yes      Yes       NaN      Yes         NaN   \n",
       "1       NaN       Yes      Yes      Yes       NaN      Yes         NaN   \n",
       "\n",
       "  Hood_ID          Neighbourhood ObjectId  \n",
       "0      60  Woodbine-Lumsden (60)        1  \n",
       "1      60  Woodbine-Lumsden (60)        2  \n",
       "\n",
       "[2 rows x 56 columns]"
      ]
     },
     "execution_count": 508,
     "metadata": {},
     "output_type": "execute_result"
    }
   ],
   "source": [
    "#year\n",
    "df['DATE'].dt.year\n",
    "df['YEAR']=df['DATE'].dt.year\n",
    "df.head(2)"
   ]
  },
  {
   "cell_type": "code",
   "execution_count": 509,
   "metadata": {},
   "outputs": [
    {
     "data": {
      "text/html": [
       "<div>\n",
       "<style scoped>\n",
       "    .dataframe tbody tr th:only-of-type {\n",
       "        vertical-align: middle;\n",
       "    }\n",
       "\n",
       "    .dataframe tbody tr th {\n",
       "        vertical-align: top;\n",
       "    }\n",
       "\n",
       "    .dataframe thead th {\n",
       "        text-align: right;\n",
       "    }\n",
       "</style>\n",
       "<table border=\"1\" class=\"dataframe\">\n",
       "  <thead>\n",
       "    <tr style=\"text-align: right;\">\n",
       "      <th></th>\n",
       "      <th>X</th>\n",
       "      <th>Y</th>\n",
       "      <th>Index_</th>\n",
       "      <th>ACCNUM</th>\n",
       "      <th>YEAR</th>\n",
       "      <th>DATE</th>\n",
       "      <th>TIME</th>\n",
       "      <th>HOUR</th>\n",
       "      <th>STREET1</th>\n",
       "      <th>STREET2</th>\n",
       "      <th>...</th>\n",
       "      <th>PASSENGER</th>\n",
       "      <th>SPEEDING</th>\n",
       "      <th>AG_DRIV</th>\n",
       "      <th>REDLIGHT</th>\n",
       "      <th>ALCOHOL</th>\n",
       "      <th>DISABILITY</th>\n",
       "      <th>Hood_ID</th>\n",
       "      <th>Neighbourhood</th>\n",
       "      <th>ObjectId</th>\n",
       "      <th>MONTH</th>\n",
       "    </tr>\n",
       "  </thead>\n",
       "  <tbody>\n",
       "    <tr>\n",
       "      <th>0</th>\n",
       "      <td>-8.829728e+06</td>\n",
       "      <td>5.419071e+06</td>\n",
       "      <td>3389067</td>\n",
       "      <td>893184</td>\n",
       "      <td>2006</td>\n",
       "      <td>2006-01-01 05:00:00+00:00</td>\n",
       "      <td>236</td>\n",
       "      <td>2</td>\n",
       "      <td>WOODBINE AVE</td>\n",
       "      <td>O CONNOR DR</td>\n",
       "      <td>...</td>\n",
       "      <td>Yes</td>\n",
       "      <td>Yes</td>\n",
       "      <td>Yes</td>\n",
       "      <td>NaN</td>\n",
       "      <td>Yes</td>\n",
       "      <td>NaN</td>\n",
       "      <td>60</td>\n",
       "      <td>Woodbine-Lumsden (60)</td>\n",
       "      <td>1</td>\n",
       "      <td>1</td>\n",
       "    </tr>\n",
       "    <tr>\n",
       "      <th>1</th>\n",
       "      <td>-8.829728e+06</td>\n",
       "      <td>5.419071e+06</td>\n",
       "      <td>3389068</td>\n",
       "      <td>893184</td>\n",
       "      <td>2006</td>\n",
       "      <td>2006-01-01 05:00:00+00:00</td>\n",
       "      <td>236</td>\n",
       "      <td>2</td>\n",
       "      <td>WOODBINE AVE</td>\n",
       "      <td>O CONNOR DR</td>\n",
       "      <td>...</td>\n",
       "      <td>Yes</td>\n",
       "      <td>Yes</td>\n",
       "      <td>Yes</td>\n",
       "      <td>NaN</td>\n",
       "      <td>Yes</td>\n",
       "      <td>NaN</td>\n",
       "      <td>60</td>\n",
       "      <td>Woodbine-Lumsden (60)</td>\n",
       "      <td>2</td>\n",
       "      <td>1</td>\n",
       "    </tr>\n",
       "  </tbody>\n",
       "</table>\n",
       "<p>2 rows × 57 columns</p>\n",
       "</div>"
      ],
      "text/plain": [
       "              X             Y   Index_  ACCNUM  YEAR  \\\n",
       "0 -8.829728e+06  5.419071e+06  3389067  893184  2006   \n",
       "1 -8.829728e+06  5.419071e+06  3389068  893184  2006   \n",
       "\n",
       "                       DATE  TIME  HOUR       STREET1      STREET2  ...  \\\n",
       "0 2006-01-01 05:00:00+00:00   236     2  WOODBINE AVE  O CONNOR DR  ...   \n",
       "1 2006-01-01 05:00:00+00:00   236     2  WOODBINE AVE  O CONNOR DR  ...   \n",
       "\n",
       "  PASSENGER SPEEDING AG_DRIV  REDLIGHT  ALCOHOL  DISABILITY  Hood_ID  \\\n",
       "0       Yes      Yes     Yes       NaN      Yes         NaN       60   \n",
       "1       Yes      Yes     Yes       NaN      Yes         NaN       60   \n",
       "\n",
       "           Neighbourhood ObjectId MONTH  \n",
       "0  Woodbine-Lumsden (60)        1     1  \n",
       "1  Woodbine-Lumsden (60)        2     1  \n",
       "\n",
       "[2 rows x 57 columns]"
      ]
     },
     "execution_count": 509,
     "metadata": {},
     "output_type": "execute_result"
    }
   ],
   "source": [
    "#Month\n",
    "df['DATE'].dt.month\n",
    "df['MONTH']=df['DATE'].dt.month\n",
    "df.head(2)"
   ]
  },
  {
   "cell_type": "code",
   "execution_count": 510,
   "metadata": {},
   "outputs": [],
   "source": [
    "#Day\n",
    "df['DATE'].dt.day\n",
    "df['DAY']=df['DATE'].dt.day"
   ]
  },
  {
   "cell_type": "code",
   "execution_count": 511,
   "metadata": {},
   "outputs": [
    {
     "data": {
      "text/html": [
       "<div>\n",
       "<style scoped>\n",
       "    .dataframe tbody tr th:only-of-type {\n",
       "        vertical-align: middle;\n",
       "    }\n",
       "\n",
       "    .dataframe tbody tr th {\n",
       "        vertical-align: top;\n",
       "    }\n",
       "\n",
       "    .dataframe thead th {\n",
       "        text-align: right;\n",
       "    }\n",
       "</style>\n",
       "<table border=\"1\" class=\"dataframe\">\n",
       "  <thead>\n",
       "    <tr style=\"text-align: right;\">\n",
       "      <th></th>\n",
       "      <th>X</th>\n",
       "      <th>Y</th>\n",
       "      <th>Index_</th>\n",
       "      <th>ACCNUM</th>\n",
       "      <th>YEAR</th>\n",
       "      <th>DATE</th>\n",
       "      <th>TIME</th>\n",
       "      <th>HOUR</th>\n",
       "      <th>STREET1</th>\n",
       "      <th>STREET2</th>\n",
       "      <th>...</th>\n",
       "      <th>SPEEDING</th>\n",
       "      <th>AG_DRIV</th>\n",
       "      <th>REDLIGHT</th>\n",
       "      <th>ALCOHOL</th>\n",
       "      <th>DISABILITY</th>\n",
       "      <th>Hood_ID</th>\n",
       "      <th>Neighbourhood</th>\n",
       "      <th>ObjectId</th>\n",
       "      <th>MONTH</th>\n",
       "      <th>DAY</th>\n",
       "    </tr>\n",
       "  </thead>\n",
       "  <tbody>\n",
       "    <tr>\n",
       "      <th>0</th>\n",
       "      <td>-8.829728e+06</td>\n",
       "      <td>5.419071e+06</td>\n",
       "      <td>3389067</td>\n",
       "      <td>893184</td>\n",
       "      <td>2006</td>\n",
       "      <td>2006-01-01 05:00:00+00:00</td>\n",
       "      <td>236</td>\n",
       "      <td>2</td>\n",
       "      <td>WOODBINE AVE</td>\n",
       "      <td>O CONNOR DR</td>\n",
       "      <td>...</td>\n",
       "      <td>Yes</td>\n",
       "      <td>Yes</td>\n",
       "      <td>NaN</td>\n",
       "      <td>Yes</td>\n",
       "      <td>NaN</td>\n",
       "      <td>60</td>\n",
       "      <td>Woodbine-Lumsden (60)</td>\n",
       "      <td>1</td>\n",
       "      <td>1</td>\n",
       "      <td>1</td>\n",
       "    </tr>\n",
       "    <tr>\n",
       "      <th>1</th>\n",
       "      <td>-8.829728e+06</td>\n",
       "      <td>5.419071e+06</td>\n",
       "      <td>3389068</td>\n",
       "      <td>893184</td>\n",
       "      <td>2006</td>\n",
       "      <td>2006-01-01 05:00:00+00:00</td>\n",
       "      <td>236</td>\n",
       "      <td>2</td>\n",
       "      <td>WOODBINE AVE</td>\n",
       "      <td>O CONNOR DR</td>\n",
       "      <td>...</td>\n",
       "      <td>Yes</td>\n",
       "      <td>Yes</td>\n",
       "      <td>NaN</td>\n",
       "      <td>Yes</td>\n",
       "      <td>NaN</td>\n",
       "      <td>60</td>\n",
       "      <td>Woodbine-Lumsden (60)</td>\n",
       "      <td>2</td>\n",
       "      <td>1</td>\n",
       "      <td>1</td>\n",
       "    </tr>\n",
       "  </tbody>\n",
       "</table>\n",
       "<p>2 rows × 58 columns</p>\n",
       "</div>"
      ],
      "text/plain": [
       "              X             Y   Index_  ACCNUM  YEAR  \\\n",
       "0 -8.829728e+06  5.419071e+06  3389067  893184  2006   \n",
       "1 -8.829728e+06  5.419071e+06  3389068  893184  2006   \n",
       "\n",
       "                       DATE  TIME  HOUR       STREET1      STREET2  ...  \\\n",
       "0 2006-01-01 05:00:00+00:00   236     2  WOODBINE AVE  O CONNOR DR  ...   \n",
       "1 2006-01-01 05:00:00+00:00   236     2  WOODBINE AVE  O CONNOR DR  ...   \n",
       "\n",
       "  SPEEDING AG_DRIV REDLIGHT  ALCOHOL  DISABILITY  Hood_ID  \\\n",
       "0      Yes     Yes      NaN      Yes         NaN       60   \n",
       "1      Yes     Yes      NaN      Yes         NaN       60   \n",
       "\n",
       "           Neighbourhood ObjectId MONTH DAY  \n",
       "0  Woodbine-Lumsden (60)        1     1   1  \n",
       "1  Woodbine-Lumsden (60)        2     1   1  \n",
       "\n",
       "[2 rows x 58 columns]"
      ]
     },
     "execution_count": 511,
     "metadata": {},
     "output_type": "execute_result"
    }
   ],
   "source": [
    "df.head(2)"
   ]
  },
  {
   "cell_type": "code",
   "execution_count": 512,
   "metadata": {},
   "outputs": [
    {
     "data": {
      "text/plain": [
       "0         236\n",
       "1         236\n",
       "2         236\n",
       "3         236\n",
       "4         236\n",
       "         ... \n",
       "16088    2324\n",
       "16089    2324\n",
       "16090    1514\n",
       "16091    1514\n",
       "16092    1514\n",
       "Name: NewTime, Length: 16093, dtype: object"
      ]
     },
     "execution_count": 512,
     "metadata": {},
     "output_type": "execute_result"
    }
   ],
   "source": [
    "df['NewTime'] = df['TIME'].astype(str)\n",
    "df['NewTime']"
   ]
  },
  {
   "cell_type": "code",
   "execution_count": 513,
   "metadata": {},
   "outputs": [
    {
     "data": {
      "text/plain": [
       "0        0236\n",
       "1        0236\n",
       "2        0236\n",
       "3        0236\n",
       "4        0236\n",
       "         ... \n",
       "16088    2324\n",
       "16089    2324\n",
       "16090    1514\n",
       "16091    1514\n",
       "16092    1514\n",
       "Name: NewTime, Length: 16093, dtype: object"
      ]
     },
     "execution_count": 513,
     "metadata": {},
     "output_type": "execute_result"
    }
   ],
   "source": [
    "df['NewTime'].map(lambda x: f'{x:0>4}')"
   ]
  },
  {
   "cell_type": "code",
   "execution_count": 514,
   "metadata": {},
   "outputs": [],
   "source": [
    "df['Hour']=df['NewTime'].str[:2]"
   ]
  },
  {
   "cell_type": "code",
   "execution_count": 515,
   "metadata": {},
   "outputs": [],
   "source": [
    "df['Minutes']=df['NewTime'].str[2:4]"
   ]
  },
  {
   "cell_type": "code",
   "execution_count": 516,
   "metadata": {},
   "outputs": [
    {
     "data": {
      "text/html": [
       "<div>\n",
       "<style scoped>\n",
       "    .dataframe tbody tr th:only-of-type {\n",
       "        vertical-align: middle;\n",
       "    }\n",
       "\n",
       "    .dataframe tbody tr th {\n",
       "        vertical-align: top;\n",
       "    }\n",
       "\n",
       "    .dataframe thead th {\n",
       "        text-align: right;\n",
       "    }\n",
       "</style>\n",
       "<table border=\"1\" class=\"dataframe\">\n",
       "  <thead>\n",
       "    <tr style=\"text-align: right;\">\n",
       "      <th></th>\n",
       "      <th>X</th>\n",
       "      <th>Y</th>\n",
       "      <th>Index_</th>\n",
       "      <th>ACCNUM</th>\n",
       "      <th>YEAR</th>\n",
       "      <th>DATE</th>\n",
       "      <th>TIME</th>\n",
       "      <th>HOUR</th>\n",
       "      <th>STREET1</th>\n",
       "      <th>STREET2</th>\n",
       "      <th>...</th>\n",
       "      <th>ALCOHOL</th>\n",
       "      <th>DISABILITY</th>\n",
       "      <th>Hood_ID</th>\n",
       "      <th>Neighbourhood</th>\n",
       "      <th>ObjectId</th>\n",
       "      <th>MONTH</th>\n",
       "      <th>DAY</th>\n",
       "      <th>NewTime</th>\n",
       "      <th>Hour</th>\n",
       "      <th>Minutes</th>\n",
       "    </tr>\n",
       "  </thead>\n",
       "  <tbody>\n",
       "    <tr>\n",
       "      <th>0</th>\n",
       "      <td>-8.829728e+06</td>\n",
       "      <td>5.419071e+06</td>\n",
       "      <td>3389067</td>\n",
       "      <td>893184</td>\n",
       "      <td>2006</td>\n",
       "      <td>2006-01-01 05:00:00+00:00</td>\n",
       "      <td>236</td>\n",
       "      <td>2</td>\n",
       "      <td>WOODBINE AVE</td>\n",
       "      <td>O CONNOR DR</td>\n",
       "      <td>...</td>\n",
       "      <td>Yes</td>\n",
       "      <td>NaN</td>\n",
       "      <td>60</td>\n",
       "      <td>Woodbine-Lumsden (60)</td>\n",
       "      <td>1</td>\n",
       "      <td>1</td>\n",
       "      <td>1</td>\n",
       "      <td>236</td>\n",
       "      <td>23</td>\n",
       "      <td>6</td>\n",
       "    </tr>\n",
       "    <tr>\n",
       "      <th>1</th>\n",
       "      <td>-8.829728e+06</td>\n",
       "      <td>5.419071e+06</td>\n",
       "      <td>3389068</td>\n",
       "      <td>893184</td>\n",
       "      <td>2006</td>\n",
       "      <td>2006-01-01 05:00:00+00:00</td>\n",
       "      <td>236</td>\n",
       "      <td>2</td>\n",
       "      <td>WOODBINE AVE</td>\n",
       "      <td>O CONNOR DR</td>\n",
       "      <td>...</td>\n",
       "      <td>Yes</td>\n",
       "      <td>NaN</td>\n",
       "      <td>60</td>\n",
       "      <td>Woodbine-Lumsden (60)</td>\n",
       "      <td>2</td>\n",
       "      <td>1</td>\n",
       "      <td>1</td>\n",
       "      <td>236</td>\n",
       "      <td>23</td>\n",
       "      <td>6</td>\n",
       "    </tr>\n",
       "    <tr>\n",
       "      <th>2</th>\n",
       "      <td>-8.829728e+06</td>\n",
       "      <td>5.419071e+06</td>\n",
       "      <td>3389069</td>\n",
       "      <td>893184</td>\n",
       "      <td>2006</td>\n",
       "      <td>2006-01-01 05:00:00+00:00</td>\n",
       "      <td>236</td>\n",
       "      <td>2</td>\n",
       "      <td>WOODBINE AVE</td>\n",
       "      <td>O CONNOR DR</td>\n",
       "      <td>...</td>\n",
       "      <td>Yes</td>\n",
       "      <td>NaN</td>\n",
       "      <td>60</td>\n",
       "      <td>Woodbine-Lumsden (60)</td>\n",
       "      <td>3</td>\n",
       "      <td>1</td>\n",
       "      <td>1</td>\n",
       "      <td>236</td>\n",
       "      <td>23</td>\n",
       "      <td>6</td>\n",
       "    </tr>\n",
       "    <tr>\n",
       "      <th>3</th>\n",
       "      <td>-8.829728e+06</td>\n",
       "      <td>5.419071e+06</td>\n",
       "      <td>3389070</td>\n",
       "      <td>893184</td>\n",
       "      <td>2006</td>\n",
       "      <td>2006-01-01 05:00:00+00:00</td>\n",
       "      <td>236</td>\n",
       "      <td>2</td>\n",
       "      <td>WOODBINE AVE</td>\n",
       "      <td>O CONNOR DR</td>\n",
       "      <td>...</td>\n",
       "      <td>Yes</td>\n",
       "      <td>NaN</td>\n",
       "      <td>60</td>\n",
       "      <td>Woodbine-Lumsden (60)</td>\n",
       "      <td>4</td>\n",
       "      <td>1</td>\n",
       "      <td>1</td>\n",
       "      <td>236</td>\n",
       "      <td>23</td>\n",
       "      <td>6</td>\n",
       "    </tr>\n",
       "    <tr>\n",
       "      <th>4</th>\n",
       "      <td>-8.829728e+06</td>\n",
       "      <td>5.419071e+06</td>\n",
       "      <td>3389071</td>\n",
       "      <td>893184</td>\n",
       "      <td>2006</td>\n",
       "      <td>2006-01-01 05:00:00+00:00</td>\n",
       "      <td>236</td>\n",
       "      <td>2</td>\n",
       "      <td>WOODBINE AVE</td>\n",
       "      <td>O CONNOR DR</td>\n",
       "      <td>...</td>\n",
       "      <td>Yes</td>\n",
       "      <td>NaN</td>\n",
       "      <td>60</td>\n",
       "      <td>Woodbine-Lumsden (60)</td>\n",
       "      <td>5</td>\n",
       "      <td>1</td>\n",
       "      <td>1</td>\n",
       "      <td>236</td>\n",
       "      <td>23</td>\n",
       "      <td>6</td>\n",
       "    </tr>\n",
       "  </tbody>\n",
       "</table>\n",
       "<p>5 rows × 61 columns</p>\n",
       "</div>"
      ],
      "text/plain": [
       "              X             Y   Index_  ACCNUM  YEAR  \\\n",
       "0 -8.829728e+06  5.419071e+06  3389067  893184  2006   \n",
       "1 -8.829728e+06  5.419071e+06  3389068  893184  2006   \n",
       "2 -8.829728e+06  5.419071e+06  3389069  893184  2006   \n",
       "3 -8.829728e+06  5.419071e+06  3389070  893184  2006   \n",
       "4 -8.829728e+06  5.419071e+06  3389071  893184  2006   \n",
       "\n",
       "                       DATE  TIME  HOUR       STREET1      STREET2  ...  \\\n",
       "0 2006-01-01 05:00:00+00:00   236     2  WOODBINE AVE  O CONNOR DR  ...   \n",
       "1 2006-01-01 05:00:00+00:00   236     2  WOODBINE AVE  O CONNOR DR  ...   \n",
       "2 2006-01-01 05:00:00+00:00   236     2  WOODBINE AVE  O CONNOR DR  ...   \n",
       "3 2006-01-01 05:00:00+00:00   236     2  WOODBINE AVE  O CONNOR DR  ...   \n",
       "4 2006-01-01 05:00:00+00:00   236     2  WOODBINE AVE  O CONNOR DR  ...   \n",
       "\n",
       "  ALCOHOL DISABILITY Hood_ID          Neighbourhood  ObjectId  MONTH  DAY  \\\n",
       "0     Yes        NaN      60  Woodbine-Lumsden (60)         1      1    1   \n",
       "1     Yes        NaN      60  Woodbine-Lumsden (60)         2      1    1   \n",
       "2     Yes        NaN      60  Woodbine-Lumsden (60)         3      1    1   \n",
       "3     Yes        NaN      60  Woodbine-Lumsden (60)         4      1    1   \n",
       "4     Yes        NaN      60  Woodbine-Lumsden (60)         5      1    1   \n",
       "\n",
       "  NewTime Hour Minutes  \n",
       "0     236   23       6  \n",
       "1     236   23       6  \n",
       "2     236   23       6  \n",
       "3     236   23       6  \n",
       "4     236   23       6  \n",
       "\n",
       "[5 rows x 61 columns]"
      ]
     },
     "execution_count": 516,
     "metadata": {},
     "output_type": "execute_result"
    }
   ],
   "source": [
    "df.head(5)"
   ]
  },
  {
   "cell_type": "code",
   "execution_count": 517,
   "metadata": {},
   "outputs": [],
   "source": [
    "#Dropped Date, Time and Hour columns\n",
    "df.drop(['DATE', 'TIME', 'HOUR'], axis=1, inplace=True)"
   ]
  },
  {
   "cell_type": "code",
   "execution_count": 518,
   "metadata": {},
   "outputs": [],
   "source": [
    "df.drop(['NewTime'], axis=1, inplace=True)"
   ]
  },
  {
   "cell_type": "code",
   "execution_count": 519,
   "metadata": {},
   "outputs": [
    {
     "data": {
      "text/html": [
       "<div>\n",
       "<style scoped>\n",
       "    .dataframe tbody tr th:only-of-type {\n",
       "        vertical-align: middle;\n",
       "    }\n",
       "\n",
       "    .dataframe tbody tr th {\n",
       "        vertical-align: top;\n",
       "    }\n",
       "\n",
       "    .dataframe thead th {\n",
       "        text-align: right;\n",
       "    }\n",
       "</style>\n",
       "<table border=\"1\" class=\"dataframe\">\n",
       "  <thead>\n",
       "    <tr style=\"text-align: right;\">\n",
       "      <th></th>\n",
       "      <th>X</th>\n",
       "      <th>Y</th>\n",
       "      <th>Index_</th>\n",
       "      <th>ACCNUM</th>\n",
       "      <th>YEAR</th>\n",
       "      <th>STREET1</th>\n",
       "      <th>STREET2</th>\n",
       "      <th>OFFSET</th>\n",
       "      <th>ROAD_CLASS</th>\n",
       "      <th>District</th>\n",
       "      <th>...</th>\n",
       "      <th>REDLIGHT</th>\n",
       "      <th>ALCOHOL</th>\n",
       "      <th>DISABILITY</th>\n",
       "      <th>Hood_ID</th>\n",
       "      <th>Neighbourhood</th>\n",
       "      <th>ObjectId</th>\n",
       "      <th>MONTH</th>\n",
       "      <th>DAY</th>\n",
       "      <th>Hour</th>\n",
       "      <th>Minutes</th>\n",
       "    </tr>\n",
       "  </thead>\n",
       "  <tbody>\n",
       "    <tr>\n",
       "      <th>0</th>\n",
       "      <td>-8.829728e+06</td>\n",
       "      <td>5.419071e+06</td>\n",
       "      <td>3389067</td>\n",
       "      <td>893184</td>\n",
       "      <td>2006</td>\n",
       "      <td>WOODBINE AVE</td>\n",
       "      <td>O CONNOR DR</td>\n",
       "      <td>NaN</td>\n",
       "      <td>Major Arterial</td>\n",
       "      <td>Toronto and East York</td>\n",
       "      <td>...</td>\n",
       "      <td>NaN</td>\n",
       "      <td>Yes</td>\n",
       "      <td>NaN</td>\n",
       "      <td>60</td>\n",
       "      <td>Woodbine-Lumsden (60)</td>\n",
       "      <td>1</td>\n",
       "      <td>1</td>\n",
       "      <td>1</td>\n",
       "      <td>23</td>\n",
       "      <td>6</td>\n",
       "    </tr>\n",
       "  </tbody>\n",
       "</table>\n",
       "<p>1 rows × 57 columns</p>\n",
       "</div>"
      ],
      "text/plain": [
       "              X             Y   Index_  ACCNUM  YEAR       STREET1  \\\n",
       "0 -8.829728e+06  5.419071e+06  3389067  893184  2006  WOODBINE AVE   \n",
       "\n",
       "       STREET2 OFFSET      ROAD_CLASS               District  ...  REDLIGHT  \\\n",
       "0  O CONNOR DR    NaN  Major Arterial  Toronto and East York  ...       NaN   \n",
       "\n",
       "   ALCOHOL  DISABILITY  Hood_ID          Neighbourhood ObjectId MONTH DAY  \\\n",
       "0      Yes         NaN       60  Woodbine-Lumsden (60)        1     1   1   \n",
       "\n",
       "  Hour Minutes  \n",
       "0   23       6  \n",
       "\n",
       "[1 rows x 57 columns]"
      ]
     },
     "execution_count": 519,
     "metadata": {},
     "output_type": "execute_result"
    }
   ],
   "source": [
    "df.head(1)"
   ]
  },
  {
   "cell_type": "code",
   "execution_count": 520,
   "metadata": {},
   "outputs": [
    {
     "data": {
      "text/plain": [
       "<matplotlib.axes._subplots.AxesSubplot at 0x22802c3aa48>"
      ]
     },
     "execution_count": 520,
     "metadata": {},
     "output_type": "execute_result"
    },
    {
     "data": {
      "image/png": "[encoded data removed]",
      "text/plain": [
       "<Figure size 432x288 with 1 Axes>"
      ]
     },
     "metadata": {
      "needs_background": "light"
     },
     "output_type": "display_data"
    }
   ],
   "source": [
    "sns.heatmap(df.isnull(),yticklabels=False, cbar=False,cmap='viridis')"
   ]
  },
  {
   "cell_type": "code",
   "execution_count": 521,
   "metadata": {},
   "outputs": [],
   "source": [
    "# X & Y are identical to longtitute and Latitute, therefore removing the unnecessary columns from the dataset.\n",
    "df.drop(['X','Y'],axis=1, inplace=True)"
   ]
  },
  {
   "cell_type": "code",
   "execution_count": 522,
   "metadata": {},
   "outputs": [
    {
     "data": {
      "text/plain": [
       "Index(['Index_', 'ACCNUM', 'YEAR', 'STREET1', 'STREET2', 'OFFSET',\n",
       "       'ROAD_CLASS', 'District', 'WardNum', 'Division', 'LATITUDE',\n",
       "       'LONGITUDE', 'LOCCOORD', 'ACCLOC', 'TRAFFCTL', 'VISIBILITY', 'LIGHT',\n",
       "       'RDSFCOND', 'ACCLASS', 'IMPACTYPE', 'INVTYPE', 'INVAGE', 'INJURY',\n",
       "       'FATAL_NO', 'INITDIR', 'VEHTYPE', 'MANOEUVER', 'DRIVACT', 'DRIVCOND',\n",
       "       'PEDTYPE', 'PEDACT', 'PEDCOND', 'CYCLISTYPE', 'CYCACT', 'CYCCOND',\n",
       "       'PEDESTRIAN', 'CYCLIST', 'AUTOMOBILE', 'MOTORCYCLE', 'TRUCK',\n",
       "       'TRSN_CITY_VEH', 'EMERG_VEH', 'PASSENGER', 'SPEEDING', 'AG_DRIV',\n",
       "       'REDLIGHT', 'ALCOHOL', 'DISABILITY', 'Hood_ID', 'Neighbourhood',\n",
       "       'ObjectId', 'MONTH', 'DAY', 'Hour', 'Minutes'],\n",
       "      dtype='object')"
      ]
     },
     "execution_count": 522,
     "metadata": {},
     "output_type": "execute_result"
    }
   ],
   "source": [
    "df.columns"
   ]
  },
  {
   "cell_type": "code",
   "execution_count": 523,
   "metadata": {},
   "outputs": [
    {
     "data": {
      "text/plain": [
       "array(['Toronto and East York', 'North York', 'Scarborough',\n",
       "       'Etobicoke York', nan], dtype=object)"
      ]
     },
     "execution_count": 523,
     "metadata": {},
     "output_type": "execute_result"
    }
   ],
   "source": [
    "df['District'].unique()"
   ]
  },
  {
   "cell_type": "code",
   "execution_count": 524,
   "metadata": {},
   "outputs": [
    {
     "data": {
      "text/html": [
       "<div>\n",
       "<style scoped>\n",
       "    .dataframe tbody tr th:only-of-type {\n",
       "        vertical-align: middle;\n",
       "    }\n",
       "\n",
       "    .dataframe tbody tr th {\n",
       "        vertical-align: top;\n",
       "    }\n",
       "\n",
       "    .dataframe thead th {\n",
       "        text-align: right;\n",
       "    }\n",
       "</style>\n",
       "<table border=\"1\" class=\"dataframe\">\n",
       "  <thead>\n",
       "    <tr style=\"text-align: right;\">\n",
       "      <th></th>\n",
       "      <th>Division</th>\n",
       "      <th>District</th>\n",
       "      <th>Hood_ID</th>\n",
       "      <th>TRSN_CITY_VEH</th>\n",
       "      <th>WardNum</th>\n",
       "      <th>Neighbourhood</th>\n",
       "    </tr>\n",
       "  </thead>\n",
       "  <tbody>\n",
       "    <tr>\n",
       "      <th>0</th>\n",
       "      <td>54</td>\n",
       "      <td>Toronto and East York</td>\n",
       "      <td>60</td>\n",
       "      <td>NaN</td>\n",
       "      <td>19.0</td>\n",
       "      <td>Woodbine-Lumsden (60)</td>\n",
       "    </tr>\n",
       "    <tr>\n",
       "      <th>1</th>\n",
       "      <td>54</td>\n",
       "      <td>Toronto and East York</td>\n",
       "      <td>60</td>\n",
       "      <td>NaN</td>\n",
       "      <td>19.0</td>\n",
       "      <td>Woodbine-Lumsden (60)</td>\n",
       "    </tr>\n",
       "    <tr>\n",
       "      <th>2</th>\n",
       "      <td>54</td>\n",
       "      <td>Toronto and East York</td>\n",
       "      <td>60</td>\n",
       "      <td>NaN</td>\n",
       "      <td>19.0</td>\n",
       "      <td>Woodbine-Lumsden (60)</td>\n",
       "    </tr>\n",
       "    <tr>\n",
       "      <th>3</th>\n",
       "      <td>54</td>\n",
       "      <td>Toronto and East York</td>\n",
       "      <td>60</td>\n",
       "      <td>NaN</td>\n",
       "      <td>19.0</td>\n",
       "      <td>Woodbine-Lumsden (60)</td>\n",
       "    </tr>\n",
       "    <tr>\n",
       "      <th>4</th>\n",
       "      <td>54</td>\n",
       "      <td>Toronto and East York</td>\n",
       "      <td>60</td>\n",
       "      <td>NaN</td>\n",
       "      <td>19.0</td>\n",
       "      <td>Woodbine-Lumsden (60)</td>\n",
       "    </tr>\n",
       "    <tr>\n",
       "      <th>...</th>\n",
       "      <td>...</td>\n",
       "      <td>...</td>\n",
       "      <td>...</td>\n",
       "      <td>...</td>\n",
       "      <td>...</td>\n",
       "      <td>...</td>\n",
       "    </tr>\n",
       "    <tr>\n",
       "      <th>16088</th>\n",
       "      <td>31</td>\n",
       "      <td>Etobicoke York</td>\n",
       "      <td>25</td>\n",
       "      <td>NaN</td>\n",
       "      <td>7.0</td>\n",
       "      <td>Glenfield-Jane Heights (25)</td>\n",
       "    </tr>\n",
       "    <tr>\n",
       "      <th>16089</th>\n",
       "      <td>31</td>\n",
       "      <td>Etobicoke York</td>\n",
       "      <td>25</td>\n",
       "      <td>NaN</td>\n",
       "      <td>7.0</td>\n",
       "      <td>Glenfield-Jane Heights (25)</td>\n",
       "    </tr>\n",
       "    <tr>\n",
       "      <th>16090</th>\n",
       "      <td>52</td>\n",
       "      <td>Toronto and East York</td>\n",
       "      <td>76</td>\n",
       "      <td>NaN</td>\n",
       "      <td>11.0</td>\n",
       "      <td>Bay Street Corridor (76)</td>\n",
       "    </tr>\n",
       "    <tr>\n",
       "      <th>16091</th>\n",
       "      <td>52</td>\n",
       "      <td>Toronto and East York</td>\n",
       "      <td>76</td>\n",
       "      <td>NaN</td>\n",
       "      <td>11.0</td>\n",
       "      <td>Bay Street Corridor (76)</td>\n",
       "    </tr>\n",
       "    <tr>\n",
       "      <th>16092</th>\n",
       "      <td>52</td>\n",
       "      <td>Toronto and East York</td>\n",
       "      <td>76</td>\n",
       "      <td>NaN</td>\n",
       "      <td>11.0</td>\n",
       "      <td>Bay Street Corridor (76)</td>\n",
       "    </tr>\n",
       "  </tbody>\n",
       "</table>\n",
       "<p>16093 rows × 6 columns</p>\n",
       "</div>"
      ],
      "text/plain": [
       "       Division               District  Hood_ID TRSN_CITY_VEH  WardNum  \\\n",
       "0            54  Toronto and East York       60           NaN     19.0   \n",
       "1            54  Toronto and East York       60           NaN     19.0   \n",
       "2            54  Toronto and East York       60           NaN     19.0   \n",
       "3            54  Toronto and East York       60           NaN     19.0   \n",
       "4            54  Toronto and East York       60           NaN     19.0   \n",
       "...         ...                    ...      ...           ...      ...   \n",
       "16088        31         Etobicoke York       25           NaN      7.0   \n",
       "16089        31         Etobicoke York       25           NaN      7.0   \n",
       "16090        52  Toronto and East York       76           NaN     11.0   \n",
       "16091        52  Toronto and East York       76           NaN     11.0   \n",
       "16092        52  Toronto and East York       76           NaN     11.0   \n",
       "\n",
       "                     Neighbourhood  \n",
       "0            Woodbine-Lumsden (60)  \n",
       "1            Woodbine-Lumsden (60)  \n",
       "2            Woodbine-Lumsden (60)  \n",
       "3            Woodbine-Lumsden (60)  \n",
       "4            Woodbine-Lumsden (60)  \n",
       "...                            ...  \n",
       "16088  Glenfield-Jane Heights (25)  \n",
       "16089  Glenfield-Jane Heights (25)  \n",
       "16090     Bay Street Corridor (76)  \n",
       "16091     Bay Street Corridor (76)  \n",
       "16092     Bay Street Corridor (76)  \n",
       "\n",
       "[16093 rows x 6 columns]"
      ]
     },
     "execution_count": 524,
     "metadata": {},
     "output_type": "execute_result"
    }
   ],
   "source": [
    "#Start off with the location \n",
    "df[['Division','District','Hood_ID','TRSN_CITY_VEH','WardNum','Neighbourhood']]"
   ]
  },
  {
   "cell_type": "code",
   "execution_count": 525,
   "metadata": {},
   "outputs": [
    {
     "data": {
      "text/plain": [
       "ACCNUM         0\n",
       "YEAR           0\n",
       "STREET1        0\n",
       "STREET2     1395\n",
       "OFFSET     13705\n",
       "dtype: int64"
      ]
     },
     "execution_count": 525,
     "metadata": {},
     "output_type": "execute_result"
    }
   ],
   "source": [
    "df[['ACCNUM', 'YEAR', 'STREET1', 'STREET2', 'OFFSET']].isnull().sum()"
   ]
  },
  {
   "cell_type": "code",
   "execution_count": 526,
   "metadata": {},
   "outputs": [
    {
     "data": {
      "text/plain": [
       "ACCNUM               0\n",
       "YEAR                 0\n",
       "STREET1              0\n",
       "STREET2           1395\n",
       "OFFSET           13705\n",
       "Neighbourhood        0\n",
       "District            13\n",
       "WardNum           2298\n",
       "Hood_ID              0\n",
       "Division             0\n",
       "dtype: int64"
      ]
     },
     "execution_count": 526,
     "metadata": {},
     "output_type": "execute_result"
    }
   ],
   "source": [
    "df[['ACCNUM', 'YEAR', 'STREET1', 'STREET2', 'OFFSET','Neighbourhood','District','WardNum','Hood_ID','Division']].isnull().sum()"
   ]
  },
  {
   "cell_type": "code",
   "execution_count": 527,
   "metadata": {},
   "outputs": [],
   "source": [
    "#Since I am using the Neighbourhood and District Columns for my analysis. For that reason, I am going to drop the Street, Hood_ID, OFFSET, Division & WardNum\n",
    "df.drop(['STREET1', 'STREET2','OFFSET','WardNum','Hood_ID','Division'],axis=1, inplace=True)"
   ]
  },
  {
   "cell_type": "code",
   "execution_count": 528,
   "metadata": {},
   "outputs": [
    {
     "data": {
      "text/plain": [
       "Index(['Index_', 'ACCNUM', 'YEAR', 'ROAD_CLASS', 'District', 'LATITUDE',\n",
       "       'LONGITUDE', 'LOCCOORD', 'ACCLOC', 'TRAFFCTL', 'VISIBILITY', 'LIGHT',\n",
       "       'RDSFCOND', 'ACCLASS', 'IMPACTYPE', 'INVTYPE', 'INVAGE', 'INJURY',\n",
       "       'FATAL_NO', 'INITDIR', 'VEHTYPE', 'MANOEUVER', 'DRIVACT', 'DRIVCOND',\n",
       "       'PEDTYPE', 'PEDACT', 'PEDCOND', 'CYCLISTYPE', 'CYCACT', 'CYCCOND',\n",
       "       'PEDESTRIAN', 'CYCLIST', 'AUTOMOBILE', 'MOTORCYCLE', 'TRUCK',\n",
       "       'TRSN_CITY_VEH', 'EMERG_VEH', 'PASSENGER', 'SPEEDING', 'AG_DRIV',\n",
       "       'REDLIGHT', 'ALCOHOL', 'DISABILITY', 'Neighbourhood', 'ObjectId',\n",
       "       'MONTH', 'DAY', 'Hour', 'Minutes'],\n",
       "      dtype='object')"
      ]
     },
     "execution_count": 528,
     "metadata": {},
     "output_type": "execute_result"
    }
   ],
   "source": [
    "df.columns"
   ]
  },
  {
   "cell_type": "code",
   "execution_count": 529,
   "metadata": {},
   "outputs": [
    {
     "data": {
      "text/plain": [
       "(16093, 49)"
      ]
     },
     "execution_count": 529,
     "metadata": {},
     "output_type": "execute_result"
    }
   ],
   "source": [
    "df.shape"
   ]
  },
  {
   "cell_type": "code",
   "execution_count": 530,
   "metadata": {},
   "outputs": [
    {
     "data": {
      "text/html": [
       "<div>\n",
       "<style scoped>\n",
       "    .dataframe tbody tr th:only-of-type {\n",
       "        vertical-align: middle;\n",
       "    }\n",
       "\n",
       "    .dataframe tbody tr th {\n",
       "        vertical-align: top;\n",
       "    }\n",
       "\n",
       "    .dataframe thead th {\n",
       "        text-align: right;\n",
       "    }\n",
       "</style>\n",
       "<table border=\"1\" class=\"dataframe\">\n",
       "  <thead>\n",
       "    <tr style=\"text-align: right;\">\n",
       "      <th></th>\n",
       "      <th>ROAD_CLASS</th>\n",
       "      <th>LOCCOORD</th>\n",
       "      <th>ACCLOC</th>\n",
       "      <th>TRAFFCTL</th>\n",
       "      <th>VISIBILITY</th>\n",
       "      <th>LIGHT</th>\n",
       "      <th>RDSFCOND</th>\n",
       "      <th>ACCLASS</th>\n",
       "    </tr>\n",
       "  </thead>\n",
       "  <tbody>\n",
       "    <tr>\n",
       "      <th>0</th>\n",
       "      <td>Major Arterial</td>\n",
       "      <td>Intersection</td>\n",
       "      <td>Intersection Related</td>\n",
       "      <td>No Control</td>\n",
       "      <td>Clear</td>\n",
       "      <td>Dark</td>\n",
       "      <td>Wet</td>\n",
       "      <td>Non-Fatal Injury</td>\n",
       "    </tr>\n",
       "    <tr>\n",
       "      <th>1</th>\n",
       "      <td>Major Arterial</td>\n",
       "      <td>Intersection</td>\n",
       "      <td>Intersection Related</td>\n",
       "      <td>No Control</td>\n",
       "      <td>Clear</td>\n",
       "      <td>Dark</td>\n",
       "      <td>Wet</td>\n",
       "      <td>Non-Fatal Injury</td>\n",
       "    </tr>\n",
       "    <tr>\n",
       "      <th>2</th>\n",
       "      <td>Major Arterial</td>\n",
       "      <td>Intersection</td>\n",
       "      <td>Intersection Related</td>\n",
       "      <td>No Control</td>\n",
       "      <td>Clear</td>\n",
       "      <td>Dark</td>\n",
       "      <td>Wet</td>\n",
       "      <td>Non-Fatal Injury</td>\n",
       "    </tr>\n",
       "    <tr>\n",
       "      <th>3</th>\n",
       "      <td>Major Arterial</td>\n",
       "      <td>Intersection</td>\n",
       "      <td>Intersection Related</td>\n",
       "      <td>No Control</td>\n",
       "      <td>Clear</td>\n",
       "      <td>Dark</td>\n",
       "      <td>Wet</td>\n",
       "      <td>Non-Fatal Injury</td>\n",
       "    </tr>\n",
       "    <tr>\n",
       "      <th>4</th>\n",
       "      <td>Major Arterial</td>\n",
       "      <td>Intersection</td>\n",
       "      <td>Intersection Related</td>\n",
       "      <td>No Control</td>\n",
       "      <td>Clear</td>\n",
       "      <td>Dark</td>\n",
       "      <td>Wet</td>\n",
       "      <td>Non-Fatal Injury</td>\n",
       "    </tr>\n",
       "    <tr>\n",
       "      <th>5</th>\n",
       "      <td>Major Arterial</td>\n",
       "      <td>Intersection</td>\n",
       "      <td>Intersection Related</td>\n",
       "      <td>No Control</td>\n",
       "      <td>Clear</td>\n",
       "      <td>Dark</td>\n",
       "      <td>Wet</td>\n",
       "      <td>Non-Fatal Injury</td>\n",
       "    </tr>\n",
       "    <tr>\n",
       "      <th>6</th>\n",
       "      <td>Major Arterial</td>\n",
       "      <td>Intersection</td>\n",
       "      <td>Intersection Related</td>\n",
       "      <td>No Control</td>\n",
       "      <td>Clear</td>\n",
       "      <td>Dark</td>\n",
       "      <td>Wet</td>\n",
       "      <td>Non-Fatal Injury</td>\n",
       "    </tr>\n",
       "    <tr>\n",
       "      <th>7</th>\n",
       "      <td>Major Arterial</td>\n",
       "      <td>Intersection</td>\n",
       "      <td>Intersection Related</td>\n",
       "      <td>No Control</td>\n",
       "      <td>Clear</td>\n",
       "      <td>Dark</td>\n",
       "      <td>Wet</td>\n",
       "      <td>Non-Fatal Injury</td>\n",
       "    </tr>\n",
       "    <tr>\n",
       "      <th>8</th>\n",
       "      <td>Major Arterial</td>\n",
       "      <td>Intersection</td>\n",
       "      <td>Intersection Related</td>\n",
       "      <td>No Control</td>\n",
       "      <td>Snow</td>\n",
       "      <td>Dark, artificial</td>\n",
       "      <td>Slush</td>\n",
       "      <td>Non-Fatal Injury</td>\n",
       "    </tr>\n",
       "    <tr>\n",
       "      <th>9</th>\n",
       "      <td>Major Arterial</td>\n",
       "      <td>Intersection</td>\n",
       "      <td>Intersection Related</td>\n",
       "      <td>No Control</td>\n",
       "      <td>Snow</td>\n",
       "      <td>Dark, artificial</td>\n",
       "      <td>Slush</td>\n",
       "      <td>Non-Fatal Injury</td>\n",
       "    </tr>\n",
       "    <tr>\n",
       "      <th>10</th>\n",
       "      <td>Major Arterial</td>\n",
       "      <td>Intersection</td>\n",
       "      <td>Intersection Related</td>\n",
       "      <td>No Control</td>\n",
       "      <td>Snow</td>\n",
       "      <td>Dark, artificial</td>\n",
       "      <td>Slush</td>\n",
       "      <td>Non-Fatal Injury</td>\n",
       "    </tr>\n",
       "    <tr>\n",
       "      <th>11</th>\n",
       "      <td>Major Arterial</td>\n",
       "      <td>Intersection</td>\n",
       "      <td>Intersection Related</td>\n",
       "      <td>No Control</td>\n",
       "      <td>Snow</td>\n",
       "      <td>Dark, artificial</td>\n",
       "      <td>Slush</td>\n",
       "      <td>Non-Fatal Injury</td>\n",
       "    </tr>\n",
       "    <tr>\n",
       "      <th>12</th>\n",
       "      <td>Major Arterial</td>\n",
       "      <td>Intersection</td>\n",
       "      <td>Intersection Related</td>\n",
       "      <td>No Control</td>\n",
       "      <td>Snow</td>\n",
       "      <td>Dark, artificial</td>\n",
       "      <td>Slush</td>\n",
       "      <td>Non-Fatal Injury</td>\n",
       "    </tr>\n",
       "    <tr>\n",
       "      <th>13</th>\n",
       "      <td>Major Arterial</td>\n",
       "      <td>Mid-Block</td>\n",
       "      <td>NaN</td>\n",
       "      <td>No Control</td>\n",
       "      <td>Other</td>\n",
       "      <td>Dark, artificial</td>\n",
       "      <td>Wet</td>\n",
       "      <td>Non-Fatal Injury</td>\n",
       "    </tr>\n",
       "    <tr>\n",
       "      <th>14</th>\n",
       "      <td>Major Arterial</td>\n",
       "      <td>Mid-Block</td>\n",
       "      <td>NaN</td>\n",
       "      <td>No Control</td>\n",
       "      <td>Other</td>\n",
       "      <td>Dark, artificial</td>\n",
       "      <td>Wet</td>\n",
       "      <td>Non-Fatal Injury</td>\n",
       "    </tr>\n",
       "    <tr>\n",
       "      <th>15</th>\n",
       "      <td>Major Arterial</td>\n",
       "      <td>Mid-Block</td>\n",
       "      <td>At Intersection</td>\n",
       "      <td>Traffic Signal</td>\n",
       "      <td>Rain</td>\n",
       "      <td>Dark</td>\n",
       "      <td>Wet</td>\n",
       "      <td>Non-Fatal Injury</td>\n",
       "    </tr>\n",
       "    <tr>\n",
       "      <th>16</th>\n",
       "      <td>Major Arterial</td>\n",
       "      <td>Mid-Block</td>\n",
       "      <td>At Intersection</td>\n",
       "      <td>Traffic Signal</td>\n",
       "      <td>Rain</td>\n",
       "      <td>Dark</td>\n",
       "      <td>Wet</td>\n",
       "      <td>Non-Fatal Injury</td>\n",
       "    </tr>\n",
       "    <tr>\n",
       "      <th>17</th>\n",
       "      <td>Major Arterial</td>\n",
       "      <td>Intersection</td>\n",
       "      <td>At Intersection</td>\n",
       "      <td>Traffic Signal</td>\n",
       "      <td>Clear</td>\n",
       "      <td>Dark, artificial</td>\n",
       "      <td>Dry</td>\n",
       "      <td>Non-Fatal Injury</td>\n",
       "    </tr>\n",
       "    <tr>\n",
       "      <th>18</th>\n",
       "      <td>Major Arterial</td>\n",
       "      <td>Intersection</td>\n",
       "      <td>At Intersection</td>\n",
       "      <td>Traffic Signal</td>\n",
       "      <td>Clear</td>\n",
       "      <td>Dark, artificial</td>\n",
       "      <td>Dry</td>\n",
       "      <td>Non-Fatal Injury</td>\n",
       "    </tr>\n",
       "    <tr>\n",
       "      <th>19</th>\n",
       "      <td>Minor Arterial</td>\n",
       "      <td>Mid-Block</td>\n",
       "      <td>NaN</td>\n",
       "      <td>No Control</td>\n",
       "      <td>Clear</td>\n",
       "      <td>Dark</td>\n",
       "      <td>Wet</td>\n",
       "      <td>Fatal</td>\n",
       "    </tr>\n",
       "  </tbody>\n",
       "</table>\n",
       "</div>"
      ],
      "text/plain": [
       "        ROAD_CLASS      LOCCOORD                ACCLOC        TRAFFCTL  \\\n",
       "0   Major Arterial  Intersection  Intersection Related      No Control   \n",
       "1   Major Arterial  Intersection  Intersection Related      No Control   \n",
       "2   Major Arterial  Intersection  Intersection Related      No Control   \n",
       "3   Major Arterial  Intersection  Intersection Related      No Control   \n",
       "4   Major Arterial  Intersection  Intersection Related      No Control   \n",
       "5   Major Arterial  Intersection  Intersection Related      No Control   \n",
       "6   Major Arterial  Intersection  Intersection Related      No Control   \n",
       "7   Major Arterial  Intersection  Intersection Related      No Control   \n",
       "8   Major Arterial  Intersection  Intersection Related      No Control   \n",
       "9   Major Arterial  Intersection  Intersection Related      No Control   \n",
       "10  Major Arterial  Intersection  Intersection Related      No Control   \n",
       "11  Major Arterial  Intersection  Intersection Related      No Control   \n",
       "12  Major Arterial  Intersection  Intersection Related      No Control   \n",
       "13  Major Arterial     Mid-Block                   NaN      No Control   \n",
       "14  Major Arterial     Mid-Block                   NaN      No Control   \n",
       "15  Major Arterial     Mid-Block       At Intersection  Traffic Signal   \n",
       "16  Major Arterial     Mid-Block       At Intersection  Traffic Signal   \n",
       "17  Major Arterial  Intersection       At Intersection  Traffic Signal   \n",
       "18  Major Arterial  Intersection       At Intersection  Traffic Signal   \n",
       "19  Minor Arterial     Mid-Block                   NaN      No Control   \n",
       "\n",
       "   VISIBILITY             LIGHT RDSFCOND           ACCLASS  \n",
       "0       Clear              Dark      Wet  Non-Fatal Injury  \n",
       "1       Clear              Dark      Wet  Non-Fatal Injury  \n",
       "2       Clear              Dark      Wet  Non-Fatal Injury  \n",
       "3       Clear              Dark      Wet  Non-Fatal Injury  \n",
       "4       Clear              Dark      Wet  Non-Fatal Injury  \n",
       "5       Clear              Dark      Wet  Non-Fatal Injury  \n",
       "6       Clear              Dark      Wet  Non-Fatal Injury  \n",
       "7       Clear              Dark      Wet  Non-Fatal Injury  \n",
       "8        Snow  Dark, artificial    Slush  Non-Fatal Injury  \n",
       "9        Snow  Dark, artificial    Slush  Non-Fatal Injury  \n",
       "10       Snow  Dark, artificial    Slush  Non-Fatal Injury  \n",
       "11       Snow  Dark, artificial    Slush  Non-Fatal Injury  \n",
       "12       Snow  Dark, artificial    Slush  Non-Fatal Injury  \n",
       "13      Other  Dark, artificial      Wet  Non-Fatal Injury  \n",
       "14      Other  Dark, artificial      Wet  Non-Fatal Injury  \n",
       "15       Rain              Dark      Wet  Non-Fatal Injury  \n",
       "16       Rain              Dark      Wet  Non-Fatal Injury  \n",
       "17      Clear  Dark, artificial      Dry  Non-Fatal Injury  \n",
       "18      Clear  Dark, artificial      Dry  Non-Fatal Injury  \n",
       "19      Clear              Dark      Wet             Fatal  "
      ]
     },
     "execution_count": 530,
     "metadata": {},
     "output_type": "execute_result"
    }
   ],
   "source": [
    "df[['ROAD_CLASS','LOCCOORD', 'ACCLOC', 'TRAFFCTL', 'VISIBILITY', 'LIGHT',\n",
    "       'RDSFCOND', 'ACCLASS']].head(20)"
   ]
  },
  {
   "cell_type": "code",
   "execution_count": 531,
   "metadata": {},
   "outputs": [
    {
     "data": {
      "text/plain": [
       "ROAD_CLASS     368\n",
       "LOCCOORD       130\n",
       "ACCLOC        5450\n",
       "TRAFFCTL        29\n",
       "VISIBILITY      22\n",
       "LIGHT            0\n",
       "RDSFCOND        27\n",
       "ACCLASS          0\n",
       "dtype: int64"
      ]
     },
     "execution_count": 531,
     "metadata": {},
     "output_type": "execute_result"
    }
   ],
   "source": [
    "df[['ROAD_CLASS','LOCCOORD', 'ACCLOC', 'TRAFFCTL', 'VISIBILITY', 'LIGHT',\n",
    "       'RDSFCOND', 'ACCLASS']].isnull().sum()"
   ]
  },
  {
   "cell_type": "code",
   "execution_count": 532,
   "metadata": {},
   "outputs": [
    {
     "data": {
      "text/html": [
       "<div>\n",
       "<style scoped>\n",
       "    .dataframe tbody tr th:only-of-type {\n",
       "        vertical-align: middle;\n",
       "    }\n",
       "\n",
       "    .dataframe tbody tr th {\n",
       "        vertical-align: top;\n",
       "    }\n",
       "\n",
       "    .dataframe thead th {\n",
       "        text-align: right;\n",
       "    }\n",
       "</style>\n",
       "<table border=\"1\" class=\"dataframe\">\n",
       "  <thead>\n",
       "    <tr style=\"text-align: right;\">\n",
       "      <th></th>\n",
       "      <th>ROAD_CLASS</th>\n",
       "      <th>LOCCOORD</th>\n",
       "      <th>ACCLOC</th>\n",
       "      <th>TRAFFCTL</th>\n",
       "      <th>VISIBILITY</th>\n",
       "      <th>RDSFCOND</th>\n",
       "    </tr>\n",
       "  </thead>\n",
       "  <tbody>\n",
       "    <tr>\n",
       "      <th>0</th>\n",
       "      <td>Major Arterial</td>\n",
       "      <td>Intersection</td>\n",
       "      <td>Intersection Related</td>\n",
       "      <td>No Control</td>\n",
       "      <td>Clear</td>\n",
       "      <td>Wet</td>\n",
       "    </tr>\n",
       "    <tr>\n",
       "      <th>1</th>\n",
       "      <td>Major Arterial</td>\n",
       "      <td>Intersection</td>\n",
       "      <td>Intersection Related</td>\n",
       "      <td>No Control</td>\n",
       "      <td>Clear</td>\n",
       "      <td>Wet</td>\n",
       "    </tr>\n",
       "    <tr>\n",
       "      <th>2</th>\n",
       "      <td>Major Arterial</td>\n",
       "      <td>Intersection</td>\n",
       "      <td>Intersection Related</td>\n",
       "      <td>No Control</td>\n",
       "      <td>Clear</td>\n",
       "      <td>Wet</td>\n",
       "    </tr>\n",
       "    <tr>\n",
       "      <th>3</th>\n",
       "      <td>Major Arterial</td>\n",
       "      <td>Intersection</td>\n",
       "      <td>Intersection Related</td>\n",
       "      <td>No Control</td>\n",
       "      <td>Clear</td>\n",
       "      <td>Wet</td>\n",
       "    </tr>\n",
       "    <tr>\n",
       "      <th>4</th>\n",
       "      <td>Major Arterial</td>\n",
       "      <td>Intersection</td>\n",
       "      <td>Intersection Related</td>\n",
       "      <td>No Control</td>\n",
       "      <td>Clear</td>\n",
       "      <td>Wet</td>\n",
       "    </tr>\n",
       "    <tr>\n",
       "      <th>5</th>\n",
       "      <td>Major Arterial</td>\n",
       "      <td>Intersection</td>\n",
       "      <td>Intersection Related</td>\n",
       "      <td>No Control</td>\n",
       "      <td>Clear</td>\n",
       "      <td>Wet</td>\n",
       "    </tr>\n",
       "    <tr>\n",
       "      <th>6</th>\n",
       "      <td>Major Arterial</td>\n",
       "      <td>Intersection</td>\n",
       "      <td>Intersection Related</td>\n",
       "      <td>No Control</td>\n",
       "      <td>Clear</td>\n",
       "      <td>Wet</td>\n",
       "    </tr>\n",
       "    <tr>\n",
       "      <th>7</th>\n",
       "      <td>Major Arterial</td>\n",
       "      <td>Intersection</td>\n",
       "      <td>Intersection Related</td>\n",
       "      <td>No Control</td>\n",
       "      <td>Clear</td>\n",
       "      <td>Wet</td>\n",
       "    </tr>\n",
       "    <tr>\n",
       "      <th>8</th>\n",
       "      <td>Major Arterial</td>\n",
       "      <td>Intersection</td>\n",
       "      <td>Intersection Related</td>\n",
       "      <td>No Control</td>\n",
       "      <td>Snow</td>\n",
       "      <td>Slush</td>\n",
       "    </tr>\n",
       "    <tr>\n",
       "      <th>9</th>\n",
       "      <td>Major Arterial</td>\n",
       "      <td>Intersection</td>\n",
       "      <td>Intersection Related</td>\n",
       "      <td>No Control</td>\n",
       "      <td>Snow</td>\n",
       "      <td>Slush</td>\n",
       "    </tr>\n",
       "    <tr>\n",
       "      <th>10</th>\n",
       "      <td>Major Arterial</td>\n",
       "      <td>Intersection</td>\n",
       "      <td>Intersection Related</td>\n",
       "      <td>No Control</td>\n",
       "      <td>Snow</td>\n",
       "      <td>Slush</td>\n",
       "    </tr>\n",
       "    <tr>\n",
       "      <th>11</th>\n",
       "      <td>Major Arterial</td>\n",
       "      <td>Intersection</td>\n",
       "      <td>Intersection Related</td>\n",
       "      <td>No Control</td>\n",
       "      <td>Snow</td>\n",
       "      <td>Slush</td>\n",
       "    </tr>\n",
       "    <tr>\n",
       "      <th>12</th>\n",
       "      <td>Major Arterial</td>\n",
       "      <td>Intersection</td>\n",
       "      <td>Intersection Related</td>\n",
       "      <td>No Control</td>\n",
       "      <td>Snow</td>\n",
       "      <td>Slush</td>\n",
       "    </tr>\n",
       "    <tr>\n",
       "      <th>13</th>\n",
       "      <td>Major Arterial</td>\n",
       "      <td>Mid-Block</td>\n",
       "      <td>Unknown</td>\n",
       "      <td>No Control</td>\n",
       "      <td>Other</td>\n",
       "      <td>Wet</td>\n",
       "    </tr>\n",
       "    <tr>\n",
       "      <th>14</th>\n",
       "      <td>Major Arterial</td>\n",
       "      <td>Mid-Block</td>\n",
       "      <td>Unknown</td>\n",
       "      <td>No Control</td>\n",
       "      <td>Other</td>\n",
       "      <td>Wet</td>\n",
       "    </tr>\n",
       "    <tr>\n",
       "      <th>15</th>\n",
       "      <td>Major Arterial</td>\n",
       "      <td>Mid-Block</td>\n",
       "      <td>At Intersection</td>\n",
       "      <td>Traffic Signal</td>\n",
       "      <td>Rain</td>\n",
       "      <td>Wet</td>\n",
       "    </tr>\n",
       "    <tr>\n",
       "      <th>16</th>\n",
       "      <td>Major Arterial</td>\n",
       "      <td>Mid-Block</td>\n",
       "      <td>At Intersection</td>\n",
       "      <td>Traffic Signal</td>\n",
       "      <td>Rain</td>\n",
       "      <td>Wet</td>\n",
       "    </tr>\n",
       "    <tr>\n",
       "      <th>17</th>\n",
       "      <td>Major Arterial</td>\n",
       "      <td>Intersection</td>\n",
       "      <td>At Intersection</td>\n",
       "      <td>Traffic Signal</td>\n",
       "      <td>Clear</td>\n",
       "      <td>Dry</td>\n",
       "    </tr>\n",
       "    <tr>\n",
       "      <th>18</th>\n",
       "      <td>Major Arterial</td>\n",
       "      <td>Intersection</td>\n",
       "      <td>At Intersection</td>\n",
       "      <td>Traffic Signal</td>\n",
       "      <td>Clear</td>\n",
       "      <td>Dry</td>\n",
       "    </tr>\n",
       "    <tr>\n",
       "      <th>19</th>\n",
       "      <td>Minor Arterial</td>\n",
       "      <td>Mid-Block</td>\n",
       "      <td>Unknown</td>\n",
       "      <td>No Control</td>\n",
       "      <td>Clear</td>\n",
       "      <td>Wet</td>\n",
       "    </tr>\n",
       "  </tbody>\n",
       "</table>\n",
       "</div>"
      ],
      "text/plain": [
       "        ROAD_CLASS      LOCCOORD                ACCLOC        TRAFFCTL  \\\n",
       "0   Major Arterial  Intersection  Intersection Related      No Control   \n",
       "1   Major Arterial  Intersection  Intersection Related      No Control   \n",
       "2   Major Arterial  Intersection  Intersection Related      No Control   \n",
       "3   Major Arterial  Intersection  Intersection Related      No Control   \n",
       "4   Major Arterial  Intersection  Intersection Related      No Control   \n",
       "5   Major Arterial  Intersection  Intersection Related      No Control   \n",
       "6   Major Arterial  Intersection  Intersection Related      No Control   \n",
       "7   Major Arterial  Intersection  Intersection Related      No Control   \n",
       "8   Major Arterial  Intersection  Intersection Related      No Control   \n",
       "9   Major Arterial  Intersection  Intersection Related      No Control   \n",
       "10  Major Arterial  Intersection  Intersection Related      No Control   \n",
       "11  Major Arterial  Intersection  Intersection Related      No Control   \n",
       "12  Major Arterial  Intersection  Intersection Related      No Control   \n",
       "13  Major Arterial     Mid-Block               Unknown      No Control   \n",
       "14  Major Arterial     Mid-Block               Unknown      No Control   \n",
       "15  Major Arterial     Mid-Block       At Intersection  Traffic Signal   \n",
       "16  Major Arterial     Mid-Block       At Intersection  Traffic Signal   \n",
       "17  Major Arterial  Intersection       At Intersection  Traffic Signal   \n",
       "18  Major Arterial  Intersection       At Intersection  Traffic Signal   \n",
       "19  Minor Arterial     Mid-Block               Unknown      No Control   \n",
       "\n",
       "   VISIBILITY RDSFCOND  \n",
       "0       Clear      Wet  \n",
       "1       Clear      Wet  \n",
       "2       Clear      Wet  \n",
       "3       Clear      Wet  \n",
       "4       Clear      Wet  \n",
       "5       Clear      Wet  \n",
       "6       Clear      Wet  \n",
       "7       Clear      Wet  \n",
       "8        Snow    Slush  \n",
       "9        Snow    Slush  \n",
       "10       Snow    Slush  \n",
       "11       Snow    Slush  \n",
       "12       Snow    Slush  \n",
       "13      Other      Wet  \n",
       "14      Other      Wet  \n",
       "15       Rain      Wet  \n",
       "16       Rain      Wet  \n",
       "17      Clear      Dry  \n",
       "18      Clear      Dry  \n",
       "19      Clear      Wet  "
      ]
     },
     "execution_count": 532,
     "metadata": {},
     "output_type": "execute_result"
    }
   ],
   "source": [
    "# I am going to replace the NaN values to 'Unknown'. Since these columns have weight for analysis, therefore, we are not going to remove them.\n",
    "#df[['ROAD_CLASS','LOCCOORD', 'ACCLOC', 'TRAFFCTL', 'VISIBILITY','RDSFCOND']]=df[['ROAD_CLASS','LOCCOORD', 'ACCLOC', 'TRAFFCTL', 'VISIBILITY','RDSFCOND']].replace(['NaN'], ['Unknown'])\n",
    "#df.head(20)\n",
    "df.update(df[['ROAD_CLASS','LOCCOORD', 'ACCLOC', 'TRAFFCTL', 'VISIBILITY','RDSFCOND']].fillna('Unknown'))\n",
    "df[['ROAD_CLASS','LOCCOORD', 'ACCLOC', 'TRAFFCTL', 'VISIBILITY','RDSFCOND']].head(20)"
   ]
  },
  {
   "cell_type": "code",
   "execution_count": 533,
   "metadata": {},
   "outputs": [
    {
     "data": {
      "text/plain": [
       "Index(['Index_', 'ACCNUM', 'YEAR', 'ROAD_CLASS', 'District', 'LATITUDE',\n",
       "       'LONGITUDE', 'LOCCOORD', 'ACCLOC', 'TRAFFCTL', 'VISIBILITY', 'LIGHT',\n",
       "       'RDSFCOND', 'ACCLASS', 'IMPACTYPE', 'INVTYPE', 'INVAGE', 'INJURY',\n",
       "       'FATAL_NO', 'INITDIR', 'VEHTYPE', 'MANOEUVER', 'DRIVACT', 'DRIVCOND',\n",
       "       'PEDTYPE', 'PEDACT', 'PEDCOND', 'CYCLISTYPE', 'CYCACT', 'CYCCOND',\n",
       "       'PEDESTRIAN', 'CYCLIST', 'AUTOMOBILE', 'MOTORCYCLE', 'TRUCK',\n",
       "       'TRSN_CITY_VEH', 'EMERG_VEH', 'PASSENGER', 'SPEEDING', 'AG_DRIV',\n",
       "       'REDLIGHT', 'ALCOHOL', 'DISABILITY', 'Neighbourhood', 'ObjectId',\n",
       "       'MONTH', 'DAY', 'Hour', 'Minutes'],\n",
       "      dtype='object')"
      ]
     },
     "execution_count": 533,
     "metadata": {},
     "output_type": "execute_result"
    }
   ],
   "source": [
    "df.columns"
   ]
  },
  {
   "cell_type": "code",
   "execution_count": 534,
   "metadata": {},
   "outputs": [
    {
     "data": {
      "text/plain": [
       "ROAD_CLASS    0\n",
       "LOCCOORD      0\n",
       "ACCLOC        0\n",
       "TRAFFCTL      0\n",
       "VISIBILITY    0\n",
       "LIGHT         0\n",
       "RDSFCOND      0\n",
       "ACCLASS       0\n",
       "dtype: int64"
      ]
     },
     "execution_count": 534,
     "metadata": {},
     "output_type": "execute_result"
    }
   ],
   "source": [
    "df[['ROAD_CLASS','LOCCOORD', 'ACCLOC', 'TRAFFCTL', 'VISIBILITY', 'LIGHT',\n",
    "       'RDSFCOND', 'ACCLASS']].isnull().sum()"
   ]
  },
  {
   "cell_type": "code",
   "execution_count": 535,
   "metadata": {},
   "outputs": [],
   "source": [
    "#sns.heatmap(df[['ROAD_CLASS','LOCCOORD', 'ACCLOC', 'TRAFFCTL', 'VISIBILITY', 'LIGHT','RDSFCOND', 'ACCLASS']].isnull(),yticklabels=False, cbar=False,cmap='viridis')"
   ]
  },
  {
   "cell_type": "code",
   "execution_count": 536,
   "metadata": {},
   "outputs": [
    {
     "data": {
      "text/html": [
       "<div>\n",
       "<style scoped>\n",
       "    .dataframe tbody tr th:only-of-type {\n",
       "        vertical-align: middle;\n",
       "    }\n",
       "\n",
       "    .dataframe tbody tr th {\n",
       "        vertical-align: top;\n",
       "    }\n",
       "\n",
       "    .dataframe thead th {\n",
       "        text-align: right;\n",
       "    }\n",
       "</style>\n",
       "<table border=\"1\" class=\"dataframe\">\n",
       "  <thead>\n",
       "    <tr style=\"text-align: right;\">\n",
       "      <th></th>\n",
       "      <th>IMPACTYPE</th>\n",
       "      <th>INVTYPE</th>\n",
       "      <th>INVAGE</th>\n",
       "      <th>INJURY</th>\n",
       "      <th>FATAL_NO</th>\n",
       "      <th>INITDIR</th>\n",
       "      <th>VEHTYPE</th>\n",
       "      <th>MANOEUVER</th>\n",
       "      <th>DRIVACT</th>\n",
       "      <th>DRIVCOND</th>\n",
       "    </tr>\n",
       "  </thead>\n",
       "  <tbody>\n",
       "    <tr>\n",
       "      <th>0</th>\n",
       "      <td>Approaching</td>\n",
       "      <td>Passenger</td>\n",
       "      <td>50 to 54</td>\n",
       "      <td>Major</td>\n",
       "      <td>NaN</td>\n",
       "      <td>NaN</td>\n",
       "      <td>NaN</td>\n",
       "      <td>NaN</td>\n",
       "      <td>NaN</td>\n",
       "      <td>NaN</td>\n",
       "    </tr>\n",
       "    <tr>\n",
       "      <th>1</th>\n",
       "      <td>Approaching</td>\n",
       "      <td>Passenger</td>\n",
       "      <td>15 to 19</td>\n",
       "      <td>Minor</td>\n",
       "      <td>NaN</td>\n",
       "      <td>NaN</td>\n",
       "      <td>NaN</td>\n",
       "      <td>NaN</td>\n",
       "      <td>NaN</td>\n",
       "      <td>NaN</td>\n",
       "    </tr>\n",
       "    <tr>\n",
       "      <th>2</th>\n",
       "      <td>Approaching</td>\n",
       "      <td>Driver</td>\n",
       "      <td>55 to 59</td>\n",
       "      <td>Minor</td>\n",
       "      <td>NaN</td>\n",
       "      <td>North</td>\n",
       "      <td>Automobile, Station Wagon</td>\n",
       "      <td>Going Ahead</td>\n",
       "      <td>Driving Properly</td>\n",
       "      <td>Normal</td>\n",
       "    </tr>\n",
       "    <tr>\n",
       "      <th>3</th>\n",
       "      <td>Approaching</td>\n",
       "      <td>Passenger</td>\n",
       "      <td>20 to 24</td>\n",
       "      <td>Minor</td>\n",
       "      <td>NaN</td>\n",
       "      <td>NaN</td>\n",
       "      <td>NaN</td>\n",
       "      <td>NaN</td>\n",
       "      <td>NaN</td>\n",
       "      <td>NaN</td>\n",
       "    </tr>\n",
       "    <tr>\n",
       "      <th>4</th>\n",
       "      <td>Approaching</td>\n",
       "      <td>Passenger</td>\n",
       "      <td>15 to 19</td>\n",
       "      <td>Minor</td>\n",
       "      <td>NaN</td>\n",
       "      <td>NaN</td>\n",
       "      <td>NaN</td>\n",
       "      <td>NaN</td>\n",
       "      <td>NaN</td>\n",
       "      <td>NaN</td>\n",
       "    </tr>\n",
       "    <tr>\n",
       "      <th>5</th>\n",
       "      <td>Approaching</td>\n",
       "      <td>Passenger</td>\n",
       "      <td>20 to 24</td>\n",
       "      <td>Minor</td>\n",
       "      <td>NaN</td>\n",
       "      <td>NaN</td>\n",
       "      <td>NaN</td>\n",
       "      <td>NaN</td>\n",
       "      <td>NaN</td>\n",
       "      <td>NaN</td>\n",
       "    </tr>\n",
       "    <tr>\n",
       "      <th>6</th>\n",
       "      <td>Approaching</td>\n",
       "      <td>Vehicle Owner</td>\n",
       "      <td>unknown</td>\n",
       "      <td>NaN</td>\n",
       "      <td>NaN</td>\n",
       "      <td>NaN</td>\n",
       "      <td>NaN</td>\n",
       "      <td>NaN</td>\n",
       "      <td>NaN</td>\n",
       "      <td>NaN</td>\n",
       "    </tr>\n",
       "    <tr>\n",
       "      <th>7</th>\n",
       "      <td>Approaching</td>\n",
       "      <td>Driver</td>\n",
       "      <td>25 to 29</td>\n",
       "      <td>None</td>\n",
       "      <td>NaN</td>\n",
       "      <td>South</td>\n",
       "      <td>Automobile, Station Wagon</td>\n",
       "      <td>Going Ahead</td>\n",
       "      <td>Lost control</td>\n",
       "      <td>Ability Impaired, Alcohol Over .08</td>\n",
       "    </tr>\n",
       "    <tr>\n",
       "      <th>8</th>\n",
       "      <td>SMV Other</td>\n",
       "      <td>Passenger</td>\n",
       "      <td>10 to 14</td>\n",
       "      <td>Minor</td>\n",
       "      <td>NaN</td>\n",
       "      <td>NaN</td>\n",
       "      <td>NaN</td>\n",
       "      <td>NaN</td>\n",
       "      <td>NaN</td>\n",
       "      <td>NaN</td>\n",
       "    </tr>\n",
       "    <tr>\n",
       "      <th>9</th>\n",
       "      <td>SMV Other</td>\n",
       "      <td>Passenger</td>\n",
       "      <td>15 to 19</td>\n",
       "      <td>Major</td>\n",
       "      <td>NaN</td>\n",
       "      <td>NaN</td>\n",
       "      <td>NaN</td>\n",
       "      <td>NaN</td>\n",
       "      <td>NaN</td>\n",
       "      <td>NaN</td>\n",
       "    </tr>\n",
       "  </tbody>\n",
       "</table>\n",
       "</div>"
      ],
      "text/plain": [
       "     IMPACTYPE        INVTYPE    INVAGE INJURY  FATAL_NO INITDIR  \\\n",
       "0  Approaching      Passenger  50 to 54  Major       NaN     NaN   \n",
       "1  Approaching      Passenger  15 to 19  Minor       NaN     NaN   \n",
       "2  Approaching         Driver  55 to 59  Minor       NaN   North   \n",
       "3  Approaching      Passenger  20 to 24  Minor       NaN     NaN   \n",
       "4  Approaching      Passenger  15 to 19  Minor       NaN     NaN   \n",
       "5  Approaching      Passenger  20 to 24  Minor       NaN     NaN   \n",
       "6  Approaching  Vehicle Owner   unknown    NaN       NaN     NaN   \n",
       "7  Approaching         Driver  25 to 29   None       NaN   South   \n",
       "8    SMV Other      Passenger  10 to 14  Minor       NaN     NaN   \n",
       "9    SMV Other      Passenger  15 to 19  Major       NaN     NaN   \n",
       "\n",
       "                     VEHTYPE    MANOEUVER           DRIVACT  \\\n",
       "0                        NaN          NaN               NaN   \n",
       "1                        NaN          NaN               NaN   \n",
       "2  Automobile, Station Wagon  Going Ahead  Driving Properly   \n",
       "3                        NaN          NaN               NaN   \n",
       "4                        NaN          NaN               NaN   \n",
       "5                        NaN          NaN               NaN   \n",
       "6                        NaN          NaN               NaN   \n",
       "7  Automobile, Station Wagon  Going Ahead      Lost control   \n",
       "8                        NaN          NaN               NaN   \n",
       "9                        NaN          NaN               NaN   \n",
       "\n",
       "                             DRIVCOND  \n",
       "0                                 NaN  \n",
       "1                                 NaN  \n",
       "2                              Normal  \n",
       "3                                 NaN  \n",
       "4                                 NaN  \n",
       "5                                 NaN  \n",
       "6                                 NaN  \n",
       "7  Ability Impaired, Alcohol Over .08  \n",
       "8                                 NaN  \n",
       "9                                 NaN  "
      ]
     },
     "execution_count": 536,
     "metadata": {},
     "output_type": "execute_result"
    }
   ],
   "source": [
    "df[['IMPACTYPE', 'INVTYPE', 'INVAGE', 'INJURY',\n",
    "       'FATAL_NO', 'INITDIR', 'VEHTYPE', 'MANOEUVER', 'DRIVACT', 'DRIVCOND']].head(10)"
   ]
  },
  {
   "cell_type": "code",
   "execution_count": 537,
   "metadata": {},
   "outputs": [
    {
     "data": {
      "text/plain": [
       "IMPACTYPE        4\n",
       "INVTYPE         10\n",
       "INVAGE           0\n",
       "INJURY        1609\n",
       "FATAL_NO     15420\n",
       "INITDIR       4836\n",
       "VEHTYPE       2527\n",
       "MANOEUVER     6952\n",
       "DRIVACT       8061\n",
       "DRIVCOND      8061\n",
       "dtype: int64"
      ]
     },
     "execution_count": 537,
     "metadata": {},
     "output_type": "execute_result"
    }
   ],
   "source": [
    "df[['IMPACTYPE', 'INVTYPE', 'INVAGE', 'INJURY',\n",
    "       'FATAL_NO', 'INITDIR', 'VEHTYPE', 'MANOEUVER', 'DRIVACT', 'DRIVCOND']].isnull().sum()"
   ]
  },
  {
   "cell_type": "code",
   "execution_count": 538,
   "metadata": {},
   "outputs": [
    {
     "data": {
      "text/html": [
       "<div>\n",
       "<style scoped>\n",
       "    .dataframe tbody tr th:only-of-type {\n",
       "        vertical-align: middle;\n",
       "    }\n",
       "\n",
       "    .dataframe tbody tr th {\n",
       "        vertical-align: top;\n",
       "    }\n",
       "\n",
       "    .dataframe thead th {\n",
       "        text-align: right;\n",
       "    }\n",
       "</style>\n",
       "<table border=\"1\" class=\"dataframe\">\n",
       "  <thead>\n",
       "    <tr style=\"text-align: right;\">\n",
       "      <th></th>\n",
       "      <th>INJURY</th>\n",
       "      <th>FATAL_NO</th>\n",
       "      <th>INITDIR</th>\n",
       "      <th>VEHTYPE</th>\n",
       "      <th>MANOEUVER</th>\n",
       "      <th>DRIVACT</th>\n",
       "      <th>DRIVCOND</th>\n",
       "    </tr>\n",
       "  </thead>\n",
       "  <tbody>\n",
       "    <tr>\n",
       "      <th>0</th>\n",
       "      <td>Major</td>\n",
       "      <td>NaN</td>\n",
       "      <td>NaN</td>\n",
       "      <td>NaN</td>\n",
       "      <td>NaN</td>\n",
       "      <td>NaN</td>\n",
       "      <td>NaN</td>\n",
       "    </tr>\n",
       "    <tr>\n",
       "      <th>1</th>\n",
       "      <td>Minor</td>\n",
       "      <td>NaN</td>\n",
       "      <td>NaN</td>\n",
       "      <td>NaN</td>\n",
       "      <td>NaN</td>\n",
       "      <td>NaN</td>\n",
       "      <td>NaN</td>\n",
       "    </tr>\n",
       "    <tr>\n",
       "      <th>2</th>\n",
       "      <td>Minor</td>\n",
       "      <td>NaN</td>\n",
       "      <td>North</td>\n",
       "      <td>Automobile, Station Wagon</td>\n",
       "      <td>Going Ahead</td>\n",
       "      <td>Driving Properly</td>\n",
       "      <td>Normal</td>\n",
       "    </tr>\n",
       "    <tr>\n",
       "      <th>3</th>\n",
       "      <td>Minor</td>\n",
       "      <td>NaN</td>\n",
       "      <td>NaN</td>\n",
       "      <td>NaN</td>\n",
       "      <td>NaN</td>\n",
       "      <td>NaN</td>\n",
       "      <td>NaN</td>\n",
       "    </tr>\n",
       "    <tr>\n",
       "      <th>4</th>\n",
       "      <td>Minor</td>\n",
       "      <td>NaN</td>\n",
       "      <td>NaN</td>\n",
       "      <td>NaN</td>\n",
       "      <td>NaN</td>\n",
       "      <td>NaN</td>\n",
       "      <td>NaN</td>\n",
       "    </tr>\n",
       "    <tr>\n",
       "      <th>5</th>\n",
       "      <td>Minor</td>\n",
       "      <td>NaN</td>\n",
       "      <td>NaN</td>\n",
       "      <td>NaN</td>\n",
       "      <td>NaN</td>\n",
       "      <td>NaN</td>\n",
       "      <td>NaN</td>\n",
       "    </tr>\n",
       "    <tr>\n",
       "      <th>6</th>\n",
       "      <td>NaN</td>\n",
       "      <td>NaN</td>\n",
       "      <td>NaN</td>\n",
       "      <td>NaN</td>\n",
       "      <td>NaN</td>\n",
       "      <td>NaN</td>\n",
       "      <td>NaN</td>\n",
       "    </tr>\n",
       "    <tr>\n",
       "      <th>7</th>\n",
       "      <td>None</td>\n",
       "      <td>NaN</td>\n",
       "      <td>South</td>\n",
       "      <td>Automobile, Station Wagon</td>\n",
       "      <td>Going Ahead</td>\n",
       "      <td>Lost control</td>\n",
       "      <td>Ability Impaired, Alcohol Over .08</td>\n",
       "    </tr>\n",
       "    <tr>\n",
       "      <th>8</th>\n",
       "      <td>Minor</td>\n",
       "      <td>NaN</td>\n",
       "      <td>NaN</td>\n",
       "      <td>NaN</td>\n",
       "      <td>NaN</td>\n",
       "      <td>NaN</td>\n",
       "      <td>NaN</td>\n",
       "    </tr>\n",
       "    <tr>\n",
       "      <th>9</th>\n",
       "      <td>Major</td>\n",
       "      <td>NaN</td>\n",
       "      <td>NaN</td>\n",
       "      <td>NaN</td>\n",
       "      <td>NaN</td>\n",
       "      <td>NaN</td>\n",
       "      <td>NaN</td>\n",
       "    </tr>\n",
       "    <tr>\n",
       "      <th>10</th>\n",
       "      <td>Minor</td>\n",
       "      <td>NaN</td>\n",
       "      <td>NaN</td>\n",
       "      <td>NaN</td>\n",
       "      <td>NaN</td>\n",
       "      <td>NaN</td>\n",
       "      <td>NaN</td>\n",
       "    </tr>\n",
       "    <tr>\n",
       "      <th>11</th>\n",
       "      <td>None</td>\n",
       "      <td>NaN</td>\n",
       "      <td>East</td>\n",
       "      <td>Automobile, Station Wagon</td>\n",
       "      <td>Changing Lanes</td>\n",
       "      <td>Lost control</td>\n",
       "      <td>Inattentive</td>\n",
       "    </tr>\n",
       "    <tr>\n",
       "      <th>12</th>\n",
       "      <td>NaN</td>\n",
       "      <td>NaN</td>\n",
       "      <td>NaN</td>\n",
       "      <td>NaN</td>\n",
       "      <td>NaN</td>\n",
       "      <td>NaN</td>\n",
       "      <td>NaN</td>\n",
       "    </tr>\n",
       "    <tr>\n",
       "      <th>13</th>\n",
       "      <td>None</td>\n",
       "      <td>NaN</td>\n",
       "      <td>South</td>\n",
       "      <td>Automobile, Station Wagon</td>\n",
       "      <td>Changing Lanes</td>\n",
       "      <td>Improper Lane Change</td>\n",
       "      <td>Inattentive</td>\n",
       "    </tr>\n",
       "    <tr>\n",
       "      <th>14</th>\n",
       "      <td>Major</td>\n",
       "      <td>NaN</td>\n",
       "      <td>West</td>\n",
       "      <td>NaN</td>\n",
       "      <td>NaN</td>\n",
       "      <td>NaN</td>\n",
       "      <td>NaN</td>\n",
       "    </tr>\n",
       "    <tr>\n",
       "      <th>15</th>\n",
       "      <td>None</td>\n",
       "      <td>NaN</td>\n",
       "      <td>South</td>\n",
       "      <td>Automobile, Station Wagon</td>\n",
       "      <td>Going Ahead</td>\n",
       "      <td>Driving Properly</td>\n",
       "      <td>Normal</td>\n",
       "    </tr>\n",
       "    <tr>\n",
       "      <th>16</th>\n",
       "      <td>Major</td>\n",
       "      <td>NaN</td>\n",
       "      <td>East</td>\n",
       "      <td>Other</td>\n",
       "      <td>NaN</td>\n",
       "      <td>NaN</td>\n",
       "      <td>NaN</td>\n",
       "    </tr>\n",
       "    <tr>\n",
       "      <th>17</th>\n",
       "      <td>None</td>\n",
       "      <td>NaN</td>\n",
       "      <td>South</td>\n",
       "      <td>Automobile, Station Wagon</td>\n",
       "      <td>Going Ahead</td>\n",
       "      <td>Driving Properly</td>\n",
       "      <td>Normal</td>\n",
       "    </tr>\n",
       "    <tr>\n",
       "      <th>18</th>\n",
       "      <td>Major</td>\n",
       "      <td>NaN</td>\n",
       "      <td>West</td>\n",
       "      <td>NaN</td>\n",
       "      <td>NaN</td>\n",
       "      <td>NaN</td>\n",
       "      <td>NaN</td>\n",
       "    </tr>\n",
       "    <tr>\n",
       "      <th>19</th>\n",
       "      <td>Fatal</td>\n",
       "      <td>NaN</td>\n",
       "      <td>West</td>\n",
       "      <td>Automobile, Station Wagon</td>\n",
       "      <td>Going Ahead</td>\n",
       "      <td>Lost control</td>\n",
       "      <td>Unknown</td>\n",
       "    </tr>\n",
       "  </tbody>\n",
       "</table>\n",
       "</div>"
      ],
      "text/plain": [
       "   INJURY  FATAL_NO INITDIR                    VEHTYPE       MANOEUVER  \\\n",
       "0   Major       NaN     NaN                        NaN             NaN   \n",
       "1   Minor       NaN     NaN                        NaN             NaN   \n",
       "2   Minor       NaN   North  Automobile, Station Wagon     Going Ahead   \n",
       "3   Minor       NaN     NaN                        NaN             NaN   \n",
       "4   Minor       NaN     NaN                        NaN             NaN   \n",
       "5   Minor       NaN     NaN                        NaN             NaN   \n",
       "6     NaN       NaN     NaN                        NaN             NaN   \n",
       "7    None       NaN   South  Automobile, Station Wagon     Going Ahead   \n",
       "8   Minor       NaN     NaN                        NaN             NaN   \n",
       "9   Major       NaN     NaN                        NaN             NaN   \n",
       "10  Minor       NaN     NaN                        NaN             NaN   \n",
       "11   None       NaN    East  Automobile, Station Wagon  Changing Lanes   \n",
       "12    NaN       NaN     NaN                        NaN             NaN   \n",
       "13   None       NaN   South  Automobile, Station Wagon  Changing Lanes   \n",
       "14  Major       NaN    West                        NaN             NaN   \n",
       "15   None       NaN   South  Automobile, Station Wagon     Going Ahead   \n",
       "16  Major       NaN    East                      Other             NaN   \n",
       "17   None       NaN   South  Automobile, Station Wagon     Going Ahead   \n",
       "18  Major       NaN    West                        NaN             NaN   \n",
       "19  Fatal       NaN    West  Automobile, Station Wagon     Going Ahead   \n",
       "\n",
       "                 DRIVACT                            DRIVCOND  \n",
       "0                    NaN                                 NaN  \n",
       "1                    NaN                                 NaN  \n",
       "2       Driving Properly                              Normal  \n",
       "3                    NaN                                 NaN  \n",
       "4                    NaN                                 NaN  \n",
       "5                    NaN                                 NaN  \n",
       "6                    NaN                                 NaN  \n",
       "7           Lost control  Ability Impaired, Alcohol Over .08  \n",
       "8                    NaN                                 NaN  \n",
       "9                    NaN                                 NaN  \n",
       "10                   NaN                                 NaN  \n",
       "11          Lost control                         Inattentive  \n",
       "12                   NaN                                 NaN  \n",
       "13  Improper Lane Change                         Inattentive  \n",
       "14                   NaN                                 NaN  \n",
       "15      Driving Properly                              Normal  \n",
       "16                   NaN                                 NaN  \n",
       "17      Driving Properly                              Normal  \n",
       "18                   NaN                                 NaN  \n",
       "19          Lost control                             Unknown  "
      ]
     },
     "execution_count": 538,
     "metadata": {},
     "output_type": "execute_result"
    }
   ],
   "source": [
    "df[['INJURY','FATAL_NO', 'INITDIR', 'VEHTYPE', 'MANOEUVER', 'DRIVACT', 'DRIVCOND']].head(20)"
   ]
  },
  {
   "cell_type": "code",
   "execution_count": 539,
   "metadata": {},
   "outputs": [],
   "source": [
    "df.drop(['FATAL_NO'], axis=1, inplace=True)"
   ]
  },
  {
   "cell_type": "code",
   "execution_count": 540,
   "metadata": {},
   "outputs": [],
   "source": [
    "df[['INJURY', 'INITDIR', 'VEHTYPE', 'MANOEUVER', 'DRIVACT', 'DRIVCOND']].head(20)\n",
    "df.update(df[['INJURY', 'INITDIR', 'VEHTYPE', 'MANOEUVER', 'DRIVACT', 'DRIVCOND']].fillna('Unknown'))"
   ]
  },
  {
   "cell_type": "code",
   "execution_count": 541,
   "metadata": {},
   "outputs": [
    {
     "data": {
      "text/html": [
       "<div>\n",
       "<style scoped>\n",
       "    .dataframe tbody tr th:only-of-type {\n",
       "        vertical-align: middle;\n",
       "    }\n",
       "\n",
       "    .dataframe tbody tr th {\n",
       "        vertical-align: top;\n",
       "    }\n",
       "\n",
       "    .dataframe thead th {\n",
       "        text-align: right;\n",
       "    }\n",
       "</style>\n",
       "<table border=\"1\" class=\"dataframe\">\n",
       "  <thead>\n",
       "    <tr style=\"text-align: right;\">\n",
       "      <th></th>\n",
       "      <th>INJURY</th>\n",
       "      <th>INITDIR</th>\n",
       "      <th>VEHTYPE</th>\n",
       "      <th>MANOEUVER</th>\n",
       "      <th>DRIVACT</th>\n",
       "      <th>DRIVCOND</th>\n",
       "    </tr>\n",
       "  </thead>\n",
       "  <tbody>\n",
       "    <tr>\n",
       "      <th>0</th>\n",
       "      <td>Major</td>\n",
       "      <td>Unknown</td>\n",
       "      <td>Unknown</td>\n",
       "      <td>Unknown</td>\n",
       "      <td>Unknown</td>\n",
       "      <td>Unknown</td>\n",
       "    </tr>\n",
       "    <tr>\n",
       "      <th>1</th>\n",
       "      <td>Minor</td>\n",
       "      <td>Unknown</td>\n",
       "      <td>Unknown</td>\n",
       "      <td>Unknown</td>\n",
       "      <td>Unknown</td>\n",
       "      <td>Unknown</td>\n",
       "    </tr>\n",
       "    <tr>\n",
       "      <th>2</th>\n",
       "      <td>Minor</td>\n",
       "      <td>North</td>\n",
       "      <td>Automobile, Station Wagon</td>\n",
       "      <td>Going Ahead</td>\n",
       "      <td>Driving Properly</td>\n",
       "      <td>Normal</td>\n",
       "    </tr>\n",
       "    <tr>\n",
       "      <th>3</th>\n",
       "      <td>Minor</td>\n",
       "      <td>Unknown</td>\n",
       "      <td>Unknown</td>\n",
       "      <td>Unknown</td>\n",
       "      <td>Unknown</td>\n",
       "      <td>Unknown</td>\n",
       "    </tr>\n",
       "    <tr>\n",
       "      <th>4</th>\n",
       "      <td>Minor</td>\n",
       "      <td>Unknown</td>\n",
       "      <td>Unknown</td>\n",
       "      <td>Unknown</td>\n",
       "      <td>Unknown</td>\n",
       "      <td>Unknown</td>\n",
       "    </tr>\n",
       "    <tr>\n",
       "      <th>5</th>\n",
       "      <td>Minor</td>\n",
       "      <td>Unknown</td>\n",
       "      <td>Unknown</td>\n",
       "      <td>Unknown</td>\n",
       "      <td>Unknown</td>\n",
       "      <td>Unknown</td>\n",
       "    </tr>\n",
       "    <tr>\n",
       "      <th>6</th>\n",
       "      <td>Unknown</td>\n",
       "      <td>Unknown</td>\n",
       "      <td>Unknown</td>\n",
       "      <td>Unknown</td>\n",
       "      <td>Unknown</td>\n",
       "      <td>Unknown</td>\n",
       "    </tr>\n",
       "    <tr>\n",
       "      <th>7</th>\n",
       "      <td>None</td>\n",
       "      <td>South</td>\n",
       "      <td>Automobile, Station Wagon</td>\n",
       "      <td>Going Ahead</td>\n",
       "      <td>Lost control</td>\n",
       "      <td>Ability Impaired, Alcohol Over .08</td>\n",
       "    </tr>\n",
       "    <tr>\n",
       "      <th>8</th>\n",
       "      <td>Minor</td>\n",
       "      <td>Unknown</td>\n",
       "      <td>Unknown</td>\n",
       "      <td>Unknown</td>\n",
       "      <td>Unknown</td>\n",
       "      <td>Unknown</td>\n",
       "    </tr>\n",
       "    <tr>\n",
       "      <th>9</th>\n",
       "      <td>Major</td>\n",
       "      <td>Unknown</td>\n",
       "      <td>Unknown</td>\n",
       "      <td>Unknown</td>\n",
       "      <td>Unknown</td>\n",
       "      <td>Unknown</td>\n",
       "    </tr>\n",
       "    <tr>\n",
       "      <th>10</th>\n",
       "      <td>Minor</td>\n",
       "      <td>Unknown</td>\n",
       "      <td>Unknown</td>\n",
       "      <td>Unknown</td>\n",
       "      <td>Unknown</td>\n",
       "      <td>Unknown</td>\n",
       "    </tr>\n",
       "    <tr>\n",
       "      <th>11</th>\n",
       "      <td>None</td>\n",
       "      <td>East</td>\n",
       "      <td>Automobile, Station Wagon</td>\n",
       "      <td>Changing Lanes</td>\n",
       "      <td>Lost control</td>\n",
       "      <td>Inattentive</td>\n",
       "    </tr>\n",
       "    <tr>\n",
       "      <th>12</th>\n",
       "      <td>Unknown</td>\n",
       "      <td>Unknown</td>\n",
       "      <td>Unknown</td>\n",
       "      <td>Unknown</td>\n",
       "      <td>Unknown</td>\n",
       "      <td>Unknown</td>\n",
       "    </tr>\n",
       "    <tr>\n",
       "      <th>13</th>\n",
       "      <td>None</td>\n",
       "      <td>South</td>\n",
       "      <td>Automobile, Station Wagon</td>\n",
       "      <td>Changing Lanes</td>\n",
       "      <td>Improper Lane Change</td>\n",
       "      <td>Inattentive</td>\n",
       "    </tr>\n",
       "    <tr>\n",
       "      <th>14</th>\n",
       "      <td>Major</td>\n",
       "      <td>West</td>\n",
       "      <td>Unknown</td>\n",
       "      <td>Unknown</td>\n",
       "      <td>Unknown</td>\n",
       "      <td>Unknown</td>\n",
       "    </tr>\n",
       "    <tr>\n",
       "      <th>15</th>\n",
       "      <td>None</td>\n",
       "      <td>South</td>\n",
       "      <td>Automobile, Station Wagon</td>\n",
       "      <td>Going Ahead</td>\n",
       "      <td>Driving Properly</td>\n",
       "      <td>Normal</td>\n",
       "    </tr>\n",
       "    <tr>\n",
       "      <th>16</th>\n",
       "      <td>Major</td>\n",
       "      <td>East</td>\n",
       "      <td>Other</td>\n",
       "      <td>Unknown</td>\n",
       "      <td>Unknown</td>\n",
       "      <td>Unknown</td>\n",
       "    </tr>\n",
       "    <tr>\n",
       "      <th>17</th>\n",
       "      <td>None</td>\n",
       "      <td>South</td>\n",
       "      <td>Automobile, Station Wagon</td>\n",
       "      <td>Going Ahead</td>\n",
       "      <td>Driving Properly</td>\n",
       "      <td>Normal</td>\n",
       "    </tr>\n",
       "    <tr>\n",
       "      <th>18</th>\n",
       "      <td>Major</td>\n",
       "      <td>West</td>\n",
       "      <td>Unknown</td>\n",
       "      <td>Unknown</td>\n",
       "      <td>Unknown</td>\n",
       "      <td>Unknown</td>\n",
       "    </tr>\n",
       "    <tr>\n",
       "      <th>19</th>\n",
       "      <td>Fatal</td>\n",
       "      <td>West</td>\n",
       "      <td>Automobile, Station Wagon</td>\n",
       "      <td>Going Ahead</td>\n",
       "      <td>Lost control</td>\n",
       "      <td>Unknown</td>\n",
       "    </tr>\n",
       "  </tbody>\n",
       "</table>\n",
       "</div>"
      ],
      "text/plain": [
       "     INJURY  INITDIR                    VEHTYPE       MANOEUVER  \\\n",
       "0     Major  Unknown                    Unknown         Unknown   \n",
       "1     Minor  Unknown                    Unknown         Unknown   \n",
       "2     Minor    North  Automobile, Station Wagon     Going Ahead   \n",
       "3     Minor  Unknown                    Unknown         Unknown   \n",
       "4     Minor  Unknown                    Unknown         Unknown   \n",
       "5     Minor  Unknown                    Unknown         Unknown   \n",
       "6   Unknown  Unknown                    Unknown         Unknown   \n",
       "7      None    South  Automobile, Station Wagon     Going Ahead   \n",
       "8     Minor  Unknown                    Unknown         Unknown   \n",
       "9     Major  Unknown                    Unknown         Unknown   \n",
       "10    Minor  Unknown                    Unknown         Unknown   \n",
       "11     None     East  Automobile, Station Wagon  Changing Lanes   \n",
       "12  Unknown  Unknown                    Unknown         Unknown   \n",
       "13     None    South  Automobile, Station Wagon  Changing Lanes   \n",
       "14    Major     West                    Unknown         Unknown   \n",
       "15     None    South  Automobile, Station Wagon     Going Ahead   \n",
       "16    Major     East                      Other         Unknown   \n",
       "17     None    South  Automobile, Station Wagon     Going Ahead   \n",
       "18    Major     West                    Unknown         Unknown   \n",
       "19    Fatal     West  Automobile, Station Wagon     Going Ahead   \n",
       "\n",
       "                 DRIVACT                            DRIVCOND  \n",
       "0                Unknown                             Unknown  \n",
       "1                Unknown                             Unknown  \n",
       "2       Driving Properly                              Normal  \n",
       "3                Unknown                             Unknown  \n",
       "4                Unknown                             Unknown  \n",
       "5                Unknown                             Unknown  \n",
       "6                Unknown                             Unknown  \n",
       "7           Lost control  Ability Impaired, Alcohol Over .08  \n",
       "8                Unknown                             Unknown  \n",
       "9                Unknown                             Unknown  \n",
       "10               Unknown                             Unknown  \n",
       "11          Lost control                         Inattentive  \n",
       "12               Unknown                             Unknown  \n",
       "13  Improper Lane Change                         Inattentive  \n",
       "14               Unknown                             Unknown  \n",
       "15      Driving Properly                              Normal  \n",
       "16               Unknown                             Unknown  \n",
       "17      Driving Properly                              Normal  \n",
       "18               Unknown                             Unknown  \n",
       "19          Lost control                             Unknown  "
      ]
     },
     "execution_count": 541,
     "metadata": {},
     "output_type": "execute_result"
    }
   ],
   "source": [
    "df[['INJURY', 'INITDIR', 'VEHTYPE', 'MANOEUVER', 'DRIVACT', 'DRIVCOND']].head(20)"
   ]
  },
  {
   "cell_type": "code",
   "execution_count": 542,
   "metadata": {},
   "outputs": [],
   "source": [
    "missing_percent = df.isna().sum()/len(df)"
   ]
  },
  {
   "cell_type": "code",
   "execution_count": 543,
   "metadata": {
    "scrolled": true
   },
   "outputs": [
    {
     "data": {
      "text/plain": [
       "Index_            0.000000\n",
       "ACCNUM            0.000000\n",
       "YEAR              0.000000\n",
       "ROAD_CLASS        0.000000\n",
       "District          0.080780\n",
       "LATITUDE          0.000000\n",
       "LONGITUDE         0.000000\n",
       "LOCCOORD          0.000000\n",
       "ACCLOC            0.000000\n",
       "TRAFFCTL          0.000000\n",
       "VISIBILITY        0.000000\n",
       "LIGHT             0.000000\n",
       "RDSFCOND          0.000000\n",
       "ACCLASS           0.000000\n",
       "IMPACTYPE         0.024856\n",
       "INVTYPE           0.062139\n",
       "INVAGE            0.000000\n",
       "INJURY            0.000000\n",
       "INITDIR           0.000000\n",
       "VEHTYPE           0.000000\n",
       "MANOEUVER         0.000000\n",
       "DRIVACT           0.000000\n",
       "DRIVCOND          0.000000\n",
       "PEDTYPE          84.030324\n",
       "PEDACT           84.067607\n",
       "PEDCOND          83.321941\n",
       "CYCLISTYPE       96.016902\n",
       "CYCACT           95.861555\n",
       "CYCCOND          95.867769\n",
       "PEDESTRIAN       59.709190\n",
       "CYCLIST          89.554465\n",
       "AUTOMOBILE        9.078481\n",
       "MOTORCYCLE       92.083515\n",
       "TRUCK            93.848257\n",
       "TRSN_CITY_VEH    93.897968\n",
       "EMERG_VEH        99.807370\n",
       "PASSENGER        62.151246\n",
       "SPEEDING         86.596657\n",
       "AG_DRIV          48.387498\n",
       "REDLIGHT         91.542907\n",
       "ALCOHOL          95.569502\n",
       "DISABILITY       97.203753\n",
       "Neighbourhood     0.000000\n",
       "ObjectId          0.000000\n",
       "MONTH             0.000000\n",
       "DAY               0.000000\n",
       "Hour              0.000000\n",
       "Minutes           0.000000\n",
       "dtype: float64"
      ]
     },
     "execution_count": 543,
     "metadata": {},
     "output_type": "execute_result"
    }
   ],
   "source": [
    "missing_percent * 100"
   ]
  },
  {
   "cell_type": "code",
   "execution_count": 544,
   "metadata": {},
   "outputs": [
    {
     "data": {
      "text/plain": [
       "PEDTYPE       13523\n",
       "PEDACT        13529\n",
       "PEDCOND       13409\n",
       "CYCLISTYPE    15452\n",
       "CYCACT        15427\n",
       "CYCCOND       15428\n",
       "PEDESTRIAN     9609\n",
       "CYCLIST       14412\n",
       "AUTOMOBILE     1461\n",
       "MOTORCYCLE    14819\n",
       "TRUCK         15103\n",
       "dtype: int64"
      ]
     },
     "execution_count": 544,
     "metadata": {},
     "output_type": "execute_result"
    }
   ],
   "source": [
    "df[['PEDTYPE', 'PEDACT', 'PEDCOND', 'CYCLISTYPE', 'CYCACT', 'CYCCOND',\n",
    "       'PEDESTRIAN', 'CYCLIST', 'AUTOMOBILE', 'MOTORCYCLE', 'TRUCK']].isnull().sum()"
   ]
  },
  {
   "cell_type": "code",
   "execution_count": 545,
   "metadata": {},
   "outputs": [
    {
     "data": {
      "text/plain": [
       "array([nan, 'Unknown', 'Normal', 'Had Been Drinking', 'Inattentive',\n",
       "       'Ability Impaired, Drugs', 'Ability Impaired, Alcohol Over .80',\n",
       "       'Medical or Physical Disability', 'Ability Impaired, Alcohol',\n",
       "       'Other', 'Fatigue'], dtype=object)"
      ]
     },
     "execution_count": 545,
     "metadata": {},
     "output_type": "execute_result"
    }
   ],
   "source": [
    "df[['PEDTYPE', 'PEDACT', 'PEDCOND', 'CYCLISTYPE', 'CYCACT', 'CYCCOND',\n",
    "       'PEDESTRIAN', 'CYCLIST', 'AUTOMOBILE', 'MOTORCYCLE', 'TRUCK']].head(30)\n",
    "df['CYCCOND'].unique()"
   ]
  },
  {
   "cell_type": "code",
   "execution_count": 546,
   "metadata": {},
   "outputs": [
    {
     "data": {
      "text/plain": [
       "Normal                                457\n",
       "Inattentive                            93\n",
       "Unknown                                68\n",
       "Had Been Drinking                      27\n",
       "Other                                   9\n",
       "Medical or Physical Disability          3\n",
       "Ability Impaired, Alcohol               3\n",
       "Fatigue                                 2\n",
       "Ability Impaired, Drugs                 2\n",
       "Ability Impaired, Alcohol Over .80      1\n",
       "Name: CYCCOND, dtype: int64"
      ]
     },
     "execution_count": 546,
     "metadata": {},
     "output_type": "execute_result"
    }
   ],
   "source": [
    "df['CYCCOND'].value_counts()"
   ]
  },
  {
   "cell_type": "code",
   "execution_count": 547,
   "metadata": {},
   "outputs": [],
   "source": [
    "df.CYCCOND=df.CYCCOND.replace(['Other','Ability Impaired, Alcohol'], ['Unknown','Ability Impaired Alcohol'])"
   ]
  },
  {
   "cell_type": "code",
   "execution_count": 548,
   "metadata": {},
   "outputs": [
    {
     "data": {
      "text/plain": [
       "Normal                                457\n",
       "Inattentive                            93\n",
       "Unknown                                77\n",
       "Had Been Drinking                      27\n",
       "Medical or Physical Disability          3\n",
       "Ability Impaired Alcohol                3\n",
       "Fatigue                                 2\n",
       "Ability Impaired, Drugs                 2\n",
       "Ability Impaired, Alcohol Over .80      1\n",
       "Name: CYCCOND, dtype: int64"
      ]
     },
     "execution_count": 548,
     "metadata": {},
     "output_type": "execute_result"
    }
   ],
   "source": [
    "df['CYCCOND'].value_counts()"
   ]
  },
  {
   "cell_type": "code",
   "execution_count": 549,
   "metadata": {},
   "outputs": [],
   "source": [
    "df.CYCCOND=df.CYCCOND.replace(['Ability Impaired, Alcohol Over .80','Ability Impaired, Drugs '], ['Ability Impaired Alcohol','Ability Impaired Drugs'])"
   ]
  },
  {
   "cell_type": "code",
   "execution_count": 550,
   "metadata": {},
   "outputs": [
    {
     "data": {
      "text/plain": [
       "Normal                            457\n",
       "Inattentive                        93\n",
       "Unknown                            77\n",
       "Had Been Drinking                  27\n",
       "Ability Impaired Alcohol            4\n",
       "Medical or Physical Disability      3\n",
       "Fatigue                             2\n",
       "Ability Impaired, Drugs             2\n",
       "Name: CYCCOND, dtype: int64"
      ]
     },
     "execution_count": 550,
     "metadata": {},
     "output_type": "execute_result"
    }
   ],
   "source": [
    "df['CYCCOND'].value_counts()"
   ]
  },
  {
   "cell_type": "code",
   "execution_count": 551,
   "metadata": {},
   "outputs": [],
   "source": [
    "df.CYCCOND=df.CYCCOND.replace(['Ability Impaired, Drugs '], ['Ability Impaired Drugs'])"
   ]
  },
  {
   "cell_type": "code",
   "execution_count": 552,
   "metadata": {},
   "outputs": [
    {
     "data": {
      "text/plain": [
       "Normal                            457\n",
       "Inattentive                        93\n",
       "Unknown                            77\n",
       "Had Been Drinking                  27\n",
       "Ability Impaired Alcohol            4\n",
       "Medical or Physical Disability      3\n",
       "Fatigue                             2\n",
       "Ability Impaired, Drugs             2\n",
       "Name: CYCCOND, dtype: int64"
      ]
     },
     "execution_count": 552,
     "metadata": {},
     "output_type": "execute_result"
    }
   ],
   "source": [
    "df['CYCCOND'].value_counts()"
   ]
  },
  {
   "cell_type": "code",
   "execution_count": 553,
   "metadata": {},
   "outputs": [
    {
     "data": {
      "text/html": [
       "<div>\n",
       "<style scoped>\n",
       "    .dataframe tbody tr th:only-of-type {\n",
       "        vertical-align: middle;\n",
       "    }\n",
       "\n",
       "    .dataframe tbody tr th {\n",
       "        vertical-align: top;\n",
       "    }\n",
       "\n",
       "    .dataframe thead th {\n",
       "        text-align: right;\n",
       "    }\n",
       "</style>\n",
       "<table border=\"1\" class=\"dataframe\">\n",
       "  <thead>\n",
       "    <tr style=\"text-align: right;\">\n",
       "      <th></th>\n",
       "      <th>INJURY</th>\n",
       "      <th>INITDIR</th>\n",
       "      <th>VEHTYPE</th>\n",
       "      <th>MANOEUVER</th>\n",
       "      <th>DRIVACT</th>\n",
       "      <th>DRIVCOND</th>\n",
       "    </tr>\n",
       "  </thead>\n",
       "  <tbody>\n",
       "    <tr>\n",
       "      <th>0</th>\n",
       "      <td>Major</td>\n",
       "      <td>Unknown</td>\n",
       "      <td>Unknown</td>\n",
       "      <td>Unknown</td>\n",
       "      <td>Unknown</td>\n",
       "      <td>Unknown</td>\n",
       "    </tr>\n",
       "    <tr>\n",
       "      <th>1</th>\n",
       "      <td>Minor</td>\n",
       "      <td>Unknown</td>\n",
       "      <td>Unknown</td>\n",
       "      <td>Unknown</td>\n",
       "      <td>Unknown</td>\n",
       "      <td>Unknown</td>\n",
       "    </tr>\n",
       "    <tr>\n",
       "      <th>2</th>\n",
       "      <td>Minor</td>\n",
       "      <td>North</td>\n",
       "      <td>Automobile, Station Wagon</td>\n",
       "      <td>Going Ahead</td>\n",
       "      <td>Driving Properly</td>\n",
       "      <td>Normal</td>\n",
       "    </tr>\n",
       "    <tr>\n",
       "      <th>3</th>\n",
       "      <td>Minor</td>\n",
       "      <td>Unknown</td>\n",
       "      <td>Unknown</td>\n",
       "      <td>Unknown</td>\n",
       "      <td>Unknown</td>\n",
       "      <td>Unknown</td>\n",
       "    </tr>\n",
       "    <tr>\n",
       "      <th>4</th>\n",
       "      <td>Minor</td>\n",
       "      <td>Unknown</td>\n",
       "      <td>Unknown</td>\n",
       "      <td>Unknown</td>\n",
       "      <td>Unknown</td>\n",
       "      <td>Unknown</td>\n",
       "    </tr>\n",
       "    <tr>\n",
       "      <th>5</th>\n",
       "      <td>Minor</td>\n",
       "      <td>Unknown</td>\n",
       "      <td>Unknown</td>\n",
       "      <td>Unknown</td>\n",
       "      <td>Unknown</td>\n",
       "      <td>Unknown</td>\n",
       "    </tr>\n",
       "    <tr>\n",
       "      <th>6</th>\n",
       "      <td>Unknown</td>\n",
       "      <td>Unknown</td>\n",
       "      <td>Unknown</td>\n",
       "      <td>Unknown</td>\n",
       "      <td>Unknown</td>\n",
       "      <td>Unknown</td>\n",
       "    </tr>\n",
       "    <tr>\n",
       "      <th>7</th>\n",
       "      <td>None</td>\n",
       "      <td>South</td>\n",
       "      <td>Automobile, Station Wagon</td>\n",
       "      <td>Going Ahead</td>\n",
       "      <td>Lost control</td>\n",
       "      <td>Ability Impaired, Alcohol Over .08</td>\n",
       "    </tr>\n",
       "    <tr>\n",
       "      <th>8</th>\n",
       "      <td>Minor</td>\n",
       "      <td>Unknown</td>\n",
       "      <td>Unknown</td>\n",
       "      <td>Unknown</td>\n",
       "      <td>Unknown</td>\n",
       "      <td>Unknown</td>\n",
       "    </tr>\n",
       "    <tr>\n",
       "      <th>9</th>\n",
       "      <td>Major</td>\n",
       "      <td>Unknown</td>\n",
       "      <td>Unknown</td>\n",
       "      <td>Unknown</td>\n",
       "      <td>Unknown</td>\n",
       "      <td>Unknown</td>\n",
       "    </tr>\n",
       "    <tr>\n",
       "      <th>10</th>\n",
       "      <td>Minor</td>\n",
       "      <td>Unknown</td>\n",
       "      <td>Unknown</td>\n",
       "      <td>Unknown</td>\n",
       "      <td>Unknown</td>\n",
       "      <td>Unknown</td>\n",
       "    </tr>\n",
       "    <tr>\n",
       "      <th>11</th>\n",
       "      <td>None</td>\n",
       "      <td>East</td>\n",
       "      <td>Automobile, Station Wagon</td>\n",
       "      <td>Changing Lanes</td>\n",
       "      <td>Lost control</td>\n",
       "      <td>Inattentive</td>\n",
       "    </tr>\n",
       "    <tr>\n",
       "      <th>12</th>\n",
       "      <td>Unknown</td>\n",
       "      <td>Unknown</td>\n",
       "      <td>Unknown</td>\n",
       "      <td>Unknown</td>\n",
       "      <td>Unknown</td>\n",
       "      <td>Unknown</td>\n",
       "    </tr>\n",
       "    <tr>\n",
       "      <th>13</th>\n",
       "      <td>None</td>\n",
       "      <td>South</td>\n",
       "      <td>Automobile, Station Wagon</td>\n",
       "      <td>Changing Lanes</td>\n",
       "      <td>Improper Lane Change</td>\n",
       "      <td>Inattentive</td>\n",
       "    </tr>\n",
       "    <tr>\n",
       "      <th>14</th>\n",
       "      <td>Major</td>\n",
       "      <td>West</td>\n",
       "      <td>Unknown</td>\n",
       "      <td>Unknown</td>\n",
       "      <td>Unknown</td>\n",
       "      <td>Unknown</td>\n",
       "    </tr>\n",
       "    <tr>\n",
       "      <th>15</th>\n",
       "      <td>None</td>\n",
       "      <td>South</td>\n",
       "      <td>Automobile, Station Wagon</td>\n",
       "      <td>Going Ahead</td>\n",
       "      <td>Driving Properly</td>\n",
       "      <td>Normal</td>\n",
       "    </tr>\n",
       "    <tr>\n",
       "      <th>16</th>\n",
       "      <td>Major</td>\n",
       "      <td>East</td>\n",
       "      <td>Other</td>\n",
       "      <td>Unknown</td>\n",
       "      <td>Unknown</td>\n",
       "      <td>Unknown</td>\n",
       "    </tr>\n",
       "    <tr>\n",
       "      <th>17</th>\n",
       "      <td>None</td>\n",
       "      <td>South</td>\n",
       "      <td>Automobile, Station Wagon</td>\n",
       "      <td>Going Ahead</td>\n",
       "      <td>Driving Properly</td>\n",
       "      <td>Normal</td>\n",
       "    </tr>\n",
       "    <tr>\n",
       "      <th>18</th>\n",
       "      <td>Major</td>\n",
       "      <td>West</td>\n",
       "      <td>Unknown</td>\n",
       "      <td>Unknown</td>\n",
       "      <td>Unknown</td>\n",
       "      <td>Unknown</td>\n",
       "    </tr>\n",
       "    <tr>\n",
       "      <th>19</th>\n",
       "      <td>Fatal</td>\n",
       "      <td>West</td>\n",
       "      <td>Automobile, Station Wagon</td>\n",
       "      <td>Going Ahead</td>\n",
       "      <td>Lost control</td>\n",
       "      <td>Unknown</td>\n",
       "    </tr>\n",
       "  </tbody>\n",
       "</table>\n",
       "</div>"
      ],
      "text/plain": [
       "     INJURY  INITDIR                    VEHTYPE       MANOEUVER  \\\n",
       "0     Major  Unknown                    Unknown         Unknown   \n",
       "1     Minor  Unknown                    Unknown         Unknown   \n",
       "2     Minor    North  Automobile, Station Wagon     Going Ahead   \n",
       "3     Minor  Unknown                    Unknown         Unknown   \n",
       "4     Minor  Unknown                    Unknown         Unknown   \n",
       "5     Minor  Unknown                    Unknown         Unknown   \n",
       "6   Unknown  Unknown                    Unknown         Unknown   \n",
       "7      None    South  Automobile, Station Wagon     Going Ahead   \n",
       "8     Minor  Unknown                    Unknown         Unknown   \n",
       "9     Major  Unknown                    Unknown         Unknown   \n",
       "10    Minor  Unknown                    Unknown         Unknown   \n",
       "11     None     East  Automobile, Station Wagon  Changing Lanes   \n",
       "12  Unknown  Unknown                    Unknown         Unknown   \n",
       "13     None    South  Automobile, Station Wagon  Changing Lanes   \n",
       "14    Major     West                    Unknown         Unknown   \n",
       "15     None    South  Automobile, Station Wagon     Going Ahead   \n",
       "16    Major     East                      Other         Unknown   \n",
       "17     None    South  Automobile, Station Wagon     Going Ahead   \n",
       "18    Major     West                    Unknown         Unknown   \n",
       "19    Fatal     West  Automobile, Station Wagon     Going Ahead   \n",
       "\n",
       "                 DRIVACT                            DRIVCOND  \n",
       "0                Unknown                             Unknown  \n",
       "1                Unknown                             Unknown  \n",
       "2       Driving Properly                              Normal  \n",
       "3                Unknown                             Unknown  \n",
       "4                Unknown                             Unknown  \n",
       "5                Unknown                             Unknown  \n",
       "6                Unknown                             Unknown  \n",
       "7           Lost control  Ability Impaired, Alcohol Over .08  \n",
       "8                Unknown                             Unknown  \n",
       "9                Unknown                             Unknown  \n",
       "10               Unknown                             Unknown  \n",
       "11          Lost control                         Inattentive  \n",
       "12               Unknown                             Unknown  \n",
       "13  Improper Lane Change                         Inattentive  \n",
       "14               Unknown                             Unknown  \n",
       "15      Driving Properly                              Normal  \n",
       "16               Unknown                             Unknown  \n",
       "17      Driving Properly                              Normal  \n",
       "18               Unknown                             Unknown  \n",
       "19          Lost control                             Unknown  "
      ]
     },
     "execution_count": 553,
     "metadata": {},
     "output_type": "execute_result"
    }
   ],
   "source": [
    "df[['INJURY', 'INITDIR', 'VEHTYPE', 'MANOEUVER', 'DRIVACT', 'DRIVCOND']].head(20)"
   ]
  },
  {
   "cell_type": "code",
   "execution_count": 554,
   "metadata": {},
   "outputs": [
    {
     "data": {
      "text/plain": [
       "Unknown                               8981\n",
       "Normal                                5167\n",
       "Inattentive                           1318\n",
       "Medical or Physical Disability         156\n",
       "Had Been Drinking                      146\n",
       "Ability Impaired, Alcohol Over .08     115\n",
       "Ability Impaired, Alcohol              106\n",
       "Fatigue                                 47\n",
       "Other                                   41\n",
       "Ability Impaired, Drugs                 16\n",
       "Name: DRIVCOND, dtype: int64"
      ]
     },
     "execution_count": 554,
     "metadata": {},
     "output_type": "execute_result"
    }
   ],
   "source": [
    "df['DRIVCOND'].value_counts()"
   ]
  },
  {
   "cell_type": "code",
   "execution_count": 555,
   "metadata": {},
   "outputs": [],
   "source": [
    "df.DRIVCOND=df.DRIVCOND.replace(['Ability Impaired, Alcohol Over .08','Other'], ['Ability Impaired Alcohol','Unknown'])"
   ]
  },
  {
   "cell_type": "code",
   "execution_count": 556,
   "metadata": {},
   "outputs": [
    {
     "data": {
      "text/plain": [
       "Unknown                           9022\n",
       "Normal                            5167\n",
       "Inattentive                       1318\n",
       "Medical or Physical Disability     156\n",
       "Had Been Drinking                  146\n",
       "Ability Impaired Alcohol           115\n",
       "Ability Impaired, Alcohol          106\n",
       "Fatigue                             47\n",
       "Ability Impaired, Drugs             16\n",
       "Name: DRIVCOND, dtype: int64"
      ]
     },
     "execution_count": 556,
     "metadata": {},
     "output_type": "execute_result"
    }
   ],
   "source": [
    "df['DRIVCOND'].value_counts()"
   ]
  },
  {
   "cell_type": "code",
   "execution_count": 557,
   "metadata": {},
   "outputs": [],
   "source": [
    "df.DRIVCOND=df.DRIVCOND.replace(['Ability Impaired, Drugs'], ['Ability Impaired Drugs'])"
   ]
  },
  {
   "cell_type": "code",
   "execution_count": 558,
   "metadata": {},
   "outputs": [
    {
     "data": {
      "text/plain": [
       "Unknown                           9022\n",
       "Normal                            5167\n",
       "Inattentive                       1318\n",
       "Medical or Physical Disability     156\n",
       "Had Been Drinking                  146\n",
       "Ability Impaired Alcohol           115\n",
       "Ability Impaired, Alcohol          106\n",
       "Fatigue                             47\n",
       "Ability Impaired Drugs              16\n",
       "Name: DRIVCOND, dtype: int64"
      ]
     },
     "execution_count": 558,
     "metadata": {},
     "output_type": "execute_result"
    }
   ],
   "source": [
    "df['DRIVCOND'].value_counts()"
   ]
  },
  {
   "cell_type": "code",
   "execution_count": 559,
   "metadata": {},
   "outputs": [
    {
     "data": {
      "text/html": [
       "<div>\n",
       "<style scoped>\n",
       "    .dataframe tbody tr th:only-of-type {\n",
       "        vertical-align: middle;\n",
       "    }\n",
       "\n",
       "    .dataframe tbody tr th {\n",
       "        vertical-align: top;\n",
       "    }\n",
       "\n",
       "    .dataframe thead th {\n",
       "        text-align: right;\n",
       "    }\n",
       "</style>\n",
       "<table border=\"1\" class=\"dataframe\">\n",
       "  <thead>\n",
       "    <tr style=\"text-align: right;\">\n",
       "      <th></th>\n",
       "      <th>INJURY</th>\n",
       "      <th>INITDIR</th>\n",
       "      <th>VEHTYPE</th>\n",
       "      <th>MANOEUVER</th>\n",
       "      <th>DRIVACT</th>\n",
       "      <th>DRIVCOND</th>\n",
       "    </tr>\n",
       "  </thead>\n",
       "  <tbody>\n",
       "    <tr>\n",
       "      <th>0</th>\n",
       "      <td>Major</td>\n",
       "      <td>Unknown</td>\n",
       "      <td>Unknown</td>\n",
       "      <td>Unknown</td>\n",
       "      <td>Unknown</td>\n",
       "      <td>Unknown</td>\n",
       "    </tr>\n",
       "    <tr>\n",
       "      <th>1</th>\n",
       "      <td>Minor</td>\n",
       "      <td>Unknown</td>\n",
       "      <td>Unknown</td>\n",
       "      <td>Unknown</td>\n",
       "      <td>Unknown</td>\n",
       "      <td>Unknown</td>\n",
       "    </tr>\n",
       "    <tr>\n",
       "      <th>2</th>\n",
       "      <td>Minor</td>\n",
       "      <td>North</td>\n",
       "      <td>Automobile, Station Wagon</td>\n",
       "      <td>Going Ahead</td>\n",
       "      <td>Driving Properly</td>\n",
       "      <td>Normal</td>\n",
       "    </tr>\n",
       "    <tr>\n",
       "      <th>3</th>\n",
       "      <td>Minor</td>\n",
       "      <td>Unknown</td>\n",
       "      <td>Unknown</td>\n",
       "      <td>Unknown</td>\n",
       "      <td>Unknown</td>\n",
       "      <td>Unknown</td>\n",
       "    </tr>\n",
       "    <tr>\n",
       "      <th>4</th>\n",
       "      <td>Minor</td>\n",
       "      <td>Unknown</td>\n",
       "      <td>Unknown</td>\n",
       "      <td>Unknown</td>\n",
       "      <td>Unknown</td>\n",
       "      <td>Unknown</td>\n",
       "    </tr>\n",
       "    <tr>\n",
       "      <th>5</th>\n",
       "      <td>Minor</td>\n",
       "      <td>Unknown</td>\n",
       "      <td>Unknown</td>\n",
       "      <td>Unknown</td>\n",
       "      <td>Unknown</td>\n",
       "      <td>Unknown</td>\n",
       "    </tr>\n",
       "    <tr>\n",
       "      <th>6</th>\n",
       "      <td>Unknown</td>\n",
       "      <td>Unknown</td>\n",
       "      <td>Unknown</td>\n",
       "      <td>Unknown</td>\n",
       "      <td>Unknown</td>\n",
       "      <td>Unknown</td>\n",
       "    </tr>\n",
       "    <tr>\n",
       "      <th>7</th>\n",
       "      <td>None</td>\n",
       "      <td>South</td>\n",
       "      <td>Automobile, Station Wagon</td>\n",
       "      <td>Going Ahead</td>\n",
       "      <td>Lost control</td>\n",
       "      <td>Ability Impaired Alcohol</td>\n",
       "    </tr>\n",
       "    <tr>\n",
       "      <th>8</th>\n",
       "      <td>Minor</td>\n",
       "      <td>Unknown</td>\n",
       "      <td>Unknown</td>\n",
       "      <td>Unknown</td>\n",
       "      <td>Unknown</td>\n",
       "      <td>Unknown</td>\n",
       "    </tr>\n",
       "    <tr>\n",
       "      <th>9</th>\n",
       "      <td>Major</td>\n",
       "      <td>Unknown</td>\n",
       "      <td>Unknown</td>\n",
       "      <td>Unknown</td>\n",
       "      <td>Unknown</td>\n",
       "      <td>Unknown</td>\n",
       "    </tr>\n",
       "    <tr>\n",
       "      <th>10</th>\n",
       "      <td>Minor</td>\n",
       "      <td>Unknown</td>\n",
       "      <td>Unknown</td>\n",
       "      <td>Unknown</td>\n",
       "      <td>Unknown</td>\n",
       "      <td>Unknown</td>\n",
       "    </tr>\n",
       "    <tr>\n",
       "      <th>11</th>\n",
       "      <td>None</td>\n",
       "      <td>East</td>\n",
       "      <td>Automobile, Station Wagon</td>\n",
       "      <td>Changing Lanes</td>\n",
       "      <td>Lost control</td>\n",
       "      <td>Inattentive</td>\n",
       "    </tr>\n",
       "    <tr>\n",
       "      <th>12</th>\n",
       "      <td>Unknown</td>\n",
       "      <td>Unknown</td>\n",
       "      <td>Unknown</td>\n",
       "      <td>Unknown</td>\n",
       "      <td>Unknown</td>\n",
       "      <td>Unknown</td>\n",
       "    </tr>\n",
       "    <tr>\n",
       "      <th>13</th>\n",
       "      <td>None</td>\n",
       "      <td>South</td>\n",
       "      <td>Automobile, Station Wagon</td>\n",
       "      <td>Changing Lanes</td>\n",
       "      <td>Improper Lane Change</td>\n",
       "      <td>Inattentive</td>\n",
       "    </tr>\n",
       "    <tr>\n",
       "      <th>14</th>\n",
       "      <td>Major</td>\n",
       "      <td>West</td>\n",
       "      <td>Unknown</td>\n",
       "      <td>Unknown</td>\n",
       "      <td>Unknown</td>\n",
       "      <td>Unknown</td>\n",
       "    </tr>\n",
       "    <tr>\n",
       "      <th>15</th>\n",
       "      <td>None</td>\n",
       "      <td>South</td>\n",
       "      <td>Automobile, Station Wagon</td>\n",
       "      <td>Going Ahead</td>\n",
       "      <td>Driving Properly</td>\n",
       "      <td>Normal</td>\n",
       "    </tr>\n",
       "    <tr>\n",
       "      <th>16</th>\n",
       "      <td>Major</td>\n",
       "      <td>East</td>\n",
       "      <td>Other</td>\n",
       "      <td>Unknown</td>\n",
       "      <td>Unknown</td>\n",
       "      <td>Unknown</td>\n",
       "    </tr>\n",
       "    <tr>\n",
       "      <th>17</th>\n",
       "      <td>None</td>\n",
       "      <td>South</td>\n",
       "      <td>Automobile, Station Wagon</td>\n",
       "      <td>Going Ahead</td>\n",
       "      <td>Driving Properly</td>\n",
       "      <td>Normal</td>\n",
       "    </tr>\n",
       "    <tr>\n",
       "      <th>18</th>\n",
       "      <td>Major</td>\n",
       "      <td>West</td>\n",
       "      <td>Unknown</td>\n",
       "      <td>Unknown</td>\n",
       "      <td>Unknown</td>\n",
       "      <td>Unknown</td>\n",
       "    </tr>\n",
       "    <tr>\n",
       "      <th>19</th>\n",
       "      <td>Fatal</td>\n",
       "      <td>West</td>\n",
       "      <td>Automobile, Station Wagon</td>\n",
       "      <td>Going Ahead</td>\n",
       "      <td>Lost control</td>\n",
       "      <td>Unknown</td>\n",
       "    </tr>\n",
       "  </tbody>\n",
       "</table>\n",
       "</div>"
      ],
      "text/plain": [
       "     INJURY  INITDIR                    VEHTYPE       MANOEUVER  \\\n",
       "0     Major  Unknown                    Unknown         Unknown   \n",
       "1     Minor  Unknown                    Unknown         Unknown   \n",
       "2     Minor    North  Automobile, Station Wagon     Going Ahead   \n",
       "3     Minor  Unknown                    Unknown         Unknown   \n",
       "4     Minor  Unknown                    Unknown         Unknown   \n",
       "5     Minor  Unknown                    Unknown         Unknown   \n",
       "6   Unknown  Unknown                    Unknown         Unknown   \n",
       "7      None    South  Automobile, Station Wagon     Going Ahead   \n",
       "8     Minor  Unknown                    Unknown         Unknown   \n",
       "9     Major  Unknown                    Unknown         Unknown   \n",
       "10    Minor  Unknown                    Unknown         Unknown   \n",
       "11     None     East  Automobile, Station Wagon  Changing Lanes   \n",
       "12  Unknown  Unknown                    Unknown         Unknown   \n",
       "13     None    South  Automobile, Station Wagon  Changing Lanes   \n",
       "14    Major     West                    Unknown         Unknown   \n",
       "15     None    South  Automobile, Station Wagon     Going Ahead   \n",
       "16    Major     East                      Other         Unknown   \n",
       "17     None    South  Automobile, Station Wagon     Going Ahead   \n",
       "18    Major     West                    Unknown         Unknown   \n",
       "19    Fatal     West  Automobile, Station Wagon     Going Ahead   \n",
       "\n",
       "                 DRIVACT                  DRIVCOND  \n",
       "0                Unknown                   Unknown  \n",
       "1                Unknown                   Unknown  \n",
       "2       Driving Properly                    Normal  \n",
       "3                Unknown                   Unknown  \n",
       "4                Unknown                   Unknown  \n",
       "5                Unknown                   Unknown  \n",
       "6                Unknown                   Unknown  \n",
       "7           Lost control  Ability Impaired Alcohol  \n",
       "8                Unknown                   Unknown  \n",
       "9                Unknown                   Unknown  \n",
       "10               Unknown                   Unknown  \n",
       "11          Lost control               Inattentive  \n",
       "12               Unknown                   Unknown  \n",
       "13  Improper Lane Change               Inattentive  \n",
       "14               Unknown                   Unknown  \n",
       "15      Driving Properly                    Normal  \n",
       "16               Unknown                   Unknown  \n",
       "17      Driving Properly                    Normal  \n",
       "18               Unknown                   Unknown  \n",
       "19          Lost control                   Unknown  "
      ]
     },
     "execution_count": 559,
     "metadata": {},
     "output_type": "execute_result"
    }
   ],
   "source": [
    "df[['INJURY', 'INITDIR', 'VEHTYPE', 'MANOEUVER', 'DRIVACT', 'DRIVCOND']].head(20)"
   ]
  },
  {
   "cell_type": "code",
   "execution_count": 560,
   "metadata": {
    "scrolled": true
   },
   "outputs": [
    {
     "data": {
      "text/plain": [
       "Automobile, Station Wagon           6594\n",
       "Other                               4745\n",
       "Unknown                             2527\n",
       "Bicycle                              680\n",
       "Motorcycle                           551\n",
       "Municipal Transit Bus (TTC)          241\n",
       "Truck - Open                         173\n",
       "Pick Up Truck                        152\n",
       "Passenger Van                        105\n",
       "Delivery Van                          63\n",
       "Truck - Closed (Blazer, etc)          50\n",
       "Street Car                            39\n",
       "Truck - Dump                          32\n",
       "Truck-Tractor                         30\n",
       "Taxi                                  28\n",
       "Moped                                 22\n",
       "Truck (other)                         12\n",
       "Bus (Other) (Go Bus, Gray Coach)      11\n",
       "Intercity Bus                          9\n",
       "Truck - Tank                           7\n",
       "Police Vehicle                         4\n",
       "School Bus                             4\n",
       "Construction Equipment                 4\n",
       "Tow Truck                              4\n",
       "Fire Vehicle                           3\n",
       "Other Emergency Vehicle                1\n",
       "Truck - Car Carrier                    1\n",
       "Off Road - 2 Wheels                    1\n",
       "Name: VEHTYPE, dtype: int64"
      ]
     },
     "execution_count": 560,
     "metadata": {},
     "output_type": "execute_result"
    }
   ],
   "source": [
    "df['VEHTYPE'].value_counts()"
   ]
  },
  {
   "cell_type": "code",
   "execution_count": 561,
   "metadata": {},
   "outputs": [
    {
     "data": {
      "text/plain": [
       "PEDESTRIAN     9609\n",
       "CYCLIST       14412\n",
       "AUTOMOBILE     1461\n",
       "MOTORCYCLE    14819\n",
       "TRUCK         15103\n",
       "dtype: int64"
      ]
     },
     "execution_count": 561,
     "metadata": {},
     "output_type": "execute_result"
    }
   ],
   "source": [
    "df[['PEDESTRIAN', 'CYCLIST', 'AUTOMOBILE', 'MOTORCYCLE', 'TRUCK']].isnull().sum()"
   ]
  },
  {
   "cell_type": "code",
   "execution_count": 562,
   "metadata": {},
   "outputs": [
    {
     "data": {
      "text/html": [
       "<div>\n",
       "<style scoped>\n",
       "    .dataframe tbody tr th:only-of-type {\n",
       "        vertical-align: middle;\n",
       "    }\n",
       "\n",
       "    .dataframe tbody tr th {\n",
       "        vertical-align: top;\n",
       "    }\n",
       "\n",
       "    .dataframe thead th {\n",
       "        text-align: right;\n",
       "    }\n",
       "</style>\n",
       "<table border=\"1\" class=\"dataframe\">\n",
       "  <thead>\n",
       "    <tr style=\"text-align: right;\">\n",
       "      <th></th>\n",
       "      <th>PEDESTRIAN</th>\n",
       "      <th>CYCLIST</th>\n",
       "      <th>AUTOMOBILE</th>\n",
       "      <th>MOTORCYCLE</th>\n",
       "      <th>TRUCK</th>\n",
       "    </tr>\n",
       "  </thead>\n",
       "  <tbody>\n",
       "    <tr>\n",
       "      <th>0</th>\n",
       "      <td>NaN</td>\n",
       "      <td>NaN</td>\n",
       "      <td>Yes</td>\n",
       "      <td>NaN</td>\n",
       "      <td>NaN</td>\n",
       "    </tr>\n",
       "    <tr>\n",
       "      <th>1</th>\n",
       "      <td>NaN</td>\n",
       "      <td>NaN</td>\n",
       "      <td>Yes</td>\n",
       "      <td>NaN</td>\n",
       "      <td>NaN</td>\n",
       "    </tr>\n",
       "    <tr>\n",
       "      <th>2</th>\n",
       "      <td>NaN</td>\n",
       "      <td>NaN</td>\n",
       "      <td>Yes</td>\n",
       "      <td>NaN</td>\n",
       "      <td>NaN</td>\n",
       "    </tr>\n",
       "    <tr>\n",
       "      <th>3</th>\n",
       "      <td>NaN</td>\n",
       "      <td>NaN</td>\n",
       "      <td>Yes</td>\n",
       "      <td>NaN</td>\n",
       "      <td>NaN</td>\n",
       "    </tr>\n",
       "    <tr>\n",
       "      <th>4</th>\n",
       "      <td>NaN</td>\n",
       "      <td>NaN</td>\n",
       "      <td>Yes</td>\n",
       "      <td>NaN</td>\n",
       "      <td>NaN</td>\n",
       "    </tr>\n",
       "  </tbody>\n",
       "</table>\n",
       "</div>"
      ],
      "text/plain": [
       "  PEDESTRIAN CYCLIST AUTOMOBILE MOTORCYCLE TRUCK\n",
       "0        NaN     NaN        Yes        NaN   NaN\n",
       "1        NaN     NaN        Yes        NaN   NaN\n",
       "2        NaN     NaN        Yes        NaN   NaN\n",
       "3        NaN     NaN        Yes        NaN   NaN\n",
       "4        NaN     NaN        Yes        NaN   NaN"
      ]
     },
     "execution_count": 562,
     "metadata": {},
     "output_type": "execute_result"
    }
   ],
   "source": [
    "df[['PEDESTRIAN', 'CYCLIST', 'AUTOMOBILE', 'MOTORCYCLE', 'TRUCK']].head(5)"
   ]
  },
  {
   "cell_type": "code",
   "execution_count": 563,
   "metadata": {},
   "outputs": [
    {
     "data": {
      "text/plain": [
       "array([nan, 'Yes'], dtype=object)"
      ]
     },
     "execution_count": 563,
     "metadata": {},
     "output_type": "execute_result"
    }
   ],
   "source": [
    "df['PEDESTRIAN'].unique()"
   ]
  },
  {
   "cell_type": "code",
   "execution_count": 564,
   "metadata": {},
   "outputs": [],
   "source": [
    "df[['PEDESTRIAN']] = df[['PEDESTRIAN']].replace('nan','No')"
   ]
  },
  {
   "cell_type": "code",
   "execution_count": 565,
   "metadata": {},
   "outputs": [
    {
     "data": {
      "text/plain": [
       "array([nan, 'Yes'], dtype=object)"
      ]
     },
     "execution_count": 565,
     "metadata": {},
     "output_type": "execute_result"
    }
   ],
   "source": [
    "df['PEDESTRIAN'].unique()\n",
    "df['CYCLIST'].unique()\n",
    "df['AUTOMOBILE'].unique()\n",
    "df['MOTORCYCLE'].unique()\n",
    "df['TRUCK'].unique()"
   ]
  },
  {
   "cell_type": "code",
   "execution_count": 566,
   "metadata": {},
   "outputs": [],
   "source": [
    "df.update(df[['PEDESTRIAN', 'CYCLIST', 'AUTOMOBILE', 'MOTORCYCLE', 'TRUCK']].fillna('No'))"
   ]
  },
  {
   "cell_type": "code",
   "execution_count": 567,
   "metadata": {},
   "outputs": [
    {
     "data": {
      "text/html": [
       "<div>\n",
       "<style scoped>\n",
       "    .dataframe tbody tr th:only-of-type {\n",
       "        vertical-align: middle;\n",
       "    }\n",
       "\n",
       "    .dataframe tbody tr th {\n",
       "        vertical-align: top;\n",
       "    }\n",
       "\n",
       "    .dataframe thead th {\n",
       "        text-align: right;\n",
       "    }\n",
       "</style>\n",
       "<table border=\"1\" class=\"dataframe\">\n",
       "  <thead>\n",
       "    <tr style=\"text-align: right;\">\n",
       "      <th></th>\n",
       "      <th>PEDESTRIAN</th>\n",
       "      <th>CYCLIST</th>\n",
       "      <th>AUTOMOBILE</th>\n",
       "      <th>MOTORCYCLE</th>\n",
       "      <th>TRUCK</th>\n",
       "    </tr>\n",
       "  </thead>\n",
       "  <tbody>\n",
       "    <tr>\n",
       "      <th>0</th>\n",
       "      <td>No</td>\n",
       "      <td>No</td>\n",
       "      <td>Yes</td>\n",
       "      <td>No</td>\n",
       "      <td>No</td>\n",
       "    </tr>\n",
       "    <tr>\n",
       "      <th>1</th>\n",
       "      <td>No</td>\n",
       "      <td>No</td>\n",
       "      <td>Yes</td>\n",
       "      <td>No</td>\n",
       "      <td>No</td>\n",
       "    </tr>\n",
       "    <tr>\n",
       "      <th>2</th>\n",
       "      <td>No</td>\n",
       "      <td>No</td>\n",
       "      <td>Yes</td>\n",
       "      <td>No</td>\n",
       "      <td>No</td>\n",
       "    </tr>\n",
       "    <tr>\n",
       "      <th>3</th>\n",
       "      <td>No</td>\n",
       "      <td>No</td>\n",
       "      <td>Yes</td>\n",
       "      <td>No</td>\n",
       "      <td>No</td>\n",
       "    </tr>\n",
       "    <tr>\n",
       "      <th>4</th>\n",
       "      <td>No</td>\n",
       "      <td>No</td>\n",
       "      <td>Yes</td>\n",
       "      <td>No</td>\n",
       "      <td>No</td>\n",
       "    </tr>\n",
       "  </tbody>\n",
       "</table>\n",
       "</div>"
      ],
      "text/plain": [
       "  PEDESTRIAN CYCLIST AUTOMOBILE MOTORCYCLE TRUCK\n",
       "0         No      No        Yes         No    No\n",
       "1         No      No        Yes         No    No\n",
       "2         No      No        Yes         No    No\n",
       "3         No      No        Yes         No    No\n",
       "4         No      No        Yes         No    No"
      ]
     },
     "execution_count": 567,
     "metadata": {},
     "output_type": "execute_result"
    }
   ],
   "source": [
    "df[['PEDESTRIAN', 'CYCLIST', 'AUTOMOBILE', 'MOTORCYCLE', 'TRUCK']].head(5)"
   ]
  },
  {
   "cell_type": "code",
   "execution_count": 568,
   "metadata": {},
   "outputs": [
    {
     "data": {
      "text/html": [
       "<div>\n",
       "<style scoped>\n",
       "    .dataframe tbody tr th:only-of-type {\n",
       "        vertical-align: middle;\n",
       "    }\n",
       "\n",
       "    .dataframe tbody tr th {\n",
       "        vertical-align: top;\n",
       "    }\n",
       "\n",
       "    .dataframe thead th {\n",
       "        text-align: right;\n",
       "    }\n",
       "</style>\n",
       "<table border=\"1\" class=\"dataframe\">\n",
       "  <thead>\n",
       "    <tr style=\"text-align: right;\">\n",
       "      <th></th>\n",
       "      <th>TRSN_CITY_VEH</th>\n",
       "      <th>EMERG_VEH</th>\n",
       "      <th>PASSENGER</th>\n",
       "      <th>SPEEDING</th>\n",
       "      <th>AG_DRIV</th>\n",
       "    </tr>\n",
       "  </thead>\n",
       "  <tbody>\n",
       "    <tr>\n",
       "      <th>0</th>\n",
       "      <td>NaN</td>\n",
       "      <td>NaN</td>\n",
       "      <td>Yes</td>\n",
       "      <td>Yes</td>\n",
       "      <td>Yes</td>\n",
       "    </tr>\n",
       "    <tr>\n",
       "      <th>1</th>\n",
       "      <td>NaN</td>\n",
       "      <td>NaN</td>\n",
       "      <td>Yes</td>\n",
       "      <td>Yes</td>\n",
       "      <td>Yes</td>\n",
       "    </tr>\n",
       "    <tr>\n",
       "      <th>2</th>\n",
       "      <td>NaN</td>\n",
       "      <td>NaN</td>\n",
       "      <td>Yes</td>\n",
       "      <td>Yes</td>\n",
       "      <td>Yes</td>\n",
       "    </tr>\n",
       "    <tr>\n",
       "      <th>3</th>\n",
       "      <td>NaN</td>\n",
       "      <td>NaN</td>\n",
       "      <td>Yes</td>\n",
       "      <td>Yes</td>\n",
       "      <td>Yes</td>\n",
       "    </tr>\n",
       "    <tr>\n",
       "      <th>4</th>\n",
       "      <td>NaN</td>\n",
       "      <td>NaN</td>\n",
       "      <td>Yes</td>\n",
       "      <td>Yes</td>\n",
       "      <td>Yes</td>\n",
       "    </tr>\n",
       "  </tbody>\n",
       "</table>\n",
       "</div>"
      ],
      "text/plain": [
       "  TRSN_CITY_VEH EMERG_VEH PASSENGER SPEEDING AG_DRIV\n",
       "0           NaN       NaN       Yes      Yes     Yes\n",
       "1           NaN       NaN       Yes      Yes     Yes\n",
       "2           NaN       NaN       Yes      Yes     Yes\n",
       "3           NaN       NaN       Yes      Yes     Yes\n",
       "4           NaN       NaN       Yes      Yes     Yes"
      ]
     },
     "execution_count": 568,
     "metadata": {},
     "output_type": "execute_result"
    }
   ],
   "source": [
    "df[['TRSN_CITY_VEH', 'EMERG_VEH', 'PASSENGER', 'SPEEDING', 'AG_DRIV']].head(5)"
   ]
  },
  {
   "cell_type": "code",
   "execution_count": 569,
   "metadata": {},
   "outputs": [
    {
     "data": {
      "text/plain": [
       "array([nan, 'Yes'], dtype=object)"
      ]
     },
     "execution_count": 569,
     "metadata": {},
     "output_type": "execute_result"
    }
   ],
   "source": [
    "df['TRSN_CITY_VEH'].unique()"
   ]
  },
  {
   "cell_type": "code",
   "execution_count": 570,
   "metadata": {},
   "outputs": [
    {
     "data": {
      "text/plain": [
       "array([nan, 'Yes'], dtype=object)"
      ]
     },
     "execution_count": 570,
     "metadata": {},
     "output_type": "execute_result"
    }
   ],
   "source": [
    "df['EMERG_VEH'].unique()"
   ]
  },
  {
   "cell_type": "code",
   "execution_count": 571,
   "metadata": {},
   "outputs": [
    {
     "data": {
      "text/plain": [
       "array(['Yes', nan], dtype=object)"
      ]
     },
     "execution_count": 571,
     "metadata": {},
     "output_type": "execute_result"
    }
   ],
   "source": [
    "df['PASSENGER'].unique()"
   ]
  },
  {
   "cell_type": "code",
   "execution_count": 572,
   "metadata": {},
   "outputs": [
    {
     "data": {
      "text/plain": [
       "array(['Yes', nan], dtype=object)"
      ]
     },
     "execution_count": 572,
     "metadata": {},
     "output_type": "execute_result"
    }
   ],
   "source": [
    "df['SPEEDING'].unique()"
   ]
  },
  {
   "cell_type": "code",
   "execution_count": 573,
   "metadata": {},
   "outputs": [
    {
     "data": {
      "text/plain": [
       "array(['Yes', nan], dtype=object)"
      ]
     },
     "execution_count": 573,
     "metadata": {},
     "output_type": "execute_result"
    }
   ],
   "source": [
    "df['AG_DRIV'].unique()"
   ]
  },
  {
   "cell_type": "code",
   "execution_count": 574,
   "metadata": {},
   "outputs": [],
   "source": [
    "df.update(df[['TRSN_CITY_VEH', 'EMERG_VEH', 'PASSENGER', 'SPEEDING', 'AG_DRIV']].fillna('No'))"
   ]
  },
  {
   "cell_type": "code",
   "execution_count": 575,
   "metadata": {},
   "outputs": [
    {
     "data": {
      "text/html": [
       "<div>\n",
       "<style scoped>\n",
       "    .dataframe tbody tr th:only-of-type {\n",
       "        vertical-align: middle;\n",
       "    }\n",
       "\n",
       "    .dataframe tbody tr th {\n",
       "        vertical-align: top;\n",
       "    }\n",
       "\n",
       "    .dataframe thead th {\n",
       "        text-align: right;\n",
       "    }\n",
       "</style>\n",
       "<table border=\"1\" class=\"dataframe\">\n",
       "  <thead>\n",
       "    <tr style=\"text-align: right;\">\n",
       "      <th></th>\n",
       "      <th>TRSN_CITY_VEH</th>\n",
       "      <th>EMERG_VEH</th>\n",
       "      <th>PASSENGER</th>\n",
       "      <th>SPEEDING</th>\n",
       "      <th>AG_DRIV</th>\n",
       "    </tr>\n",
       "  </thead>\n",
       "  <tbody>\n",
       "    <tr>\n",
       "      <th>0</th>\n",
       "      <td>No</td>\n",
       "      <td>No</td>\n",
       "      <td>Yes</td>\n",
       "      <td>Yes</td>\n",
       "      <td>Yes</td>\n",
       "    </tr>\n",
       "    <tr>\n",
       "      <th>1</th>\n",
       "      <td>No</td>\n",
       "      <td>No</td>\n",
       "      <td>Yes</td>\n",
       "      <td>Yes</td>\n",
       "      <td>Yes</td>\n",
       "    </tr>\n",
       "    <tr>\n",
       "      <th>2</th>\n",
       "      <td>No</td>\n",
       "      <td>No</td>\n",
       "      <td>Yes</td>\n",
       "      <td>Yes</td>\n",
       "      <td>Yes</td>\n",
       "    </tr>\n",
       "    <tr>\n",
       "      <th>3</th>\n",
       "      <td>No</td>\n",
       "      <td>No</td>\n",
       "      <td>Yes</td>\n",
       "      <td>Yes</td>\n",
       "      <td>Yes</td>\n",
       "    </tr>\n",
       "    <tr>\n",
       "      <th>4</th>\n",
       "      <td>No</td>\n",
       "      <td>No</td>\n",
       "      <td>Yes</td>\n",
       "      <td>Yes</td>\n",
       "      <td>Yes</td>\n",
       "    </tr>\n",
       "  </tbody>\n",
       "</table>\n",
       "</div>"
      ],
      "text/plain": [
       "  TRSN_CITY_VEH EMERG_VEH PASSENGER SPEEDING AG_DRIV\n",
       "0            No        No       Yes      Yes     Yes\n",
       "1            No        No       Yes      Yes     Yes\n",
       "2            No        No       Yes      Yes     Yes\n",
       "3            No        No       Yes      Yes     Yes\n",
       "4            No        No       Yes      Yes     Yes"
      ]
     },
     "execution_count": 575,
     "metadata": {},
     "output_type": "execute_result"
    }
   ],
   "source": [
    "df[['TRSN_CITY_VEH', 'EMERG_VEH', 'PASSENGER', 'SPEEDING', 'AG_DRIV']].head(5)"
   ]
  },
  {
   "cell_type": "code",
   "execution_count": 576,
   "metadata": {},
   "outputs": [
    {
     "data": {
      "text/html": [
       "<div>\n",
       "<style scoped>\n",
       "    .dataframe tbody tr th:only-of-type {\n",
       "        vertical-align: middle;\n",
       "    }\n",
       "\n",
       "    .dataframe tbody tr th {\n",
       "        vertical-align: top;\n",
       "    }\n",
       "\n",
       "    .dataframe thead th {\n",
       "        text-align: right;\n",
       "    }\n",
       "</style>\n",
       "<table border=\"1\" class=\"dataframe\">\n",
       "  <thead>\n",
       "    <tr style=\"text-align: right;\">\n",
       "      <th></th>\n",
       "      <th>REDLIGHT</th>\n",
       "      <th>ALCOHOL</th>\n",
       "      <th>DISABILITY</th>\n",
       "      <th>Neighbourhood</th>\n",
       "      <th>ObjectId</th>\n",
       "    </tr>\n",
       "  </thead>\n",
       "  <tbody>\n",
       "    <tr>\n",
       "      <th>0</th>\n",
       "      <td>NaN</td>\n",
       "      <td>Yes</td>\n",
       "      <td>NaN</td>\n",
       "      <td>Woodbine-Lumsden (60)</td>\n",
       "      <td>1</td>\n",
       "    </tr>\n",
       "    <tr>\n",
       "      <th>1</th>\n",
       "      <td>NaN</td>\n",
       "      <td>Yes</td>\n",
       "      <td>NaN</td>\n",
       "      <td>Woodbine-Lumsden (60)</td>\n",
       "      <td>2</td>\n",
       "    </tr>\n",
       "    <tr>\n",
       "      <th>2</th>\n",
       "      <td>NaN</td>\n",
       "      <td>Yes</td>\n",
       "      <td>NaN</td>\n",
       "      <td>Woodbine-Lumsden (60)</td>\n",
       "      <td>3</td>\n",
       "    </tr>\n",
       "    <tr>\n",
       "      <th>3</th>\n",
       "      <td>NaN</td>\n",
       "      <td>Yes</td>\n",
       "      <td>NaN</td>\n",
       "      <td>Woodbine-Lumsden (60)</td>\n",
       "      <td>4</td>\n",
       "    </tr>\n",
       "    <tr>\n",
       "      <th>4</th>\n",
       "      <td>NaN</td>\n",
       "      <td>Yes</td>\n",
       "      <td>NaN</td>\n",
       "      <td>Woodbine-Lumsden (60)</td>\n",
       "      <td>5</td>\n",
       "    </tr>\n",
       "  </tbody>\n",
       "</table>\n",
       "</div>"
      ],
      "text/plain": [
       "  REDLIGHT ALCOHOL DISABILITY          Neighbourhood  ObjectId\n",
       "0      NaN     Yes        NaN  Woodbine-Lumsden (60)         1\n",
       "1      NaN     Yes        NaN  Woodbine-Lumsden (60)         2\n",
       "2      NaN     Yes        NaN  Woodbine-Lumsden (60)         3\n",
       "3      NaN     Yes        NaN  Woodbine-Lumsden (60)         4\n",
       "4      NaN     Yes        NaN  Woodbine-Lumsden (60)         5"
      ]
     },
     "execution_count": 576,
     "metadata": {},
     "output_type": "execute_result"
    }
   ],
   "source": [
    "df[['REDLIGHT', 'ALCOHOL', 'DISABILITY', 'Neighbourhood', 'ObjectId']].head(5)"
   ]
  },
  {
   "cell_type": "code",
   "execution_count": 577,
   "metadata": {},
   "outputs": [
    {
     "data": {
      "text/plain": [
       "14732"
      ]
     },
     "execution_count": 577,
     "metadata": {},
     "output_type": "execute_result"
    }
   ],
   "source": [
    "#df['REDLIGHT'].value_counts()\n",
    "#df['REDLIGHT'].unique()\n",
    "df['REDLIGHT'].isnull().sum()"
   ]
  },
  {
   "cell_type": "code",
   "execution_count": 578,
   "metadata": {},
   "outputs": [
    {
     "data": {
      "text/plain": [
       "15380"
      ]
     },
     "execution_count": 578,
     "metadata": {},
     "output_type": "execute_result"
    }
   ],
   "source": [
    "#df['ALCOHOL'].value_counts()\n",
    "#df['ALCOHOL'].unique()\n",
    "df['ALCOHOL'].isnull().sum()"
   ]
  },
  {
   "cell_type": "code",
   "execution_count": 579,
   "metadata": {},
   "outputs": [
    {
     "data": {
      "text/plain": [
       "15643"
      ]
     },
     "execution_count": 579,
     "metadata": {},
     "output_type": "execute_result"
    }
   ],
   "source": [
    "#df['DISABILITY'].value_counts()\n",
    "#df['DISABILITY'].unique()\n",
    "df['DISABILITY'].isnull().sum()"
   ]
  },
  {
   "cell_type": "code",
   "execution_count": 580,
   "metadata": {},
   "outputs": [
    {
     "data": {
      "text/plain": [
       "0"
      ]
     },
     "execution_count": 580,
     "metadata": {},
     "output_type": "execute_result"
    }
   ],
   "source": [
    "#df['Neighbourhood'].nunique()\n",
    "df['Neighbourhood'].isnull().sum()"
   ]
  },
  {
   "cell_type": "code",
   "execution_count": 581,
   "metadata": {},
   "outputs": [
    {
     "data": {
      "text/plain": [
       "0"
      ]
     },
     "execution_count": 581,
     "metadata": {},
     "output_type": "execute_result"
    }
   ],
   "source": [
    "df['ObjectId'].value_counts()\n",
    "df['ObjectId'].nunique()\n",
    "df['ObjectId'].unique()\n",
    "df['ObjectId'].isnull().sum()"
   ]
  },
  {
   "cell_type": "code",
   "execution_count": 582,
   "metadata": {},
   "outputs": [
    {
     "data": {
      "text/plain": [
       "(16093, 48)"
      ]
     },
     "execution_count": 582,
     "metadata": {},
     "output_type": "execute_result"
    }
   ],
   "source": [
    "df.shape"
   ]
  },
  {
   "cell_type": "code",
   "execution_count": 583,
   "metadata": {},
   "outputs": [],
   "source": [
    "df.drop(['ObjectId'],axis=1, inplace=True)"
   ]
  },
  {
   "cell_type": "code",
   "execution_count": 584,
   "metadata": {},
   "outputs": [
    {
     "data": {
      "text/html": [
       "<div>\n",
       "<style scoped>\n",
       "    .dataframe tbody tr th:only-of-type {\n",
       "        vertical-align: middle;\n",
       "    }\n",
       "\n",
       "    .dataframe tbody tr th {\n",
       "        vertical-align: top;\n",
       "    }\n",
       "\n",
       "    .dataframe thead th {\n",
       "        text-align: right;\n",
       "    }\n",
       "</style>\n",
       "<table border=\"1\" class=\"dataframe\">\n",
       "  <thead>\n",
       "    <tr style=\"text-align: right;\">\n",
       "      <th></th>\n",
       "      <th>Index_</th>\n",
       "      <th>ACCNUM</th>\n",
       "      <th>YEAR</th>\n",
       "      <th>ROAD_CLASS</th>\n",
       "      <th>District</th>\n",
       "      <th>LATITUDE</th>\n",
       "      <th>LONGITUDE</th>\n",
       "      <th>LOCCOORD</th>\n",
       "      <th>ACCLOC</th>\n",
       "      <th>TRAFFCTL</th>\n",
       "      <th>...</th>\n",
       "      <th>SPEEDING</th>\n",
       "      <th>AG_DRIV</th>\n",
       "      <th>REDLIGHT</th>\n",
       "      <th>ALCOHOL</th>\n",
       "      <th>DISABILITY</th>\n",
       "      <th>Neighbourhood</th>\n",
       "      <th>MONTH</th>\n",
       "      <th>DAY</th>\n",
       "      <th>Hour</th>\n",
       "      <th>Minutes</th>\n",
       "    </tr>\n",
       "  </thead>\n",
       "  <tbody>\n",
       "    <tr>\n",
       "      <th>0</th>\n",
       "      <td>3389067</td>\n",
       "      <td>893184</td>\n",
       "      <td>2006</td>\n",
       "      <td>Major Arterial</td>\n",
       "      <td>Toronto and East York</td>\n",
       "      <td>43.699595</td>\n",
       "      <td>-79.318797</td>\n",
       "      <td>Intersection</td>\n",
       "      <td>Intersection Related</td>\n",
       "      <td>No Control</td>\n",
       "      <td>...</td>\n",
       "      <td>Yes</td>\n",
       "      <td>Yes</td>\n",
       "      <td>NaN</td>\n",
       "      <td>Yes</td>\n",
       "      <td>NaN</td>\n",
       "      <td>Woodbine-Lumsden (60)</td>\n",
       "      <td>1</td>\n",
       "      <td>1</td>\n",
       "      <td>23</td>\n",
       "      <td>6</td>\n",
       "    </tr>\n",
       "    <tr>\n",
       "      <th>1</th>\n",
       "      <td>3389068</td>\n",
       "      <td>893184</td>\n",
       "      <td>2006</td>\n",
       "      <td>Major Arterial</td>\n",
       "      <td>Toronto and East York</td>\n",
       "      <td>43.699595</td>\n",
       "      <td>-79.318797</td>\n",
       "      <td>Intersection</td>\n",
       "      <td>Intersection Related</td>\n",
       "      <td>No Control</td>\n",
       "      <td>...</td>\n",
       "      <td>Yes</td>\n",
       "      <td>Yes</td>\n",
       "      <td>NaN</td>\n",
       "      <td>Yes</td>\n",
       "      <td>NaN</td>\n",
       "      <td>Woodbine-Lumsden (60)</td>\n",
       "      <td>1</td>\n",
       "      <td>1</td>\n",
       "      <td>23</td>\n",
       "      <td>6</td>\n",
       "    </tr>\n",
       "    <tr>\n",
       "      <th>2</th>\n",
       "      <td>3389069</td>\n",
       "      <td>893184</td>\n",
       "      <td>2006</td>\n",
       "      <td>Major Arterial</td>\n",
       "      <td>Toronto and East York</td>\n",
       "      <td>43.699595</td>\n",
       "      <td>-79.318797</td>\n",
       "      <td>Intersection</td>\n",
       "      <td>Intersection Related</td>\n",
       "      <td>No Control</td>\n",
       "      <td>...</td>\n",
       "      <td>Yes</td>\n",
       "      <td>Yes</td>\n",
       "      <td>NaN</td>\n",
       "      <td>Yes</td>\n",
       "      <td>NaN</td>\n",
       "      <td>Woodbine-Lumsden (60)</td>\n",
       "      <td>1</td>\n",
       "      <td>1</td>\n",
       "      <td>23</td>\n",
       "      <td>6</td>\n",
       "    </tr>\n",
       "    <tr>\n",
       "      <th>3</th>\n",
       "      <td>3389070</td>\n",
       "      <td>893184</td>\n",
       "      <td>2006</td>\n",
       "      <td>Major Arterial</td>\n",
       "      <td>Toronto and East York</td>\n",
       "      <td>43.699595</td>\n",
       "      <td>-79.318797</td>\n",
       "      <td>Intersection</td>\n",
       "      <td>Intersection Related</td>\n",
       "      <td>No Control</td>\n",
       "      <td>...</td>\n",
       "      <td>Yes</td>\n",
       "      <td>Yes</td>\n",
       "      <td>NaN</td>\n",
       "      <td>Yes</td>\n",
       "      <td>NaN</td>\n",
       "      <td>Woodbine-Lumsden (60)</td>\n",
       "      <td>1</td>\n",
       "      <td>1</td>\n",
       "      <td>23</td>\n",
       "      <td>6</td>\n",
       "    </tr>\n",
       "    <tr>\n",
       "      <th>4</th>\n",
       "      <td>3389071</td>\n",
       "      <td>893184</td>\n",
       "      <td>2006</td>\n",
       "      <td>Major Arterial</td>\n",
       "      <td>Toronto and East York</td>\n",
       "      <td>43.699595</td>\n",
       "      <td>-79.318797</td>\n",
       "      <td>Intersection</td>\n",
       "      <td>Intersection Related</td>\n",
       "      <td>No Control</td>\n",
       "      <td>...</td>\n",
       "      <td>Yes</td>\n",
       "      <td>Yes</td>\n",
       "      <td>NaN</td>\n",
       "      <td>Yes</td>\n",
       "      <td>NaN</td>\n",
       "      <td>Woodbine-Lumsden (60)</td>\n",
       "      <td>1</td>\n",
       "      <td>1</td>\n",
       "      <td>23</td>\n",
       "      <td>6</td>\n",
       "    </tr>\n",
       "  </tbody>\n",
       "</table>\n",
       "<p>5 rows × 47 columns</p>\n",
       "</div>"
      ],
      "text/plain": [
       "    Index_  ACCNUM  YEAR      ROAD_CLASS               District   LATITUDE  \\\n",
       "0  3389067  893184  2006  Major Arterial  Toronto and East York  43.699595   \n",
       "1  3389068  893184  2006  Major Arterial  Toronto and East York  43.699595   \n",
       "2  3389069  893184  2006  Major Arterial  Toronto and East York  43.699595   \n",
       "3  3389070  893184  2006  Major Arterial  Toronto and East York  43.699595   \n",
       "4  3389071  893184  2006  Major Arterial  Toronto and East York  43.699595   \n",
       "\n",
       "   LONGITUDE      LOCCOORD                ACCLOC    TRAFFCTL  ... SPEEDING  \\\n",
       "0 -79.318797  Intersection  Intersection Related  No Control  ...      Yes   \n",
       "1 -79.318797  Intersection  Intersection Related  No Control  ...      Yes   \n",
       "2 -79.318797  Intersection  Intersection Related  No Control  ...      Yes   \n",
       "3 -79.318797  Intersection  Intersection Related  No Control  ...      Yes   \n",
       "4 -79.318797  Intersection  Intersection Related  No Control  ...      Yes   \n",
       "\n",
       "  AG_DRIV REDLIGHT ALCOHOL DISABILITY          Neighbourhood MONTH DAY Hour  \\\n",
       "0     Yes      NaN     Yes        NaN  Woodbine-Lumsden (60)     1   1   23   \n",
       "1     Yes      NaN     Yes        NaN  Woodbine-Lumsden (60)     1   1   23   \n",
       "2     Yes      NaN     Yes        NaN  Woodbine-Lumsden (60)     1   1   23   \n",
       "3     Yes      NaN     Yes        NaN  Woodbine-Lumsden (60)     1   1   23   \n",
       "4     Yes      NaN     Yes        NaN  Woodbine-Lumsden (60)     1   1   23   \n",
       "\n",
       "  Minutes  \n",
       "0       6  \n",
       "1       6  \n",
       "2       6  \n",
       "3       6  \n",
       "4       6  \n",
       "\n",
       "[5 rows x 47 columns]"
      ]
     },
     "execution_count": 584,
     "metadata": {},
     "output_type": "execute_result"
    }
   ],
   "source": [
    "df.head()"
   ]
  },
  {
   "cell_type": "code",
   "execution_count": 585,
   "metadata": {},
   "outputs": [],
   "source": [
    "df.update(df[['REDLIGHT', 'ALCOHOL', 'DISABILITY']].fillna('No'))"
   ]
  },
  {
   "cell_type": "code",
   "execution_count": 586,
   "metadata": {},
   "outputs": [
    {
     "data": {
      "text/html": [
       "<div>\n",
       "<style scoped>\n",
       "    .dataframe tbody tr th:only-of-type {\n",
       "        vertical-align: middle;\n",
       "    }\n",
       "\n",
       "    .dataframe tbody tr th {\n",
       "        vertical-align: top;\n",
       "    }\n",
       "\n",
       "    .dataframe thead th {\n",
       "        text-align: right;\n",
       "    }\n",
       "</style>\n",
       "<table border=\"1\" class=\"dataframe\">\n",
       "  <thead>\n",
       "    <tr style=\"text-align: right;\">\n",
       "      <th></th>\n",
       "      <th>REDLIGHT</th>\n",
       "      <th>ALCOHOL</th>\n",
       "      <th>DISABILITY</th>\n",
       "    </tr>\n",
       "  </thead>\n",
       "  <tbody>\n",
       "    <tr>\n",
       "      <th>0</th>\n",
       "      <td>No</td>\n",
       "      <td>Yes</td>\n",
       "      <td>No</td>\n",
       "    </tr>\n",
       "    <tr>\n",
       "      <th>1</th>\n",
       "      <td>No</td>\n",
       "      <td>Yes</td>\n",
       "      <td>No</td>\n",
       "    </tr>\n",
       "    <tr>\n",
       "      <th>2</th>\n",
       "      <td>No</td>\n",
       "      <td>Yes</td>\n",
       "      <td>No</td>\n",
       "    </tr>\n",
       "    <tr>\n",
       "      <th>3</th>\n",
       "      <td>No</td>\n",
       "      <td>Yes</td>\n",
       "      <td>No</td>\n",
       "    </tr>\n",
       "    <tr>\n",
       "      <th>4</th>\n",
       "      <td>No</td>\n",
       "      <td>Yes</td>\n",
       "      <td>No</td>\n",
       "    </tr>\n",
       "  </tbody>\n",
       "</table>\n",
       "</div>"
      ],
      "text/plain": [
       "  REDLIGHT ALCOHOL DISABILITY\n",
       "0       No     Yes         No\n",
       "1       No     Yes         No\n",
       "2       No     Yes         No\n",
       "3       No     Yes         No\n",
       "4       No     Yes         No"
      ]
     },
     "execution_count": 586,
     "metadata": {},
     "output_type": "execute_result"
    }
   ],
   "source": [
    "df[['REDLIGHT', 'ALCOHOL', 'DISABILITY']].head(5)"
   ]
  },
  {
   "cell_type": "code",
   "execution_count": 587,
   "metadata": {},
   "outputs": [
    {
     "data": {
      "text/html": [
       "<div>\n",
       "<style scoped>\n",
       "    .dataframe tbody tr th:only-of-type {\n",
       "        vertical-align: middle;\n",
       "    }\n",
       "\n",
       "    .dataframe tbody tr th {\n",
       "        vertical-align: top;\n",
       "    }\n",
       "\n",
       "    .dataframe thead th {\n",
       "        text-align: right;\n",
       "    }\n",
       "</style>\n",
       "<table border=\"1\" class=\"dataframe\">\n",
       "  <thead>\n",
       "    <tr style=\"text-align: right;\">\n",
       "      <th></th>\n",
       "      <th>VISIBILITY</th>\n",
       "      <th>LIGHT</th>\n",
       "    </tr>\n",
       "  </thead>\n",
       "  <tbody>\n",
       "    <tr>\n",
       "      <th>0</th>\n",
       "      <td>Clear</td>\n",
       "      <td>Dark</td>\n",
       "    </tr>\n",
       "    <tr>\n",
       "      <th>1</th>\n",
       "      <td>Clear</td>\n",
       "      <td>Dark</td>\n",
       "    </tr>\n",
       "    <tr>\n",
       "      <th>2</th>\n",
       "      <td>Clear</td>\n",
       "      <td>Dark</td>\n",
       "    </tr>\n",
       "    <tr>\n",
       "      <th>3</th>\n",
       "      <td>Clear</td>\n",
       "      <td>Dark</td>\n",
       "    </tr>\n",
       "    <tr>\n",
       "      <th>4</th>\n",
       "      <td>Clear</td>\n",
       "      <td>Dark</td>\n",
       "    </tr>\n",
       "  </tbody>\n",
       "</table>\n",
       "</div>"
      ],
      "text/plain": [
       "  VISIBILITY LIGHT\n",
       "0      Clear  Dark\n",
       "1      Clear  Dark\n",
       "2      Clear  Dark\n",
       "3      Clear  Dark\n",
       "4      Clear  Dark"
      ]
     },
     "execution_count": 587,
     "metadata": {},
     "output_type": "execute_result"
    }
   ],
   "source": [
    "df[['VISIBILITY', 'LIGHT']].head()"
   ]
  },
  {
   "cell_type": "code",
   "execution_count": 588,
   "metadata": {},
   "outputs": [
    {
     "data": {
      "text/plain": [
       "Clear                     13814\n",
       "Rain                       1711\n",
       "Snow                        333\n",
       "Other                        99\n",
       "Fog, Mist, Smoke, Dust       44\n",
       "Freezing Rain                43\n",
       "Unknown                      22\n",
       "Drifting Snow                19\n",
       "Strong wind                   8\n",
       "Name: VISIBILITY, dtype: int64"
      ]
     },
     "execution_count": 588,
     "metadata": {},
     "output_type": "execute_result"
    }
   ],
   "source": [
    "df['VISIBILITY'].value_counts()"
   ]
  },
  {
   "cell_type": "code",
   "execution_count": 589,
   "metadata": {},
   "outputs": [
    {
     "data": {
      "text/plain": [
       "Daylight                9255\n",
       "Dark                    3525\n",
       "Dark, artificial        2609\n",
       "Dusk                     221\n",
       "Dusk, artificial         166\n",
       "Daylight, artificial     124\n",
       "Dawn                     102\n",
       "Dawn, artificial          85\n",
       "Other                      6\n",
       "Name: LIGHT, dtype: int64"
      ]
     },
     "execution_count": 589,
     "metadata": {},
     "output_type": "execute_result"
    }
   ],
   "source": [
    "df['LIGHT'].value_counts()"
   ]
  },
  {
   "cell_type": "code",
   "execution_count": 590,
   "metadata": {},
   "outputs": [],
   "source": [
    "df.LIGHT=df.LIGHT.replace(['Dark, artificial','Dusk, artificial','Daylight, artificial','Dawn, artificial'], ['Dark','Dusk','Daylight','Dawn'])"
   ]
  },
  {
   "cell_type": "code",
   "execution_count": 591,
   "metadata": {},
   "outputs": [
    {
     "data": {
      "text/plain": [
       "Daylight    9379\n",
       "Dark        6134\n",
       "Dusk         387\n",
       "Dawn         187\n",
       "Other          6\n",
       "Name: LIGHT, dtype: int64"
      ]
     },
     "execution_count": 591,
     "metadata": {},
     "output_type": "execute_result"
    }
   ],
   "source": [
    "df['LIGHT'].value_counts()"
   ]
  },
  {
   "cell_type": "code",
   "execution_count": 592,
   "metadata": {},
   "outputs": [],
   "source": [
    "df.VISIBILITY=df.VISIBILITY.replace(['Other'],['Unknown'])"
   ]
  },
  {
   "cell_type": "code",
   "execution_count": 593,
   "metadata": {},
   "outputs": [
    {
     "data": {
      "text/plain": [
       "Clear                     13814\n",
       "Rain                       1711\n",
       "Snow                        333\n",
       "Unknown                     121\n",
       "Fog, Mist, Smoke, Dust       44\n",
       "Freezing Rain                43\n",
       "Drifting Snow                19\n",
       "Strong wind                   8\n",
       "Name: VISIBILITY, dtype: int64"
      ]
     },
     "execution_count": 593,
     "metadata": {},
     "output_type": "execute_result"
    }
   ],
   "source": [
    "df['VISIBILITY'].value_counts()"
   ]
  },
  {
   "cell_type": "code",
   "execution_count": 594,
   "metadata": {},
   "outputs": [],
   "source": [
    "df.VISIBILITY=df.VISIBILITY.replace(['Freezing Rain','Drifting Snow'],['Rain','Snow'])"
   ]
  },
  {
   "cell_type": "code",
   "execution_count": 595,
   "metadata": {},
   "outputs": [
    {
     "data": {
      "text/plain": [
       "Clear                     13814\n",
       "Rain                       1754\n",
       "Snow                        352\n",
       "Unknown                     121\n",
       "Fog, Mist, Smoke, Dust       44\n",
       "Strong wind                   8\n",
       "Name: VISIBILITY, dtype: int64"
      ]
     },
     "execution_count": 595,
     "metadata": {},
     "output_type": "execute_result"
    }
   ],
   "source": [
    "df['VISIBILITY'].value_counts()"
   ]
  },
  {
   "cell_type": "code",
   "execution_count": 596,
   "metadata": {},
   "outputs": [
    {
     "data": {
      "text/html": [
       "<div>\n",
       "<style scoped>\n",
       "    .dataframe tbody tr th:only-of-type {\n",
       "        vertical-align: middle;\n",
       "    }\n",
       "\n",
       "    .dataframe tbody tr th {\n",
       "        vertical-align: top;\n",
       "    }\n",
       "\n",
       "    .dataframe thead th {\n",
       "        text-align: right;\n",
       "    }\n",
       "</style>\n",
       "<table border=\"1\" class=\"dataframe\">\n",
       "  <thead>\n",
       "    <tr style=\"text-align: right;\">\n",
       "      <th></th>\n",
       "      <th>Index_</th>\n",
       "      <th>ACCNUM</th>\n",
       "      <th>YEAR</th>\n",
       "      <th>ROAD_CLASS</th>\n",
       "      <th>District</th>\n",
       "      <th>LATITUDE</th>\n",
       "      <th>LONGITUDE</th>\n",
       "      <th>LOCCOORD</th>\n",
       "      <th>ACCLOC</th>\n",
       "      <th>TRAFFCTL</th>\n",
       "      <th>...</th>\n",
       "      <th>SPEEDING</th>\n",
       "      <th>AG_DRIV</th>\n",
       "      <th>REDLIGHT</th>\n",
       "      <th>ALCOHOL</th>\n",
       "      <th>DISABILITY</th>\n",
       "      <th>Neighbourhood</th>\n",
       "      <th>MONTH</th>\n",
       "      <th>DAY</th>\n",
       "      <th>Hour</th>\n",
       "      <th>Minutes</th>\n",
       "    </tr>\n",
       "  </thead>\n",
       "  <tbody>\n",
       "    <tr>\n",
       "      <th>0</th>\n",
       "      <td>3389067</td>\n",
       "      <td>893184</td>\n",
       "      <td>2006</td>\n",
       "      <td>Major Arterial</td>\n",
       "      <td>Toronto and East York</td>\n",
       "      <td>43.699595</td>\n",
       "      <td>-79.318797</td>\n",
       "      <td>Intersection</td>\n",
       "      <td>Intersection Related</td>\n",
       "      <td>No Control</td>\n",
       "      <td>...</td>\n",
       "      <td>Yes</td>\n",
       "      <td>Yes</td>\n",
       "      <td>No</td>\n",
       "      <td>Yes</td>\n",
       "      <td>No</td>\n",
       "      <td>Woodbine-Lumsden (60)</td>\n",
       "      <td>1</td>\n",
       "      <td>1</td>\n",
       "      <td>23</td>\n",
       "      <td>6</td>\n",
       "    </tr>\n",
       "    <tr>\n",
       "      <th>1</th>\n",
       "      <td>3389068</td>\n",
       "      <td>893184</td>\n",
       "      <td>2006</td>\n",
       "      <td>Major Arterial</td>\n",
       "      <td>Toronto and East York</td>\n",
       "      <td>43.699595</td>\n",
       "      <td>-79.318797</td>\n",
       "      <td>Intersection</td>\n",
       "      <td>Intersection Related</td>\n",
       "      <td>No Control</td>\n",
       "      <td>...</td>\n",
       "      <td>Yes</td>\n",
       "      <td>Yes</td>\n",
       "      <td>No</td>\n",
       "      <td>Yes</td>\n",
       "      <td>No</td>\n",
       "      <td>Woodbine-Lumsden (60)</td>\n",
       "      <td>1</td>\n",
       "      <td>1</td>\n",
       "      <td>23</td>\n",
       "      <td>6</td>\n",
       "    </tr>\n",
       "    <tr>\n",
       "      <th>2</th>\n",
       "      <td>3389069</td>\n",
       "      <td>893184</td>\n",
       "      <td>2006</td>\n",
       "      <td>Major Arterial</td>\n",
       "      <td>Toronto and East York</td>\n",
       "      <td>43.699595</td>\n",
       "      <td>-79.318797</td>\n",
       "      <td>Intersection</td>\n",
       "      <td>Intersection Related</td>\n",
       "      <td>No Control</td>\n",
       "      <td>...</td>\n",
       "      <td>Yes</td>\n",
       "      <td>Yes</td>\n",
       "      <td>No</td>\n",
       "      <td>Yes</td>\n",
       "      <td>No</td>\n",
       "      <td>Woodbine-Lumsden (60)</td>\n",
       "      <td>1</td>\n",
       "      <td>1</td>\n",
       "      <td>23</td>\n",
       "      <td>6</td>\n",
       "    </tr>\n",
       "    <tr>\n",
       "      <th>3</th>\n",
       "      <td>3389070</td>\n",
       "      <td>893184</td>\n",
       "      <td>2006</td>\n",
       "      <td>Major Arterial</td>\n",
       "      <td>Toronto and East York</td>\n",
       "      <td>43.699595</td>\n",
       "      <td>-79.318797</td>\n",
       "      <td>Intersection</td>\n",
       "      <td>Intersection Related</td>\n",
       "      <td>No Control</td>\n",
       "      <td>...</td>\n",
       "      <td>Yes</td>\n",
       "      <td>Yes</td>\n",
       "      <td>No</td>\n",
       "      <td>Yes</td>\n",
       "      <td>No</td>\n",
       "      <td>Woodbine-Lumsden (60)</td>\n",
       "      <td>1</td>\n",
       "      <td>1</td>\n",
       "      <td>23</td>\n",
       "      <td>6</td>\n",
       "    </tr>\n",
       "    <tr>\n",
       "      <th>4</th>\n",
       "      <td>3389071</td>\n",
       "      <td>893184</td>\n",
       "      <td>2006</td>\n",
       "      <td>Major Arterial</td>\n",
       "      <td>Toronto and East York</td>\n",
       "      <td>43.699595</td>\n",
       "      <td>-79.318797</td>\n",
       "      <td>Intersection</td>\n",
       "      <td>Intersection Related</td>\n",
       "      <td>No Control</td>\n",
       "      <td>...</td>\n",
       "      <td>Yes</td>\n",
       "      <td>Yes</td>\n",
       "      <td>No</td>\n",
       "      <td>Yes</td>\n",
       "      <td>No</td>\n",
       "      <td>Woodbine-Lumsden (60)</td>\n",
       "      <td>1</td>\n",
       "      <td>1</td>\n",
       "      <td>23</td>\n",
       "      <td>6</td>\n",
       "    </tr>\n",
       "  </tbody>\n",
       "</table>\n",
       "<p>5 rows × 47 columns</p>\n",
       "</div>"
      ],
      "text/plain": [
       "    Index_  ACCNUM  YEAR      ROAD_CLASS               District   LATITUDE  \\\n",
       "0  3389067  893184  2006  Major Arterial  Toronto and East York  43.699595   \n",
       "1  3389068  893184  2006  Major Arterial  Toronto and East York  43.699595   \n",
       "2  3389069  893184  2006  Major Arterial  Toronto and East York  43.699595   \n",
       "3  3389070  893184  2006  Major Arterial  Toronto and East York  43.699595   \n",
       "4  3389071  893184  2006  Major Arterial  Toronto and East York  43.699595   \n",
       "\n",
       "   LONGITUDE      LOCCOORD                ACCLOC    TRAFFCTL  ... SPEEDING  \\\n",
       "0 -79.318797  Intersection  Intersection Related  No Control  ...      Yes   \n",
       "1 -79.318797  Intersection  Intersection Related  No Control  ...      Yes   \n",
       "2 -79.318797  Intersection  Intersection Related  No Control  ...      Yes   \n",
       "3 -79.318797  Intersection  Intersection Related  No Control  ...      Yes   \n",
       "4 -79.318797  Intersection  Intersection Related  No Control  ...      Yes   \n",
       "\n",
       "  AG_DRIV REDLIGHT ALCOHOL DISABILITY          Neighbourhood MONTH DAY Hour  \\\n",
       "0     Yes       No     Yes         No  Woodbine-Lumsden (60)     1   1   23   \n",
       "1     Yes       No     Yes         No  Woodbine-Lumsden (60)     1   1   23   \n",
       "2     Yes       No     Yes         No  Woodbine-Lumsden (60)     1   1   23   \n",
       "3     Yes       No     Yes         No  Woodbine-Lumsden (60)     1   1   23   \n",
       "4     Yes       No     Yes         No  Woodbine-Lumsden (60)     1   1   23   \n",
       "\n",
       "  Minutes  \n",
       "0       6  \n",
       "1       6  \n",
       "2       6  \n",
       "3       6  \n",
       "4       6  \n",
       "\n",
       "[5 rows x 47 columns]"
      ]
     },
     "execution_count": 596,
     "metadata": {},
     "output_type": "execute_result"
    }
   ],
   "source": [
    "df.head()"
   ]
  },
  {
   "cell_type": "code",
   "execution_count": 597,
   "metadata": {},
   "outputs": [
    {
     "data": {
      "text/plain": [
       "Index(['Index_', 'ACCNUM', 'YEAR', 'ROAD_CLASS', 'District', 'LATITUDE',\n",
       "       'LONGITUDE', 'LOCCOORD', 'ACCLOC', 'TRAFFCTL', 'VISIBILITY', 'LIGHT',\n",
       "       'RDSFCOND', 'ACCLASS', 'IMPACTYPE', 'INVTYPE', 'INVAGE', 'INJURY',\n",
       "       'INITDIR', 'VEHTYPE', 'MANOEUVER', 'DRIVACT', 'DRIVCOND', 'PEDTYPE',\n",
       "       'PEDACT', 'PEDCOND', 'CYCLISTYPE', 'CYCACT', 'CYCCOND', 'PEDESTRIAN',\n",
       "       'CYCLIST', 'AUTOMOBILE', 'MOTORCYCLE', 'TRUCK', 'TRSN_CITY_VEH',\n",
       "       'EMERG_VEH', 'PASSENGER', 'SPEEDING', 'AG_DRIV', 'REDLIGHT', 'ALCOHOL',\n",
       "       'DISABILITY', 'Neighbourhood', 'MONTH', 'DAY', 'Hour', 'Minutes'],\n",
       "      dtype='object')"
      ]
     },
     "execution_count": 597,
     "metadata": {},
     "output_type": "execute_result"
    }
   ],
   "source": [
    "df.columns"
   ]
  },
  {
   "cell_type": "code",
   "execution_count": 598,
   "metadata": {},
   "outputs": [
    {
     "data": {
      "text/html": [
       "<div>\n",
       "<style scoped>\n",
       "    .dataframe tbody tr th:only-of-type {\n",
       "        vertical-align: middle;\n",
       "    }\n",
       "\n",
       "    .dataframe tbody tr th {\n",
       "        vertical-align: top;\n",
       "    }\n",
       "\n",
       "    .dataframe thead th {\n",
       "        text-align: right;\n",
       "    }\n",
       "</style>\n",
       "<table border=\"1\" class=\"dataframe\">\n",
       "  <thead>\n",
       "    <tr style=\"text-align: right;\">\n",
       "      <th></th>\n",
       "      <th>INVAGE</th>\n",
       "      <th>INJURY</th>\n",
       "      <th>INITDIR</th>\n",
       "    </tr>\n",
       "  </thead>\n",
       "  <tbody>\n",
       "    <tr>\n",
       "      <th>0</th>\n",
       "      <td>50 to 54</td>\n",
       "      <td>Major</td>\n",
       "      <td>Unknown</td>\n",
       "    </tr>\n",
       "    <tr>\n",
       "      <th>1</th>\n",
       "      <td>15 to 19</td>\n",
       "      <td>Minor</td>\n",
       "      <td>Unknown</td>\n",
       "    </tr>\n",
       "    <tr>\n",
       "      <th>2</th>\n",
       "      <td>55 to 59</td>\n",
       "      <td>Minor</td>\n",
       "      <td>North</td>\n",
       "    </tr>\n",
       "    <tr>\n",
       "      <th>3</th>\n",
       "      <td>20 to 24</td>\n",
       "      <td>Minor</td>\n",
       "      <td>Unknown</td>\n",
       "    </tr>\n",
       "    <tr>\n",
       "      <th>4</th>\n",
       "      <td>15 to 19</td>\n",
       "      <td>Minor</td>\n",
       "      <td>Unknown</td>\n",
       "    </tr>\n",
       "  </tbody>\n",
       "</table>\n",
       "</div>"
      ],
      "text/plain": [
       "     INVAGE INJURY  INITDIR\n",
       "0  50 to 54  Major  Unknown\n",
       "1  15 to 19  Minor  Unknown\n",
       "2  55 to 59  Minor    North\n",
       "3  20 to 24  Minor  Unknown\n",
       "4  15 to 19  Minor  Unknown"
      ]
     },
     "execution_count": 598,
     "metadata": {},
     "output_type": "execute_result"
    }
   ],
   "source": [
    "df[['INVAGE', 'INJURY','INITDIR']].head(5)"
   ]
  },
  {
   "cell_type": "code",
   "execution_count": 599,
   "metadata": {},
   "outputs": [
    {
     "data": {
      "text/plain": [
       "array(['50 to 54', '15 to 19', '55 to 59', '20 to 24', 'unknown',\n",
       "       '25 to 29', '10 to 14', '30 to 34', '45 to 49', '75 to 79',\n",
       "       '35 to 39', '40 to 44', '80 to 84', '60 to 64', '85 to 89',\n",
       "       '65 to 69', '70 to 74', '5 to 9', 'Over 95', '0 to 4', '90 to 94'],\n",
       "      dtype=object)"
      ]
     },
     "execution_count": 599,
     "metadata": {},
     "output_type": "execute_result"
    }
   ],
   "source": [
    "df['INVAGE'].unique()"
   ]
  },
  {
   "cell_type": "code",
   "execution_count": 600,
   "metadata": {},
   "outputs": [
    {
     "data": {
      "text/plain": [
       "unknown     2541\n",
       "20 to 24    1484\n",
       "25 to 29    1417\n",
       "30 to 34    1174\n",
       "50 to 54    1150\n",
       "35 to 39    1136\n",
       "40 to 44    1134\n",
       "45 to 49    1104\n",
       "55 to 59     937\n",
       "60 to 64     743\n",
       "15 to 19     738\n",
       "65 to 69     586\n",
       "70 to 74     463\n",
       "75 to 79     390\n",
       "80 to 84     292\n",
       "10 to 14     214\n",
       "85 to 89     191\n",
       "5 to 9       175\n",
       "0 to 4       156\n",
       "90 to 94      54\n",
       "Over 95       14\n",
       "Name: INVAGE, dtype: int64"
      ]
     },
     "execution_count": 600,
     "metadata": {},
     "output_type": "execute_result"
    }
   ],
   "source": [
    "df['INVAGE'].value_counts()"
   ]
  },
  {
   "cell_type": "code",
   "execution_count": 615,
   "metadata": {},
   "outputs": [],
   "source": [
    "df.INVAGE=df.INVAGE.replace(['15 to 19'],['15 to 24'])"
   ]
  },
  {
   "cell_type": "code",
   "execution_count": 616,
   "metadata": {},
   "outputs": [],
   "source": [
    "df.INVAGE=df.INVAGE.replace(['20 to 24'],['15 to 24'])"
   ]
  },
  {
   "cell_type": "code",
   "execution_count": 617,
   "metadata": {},
   "outputs": [],
   "source": [
    "df.INVAGE=df.INVAGE.replace(['0 to 4'],['0 to 14'])"
   ]
  },
  {
   "cell_type": "code",
   "execution_count": 618,
   "metadata": {},
   "outputs": [],
   "source": [
    "df.INVAGE=df.INVAGE.replace(['5 to 9'],['0 to 14'])"
   ]
  },
  {
   "cell_type": "code",
   "execution_count": 619,
   "metadata": {},
   "outputs": [],
   "source": [
    "df.INVAGE=df.INVAGE.replace(['10 to 14'],['0 to 14'])"
   ]
  },
  {
   "cell_type": "code",
   "execution_count": 601,
   "metadata": {},
   "outputs": [],
   "source": [
    "df.INVAGE=df.INVAGE.replace(['25 to 29'],['25 to 34'])"
   ]
  },
  {
   "cell_type": "code",
   "execution_count": 602,
   "metadata": {},
   "outputs": [],
   "source": [
    "df.INVAGE=df.INVAGE.replace(['30 to 34'],['25 to 34'])"
   ]
  },
  {
   "cell_type": "code",
   "execution_count": 603,
   "metadata": {},
   "outputs": [],
   "source": [
    "df.INVAGE=df.INVAGE.replace(['35 to 39'],['35 to 44'])"
   ]
  },
  {
   "cell_type": "code",
   "execution_count": 604,
   "metadata": {},
   "outputs": [],
   "source": [
    "df.INVAGE=df.INVAGE.replace(['40 to 44'],['35 to 44'])"
   ]
  },
  {
   "cell_type": "code",
   "execution_count": 605,
   "metadata": {},
   "outputs": [],
   "source": [
    "df.INVAGE=df.INVAGE.replace(['45 to 49'],['45 to 54'])"
   ]
  },
  {
   "cell_type": "code",
   "execution_count": 606,
   "metadata": {},
   "outputs": [],
   "source": [
    "df.INVAGE=df.INVAGE.replace(['50 to 54'],['45 to 54'])"
   ]
  },
  {
   "cell_type": "code",
   "execution_count": 607,
   "metadata": {},
   "outputs": [],
   "source": [
    "df.INVAGE=df.INVAGE.replace(['55 to 59'],['55 to 64'])"
   ]
  },
  {
   "cell_type": "code",
   "execution_count": 608,
   "metadata": {},
   "outputs": [],
   "source": [
    "df.INVAGE=df.INVAGE.replace(['60 to 64'],['55 to 64'])"
   ]
  },
  {
   "cell_type": "code",
   "execution_count": 609,
   "metadata": {},
   "outputs": [],
   "source": [
    "df.INVAGE=df.INVAGE.replace(['65 to 69'],['65 to 74'])"
   ]
  },
  {
   "cell_type": "code",
   "execution_count": 610,
   "metadata": {},
   "outputs": [],
   "source": [
    "df.INVAGE=df.INVAGE.replace(['70 to 74'],['65 to 74'])"
   ]
  },
  {
   "cell_type": "code",
   "execution_count": 611,
   "metadata": {},
   "outputs": [],
   "source": [
    "df.INVAGE=df.INVAGE.replace(['75 to 79'],['75 to 84'])"
   ]
  },
  {
   "cell_type": "code",
   "execution_count": 612,
   "metadata": {},
   "outputs": [],
   "source": [
    "df.INVAGE=df.INVAGE.replace(['80 to 84'],['75 to 84'])"
   ]
  },
  {
   "cell_type": "code",
   "execution_count": 613,
   "metadata": {},
   "outputs": [],
   "source": [
    "df.INVAGE=df.INVAGE.replace(['85 to 89'],['85 to 94'])"
   ]
  },
  {
   "cell_type": "code",
   "execution_count": 614,
   "metadata": {},
   "outputs": [],
   "source": [
    "df.INVAGE=df.INVAGE.replace(['90 to 94'],['85 to 94'])"
   ]
  },
  {
   "cell_type": "code",
   "execution_count": 620,
   "metadata": {},
   "outputs": [
    {
     "data": {
      "text/plain": [
       "25 to 34    2591\n",
       "unknown     2541\n",
       "35 to 44    2270\n",
       "45 to 54    2254\n",
       "15 to 24    2222\n",
       "55 to 64    1680\n",
       "65 to 74    1049\n",
       "75 to 84     682\n",
       "0 to 14      545\n",
       "85 to 94     245\n",
       "Over 95       14\n",
       "Name: INVAGE, dtype: int64"
      ]
     },
     "execution_count": 620,
     "metadata": {},
     "output_type": "execute_result"
    }
   ],
   "source": [
    "df['INVAGE'].value_counts()"
   ]
  },
  {
   "cell_type": "code",
   "execution_count": 621,
   "metadata": {},
   "outputs": [],
   "source": [
    "df.INVAGE=df.INVAGE.replace(['unknown'],['Unknown'])"
   ]
  },
  {
   "cell_type": "code",
   "execution_count": 622,
   "metadata": {},
   "outputs": [
    {
     "data": {
      "text/plain": [
       "25 to 34    2591\n",
       "Unknown     2541\n",
       "35 to 44    2270\n",
       "45 to 54    2254\n",
       "15 to 24    2222\n",
       "55 to 64    1680\n",
       "65 to 74    1049\n",
       "75 to 84     682\n",
       "0 to 14      545\n",
       "85 to 94     245\n",
       "Over 95       14\n",
       "Name: INVAGE, dtype: int64"
      ]
     },
     "execution_count": 622,
     "metadata": {},
     "output_type": "execute_result"
    }
   ],
   "source": [
    "df['INVAGE'].value_counts()"
   ]
  },
  {
   "cell_type": "code",
   "execution_count": 625,
   "metadata": {},
   "outputs": [],
   "source": [
    "df.drop(['Index_', 'ACCNUM'],axis=1, inplace=True)"
   ]
  },
  {
   "cell_type": "code",
   "execution_count": 626,
   "metadata": {},
   "outputs": [
    {
     "data": {
      "text/plain": [
       "Index(['YEAR', 'ROAD_CLASS', 'District', 'LATITUDE', 'LONGITUDE', 'LOCCOORD',\n",
       "       'ACCLOC', 'TRAFFCTL', 'VISIBILITY', 'LIGHT', 'RDSFCOND', 'ACCLASS',\n",
       "       'IMPACTYPE', 'INVTYPE', 'INVAGE', 'INJURY', 'INITDIR', 'VEHTYPE',\n",
       "       'MANOEUVER', 'DRIVACT', 'DRIVCOND', 'PEDTYPE', 'PEDACT', 'PEDCOND',\n",
       "       'CYCLISTYPE', 'CYCACT', 'CYCCOND', 'PEDESTRIAN', 'CYCLIST',\n",
       "       'AUTOMOBILE', 'MOTORCYCLE', 'TRUCK', 'TRSN_CITY_VEH', 'EMERG_VEH',\n",
       "       'PASSENGER', 'SPEEDING', 'AG_DRIV', 'REDLIGHT', 'ALCOHOL', 'DISABILITY',\n",
       "       'Neighbourhood', 'MONTH', 'DAY', 'Hour', 'Minutes'],\n",
       "      dtype='object')"
      ]
     },
     "execution_count": 626,
     "metadata": {},
     "output_type": "execute_result"
    }
   ],
   "source": [
    "df.columns"
   ]
  },
  {
   "cell_type": "code",
   "execution_count": 627,
   "metadata": {},
   "outputs": [
    {
     "data": {
      "text/plain": [
       "(16093, 45)"
      ]
     },
     "execution_count": 627,
     "metadata": {},
     "output_type": "execute_result"
    }
   ],
   "source": [
    "df.shape"
   ]
  },
  {
   "cell_type": "code",
   "execution_count": 628,
   "metadata": {},
   "outputs": [
    {
     "data": {
      "text/html": [
       "<div>\n",
       "<style scoped>\n",
       "    .dataframe tbody tr th:only-of-type {\n",
       "        vertical-align: middle;\n",
       "    }\n",
       "\n",
       "    .dataframe tbody tr th {\n",
       "        vertical-align: top;\n",
       "    }\n",
       "\n",
       "    .dataframe thead th {\n",
       "        text-align: right;\n",
       "    }\n",
       "</style>\n",
       "<table border=\"1\" class=\"dataframe\">\n",
       "  <thead>\n",
       "    <tr style=\"text-align: right;\">\n",
       "      <th></th>\n",
       "      <th>YEAR</th>\n",
       "      <th>ROAD_CLASS</th>\n",
       "      <th>District</th>\n",
       "      <th>LATITUDE</th>\n",
       "      <th>LONGITUDE</th>\n",
       "      <th>LOCCOORD</th>\n",
       "      <th>ACCLOC</th>\n",
       "      <th>TRAFFCTL</th>\n",
       "      <th>VISIBILITY</th>\n",
       "      <th>LIGHT</th>\n",
       "      <th>...</th>\n",
       "      <th>SPEEDING</th>\n",
       "      <th>AG_DRIV</th>\n",
       "      <th>REDLIGHT</th>\n",
       "      <th>ALCOHOL</th>\n",
       "      <th>DISABILITY</th>\n",
       "      <th>Neighbourhood</th>\n",
       "      <th>MONTH</th>\n",
       "      <th>DAY</th>\n",
       "      <th>Hour</th>\n",
       "      <th>Minutes</th>\n",
       "    </tr>\n",
       "  </thead>\n",
       "  <tbody>\n",
       "    <tr>\n",
       "      <th>0</th>\n",
       "      <td>2006</td>\n",
       "      <td>Major Arterial</td>\n",
       "      <td>Toronto and East York</td>\n",
       "      <td>43.699595</td>\n",
       "      <td>-79.318797</td>\n",
       "      <td>Intersection</td>\n",
       "      <td>Intersection Related</td>\n",
       "      <td>No Control</td>\n",
       "      <td>Clear</td>\n",
       "      <td>Dark</td>\n",
       "      <td>...</td>\n",
       "      <td>Yes</td>\n",
       "      <td>Yes</td>\n",
       "      <td>No</td>\n",
       "      <td>Yes</td>\n",
       "      <td>No</td>\n",
       "      <td>Woodbine-Lumsden (60)</td>\n",
       "      <td>1</td>\n",
       "      <td>1</td>\n",
       "      <td>23</td>\n",
       "      <td>6</td>\n",
       "    </tr>\n",
       "    <tr>\n",
       "      <th>1</th>\n",
       "      <td>2006</td>\n",
       "      <td>Major Arterial</td>\n",
       "      <td>Toronto and East York</td>\n",
       "      <td>43.699595</td>\n",
       "      <td>-79.318797</td>\n",
       "      <td>Intersection</td>\n",
       "      <td>Intersection Related</td>\n",
       "      <td>No Control</td>\n",
       "      <td>Clear</td>\n",
       "      <td>Dark</td>\n",
       "      <td>...</td>\n",
       "      <td>Yes</td>\n",
       "      <td>Yes</td>\n",
       "      <td>No</td>\n",
       "      <td>Yes</td>\n",
       "      <td>No</td>\n",
       "      <td>Woodbine-Lumsden (60)</td>\n",
       "      <td>1</td>\n",
       "      <td>1</td>\n",
       "      <td>23</td>\n",
       "      <td>6</td>\n",
       "    </tr>\n",
       "  </tbody>\n",
       "</table>\n",
       "<p>2 rows × 45 columns</p>\n",
       "</div>"
      ],
      "text/plain": [
       "   YEAR      ROAD_CLASS               District   LATITUDE  LONGITUDE  \\\n",
       "0  2006  Major Arterial  Toronto and East York  43.699595 -79.318797   \n",
       "1  2006  Major Arterial  Toronto and East York  43.699595 -79.318797   \n",
       "\n",
       "       LOCCOORD                ACCLOC    TRAFFCTL VISIBILITY LIGHT  ...  \\\n",
       "0  Intersection  Intersection Related  No Control      Clear  Dark  ...   \n",
       "1  Intersection  Intersection Related  No Control      Clear  Dark  ...   \n",
       "\n",
       "  SPEEDING AG_DRIV REDLIGHT ALCOHOL DISABILITY          Neighbourhood MONTH  \\\n",
       "0      Yes     Yes       No     Yes         No  Woodbine-Lumsden (60)     1   \n",
       "1      Yes     Yes       No     Yes         No  Woodbine-Lumsden (60)     1   \n",
       "\n",
       "  DAY Hour Minutes  \n",
       "0   1   23       6  \n",
       "1   1   23       6  \n",
       "\n",
       "[2 rows x 45 columns]"
      ]
     },
     "execution_count": 628,
     "metadata": {},
     "output_type": "execute_result"
    }
   ],
   "source": [
    "df.head(2)"
   ]
  },
  {
   "cell_type": "code",
   "execution_count": 629,
   "metadata": {},
   "outputs": [
    {
     "data": {
      "text/plain": [
       "No Control              7692\n",
       "Traffic Signal          6771\n",
       "Stop Sign               1272\n",
       "Pedestrian Crossover     189\n",
       "Traffic Controller       100\n",
       "Unknown                   29\n",
       "Streetcar (Stop for)      16\n",
       "Yield Sign                13\n",
       "Traffic Gate               5\n",
       "School Guard               2\n",
       "Police Control             2\n",
       "PXO - No Ped               2\n",
       "Name: TRAFFCTL, dtype: int64"
      ]
     },
     "execution_count": 629,
     "metadata": {},
     "output_type": "execute_result"
    }
   ],
   "source": [
    "df['TRAFFCTL'].value_counts()"
   ]
  },
  {
   "cell_type": "code",
   "execution_count": 632,
   "metadata": {},
   "outputs": [
    {
     "data": {
      "text/plain": [
       "Major Arterial         11555\n",
       "Minor Arterial          2462\n",
       "Collector                900\n",
       "Local                    727\n",
       "Unknown                  368\n",
       "Other                     33\n",
       "Expressway                24\n",
       "Pending                   13\n",
       "Laneway                   10\n",
       "Major Arterial Ramp        1\n",
       "Name: ROAD_CLASS, dtype: int64"
      ]
     },
     "execution_count": 632,
     "metadata": {},
     "output_type": "execute_result"
    }
   ],
   "source": [
    "df['ROAD_CLASS'].value_counts()"
   ]
  },
  {
   "cell_type": "code",
   "execution_count": 633,
   "metadata": {},
   "outputs": [],
   "source": [
    "df.ROAD_CLASS=df.ROAD_CLASS.replace(['Other'],['Unknown'])"
   ]
  },
  {
   "cell_type": "code",
   "execution_count": 634,
   "metadata": {},
   "outputs": [
    {
     "data": {
      "text/plain": [
       "Major Arterial         11555\n",
       "Minor Arterial          2462\n",
       "Collector                900\n",
       "Local                    727\n",
       "Unknown                  401\n",
       "Expressway                24\n",
       "Pending                   13\n",
       "Laneway                   10\n",
       "Major Arterial Ramp        1\n",
       "Name: ROAD_CLASS, dtype: int64"
      ]
     },
     "execution_count": 634,
     "metadata": {},
     "output_type": "execute_result"
    }
   ],
   "source": [
    "df['ROAD_CLASS'].value_counts()"
   ]
  },
  {
   "cell_type": "code",
   "execution_count": 635,
   "metadata": {},
   "outputs": [],
   "source": [
    "df.ROAD_CLASS=df.ROAD_CLASS.replace(['Major Arterial Ramp'],['Major Arterial'])"
   ]
  },
  {
   "cell_type": "code",
   "execution_count": 638,
   "metadata": {},
   "outputs": [
    {
     "data": {
      "text/plain": [
       "Yes    8306\n",
       "No     7787\n",
       "Name: AG_DRIV, dtype: int64"
      ]
     },
     "execution_count": 638,
     "metadata": {},
     "output_type": "execute_result"
    }
   ],
   "source": [
    "df['AG_DRIV'].value_counts()"
   ]
  },
  {
   "cell_type": "code",
   "execution_count": 639,
   "metadata": {},
   "outputs": [
    {
     "data": {
      "text/plain": [
       "16093"
      ]
     },
     "execution_count": 639,
     "metadata": {},
     "output_type": "execute_result"
    }
   ],
   "source": [
    "sum([True for idx,row in df.iterrows() if any(row.isnull())])"
   ]
  },
  {
   "cell_type": "code",
   "execution_count": 640,
   "metadata": {},
   "outputs": [
    {
     "data": {
      "text/plain": [
       "86795"
      ]
     },
     "execution_count": 640,
     "metadata": {},
     "output_type": "execute_result"
    }
   ],
   "source": [
    ">>> sum(df.isnull().values.ravel())\n"
   ]
  },
  {
   "cell_type": "code",
   "execution_count": 641,
   "metadata": {},
   "outputs": [
    {
     "data": {
      "text/plain": [
       "45"
      ]
     },
     "execution_count": 641,
     "metadata": {},
     "output_type": "execute_result"
    }
   ],
   "source": [
    "sum(map(any, df.isnull()))"
   ]
  },
  {
   "cell_type": "code",
   "execution_count": 643,
   "metadata": {},
   "outputs": [
    {
     "data": {
      "text/html": [
       "<div>\n",
       "<style scoped>\n",
       "    .dataframe tbody tr th:only-of-type {\n",
       "        vertical-align: middle;\n",
       "    }\n",
       "\n",
       "    .dataframe tbody tr th {\n",
       "        vertical-align: top;\n",
       "    }\n",
       "\n",
       "    .dataframe thead th {\n",
       "        text-align: right;\n",
       "    }\n",
       "</style>\n",
       "<table border=\"1\" class=\"dataframe\">\n",
       "  <thead>\n",
       "    <tr style=\"text-align: right;\">\n",
       "      <th></th>\n",
       "      <th>YEAR</th>\n",
       "      <th>ROAD_CLASS</th>\n",
       "      <th>District</th>\n",
       "      <th>LATITUDE</th>\n",
       "      <th>LONGITUDE</th>\n",
       "      <th>LOCCOORD</th>\n",
       "      <th>ACCLOC</th>\n",
       "      <th>TRAFFCTL</th>\n",
       "      <th>VISIBILITY</th>\n",
       "      <th>LIGHT</th>\n",
       "      <th>...</th>\n",
       "      <th>SPEEDING</th>\n",
       "      <th>AG_DRIV</th>\n",
       "      <th>REDLIGHT</th>\n",
       "      <th>ALCOHOL</th>\n",
       "      <th>DISABILITY</th>\n",
       "      <th>Neighbourhood</th>\n",
       "      <th>MONTH</th>\n",
       "      <th>DAY</th>\n",
       "      <th>Hour</th>\n",
       "      <th>Minutes</th>\n",
       "    </tr>\n",
       "  </thead>\n",
       "  <tbody>\n",
       "    <tr>\n",
       "      <th>0</th>\n",
       "      <td>2006</td>\n",
       "      <td>Major Arterial</td>\n",
       "      <td>Toronto and East York</td>\n",
       "      <td>43.699595</td>\n",
       "      <td>-79.318797</td>\n",
       "      <td>Intersection</td>\n",
       "      <td>Intersection Related</td>\n",
       "      <td>No Control</td>\n",
       "      <td>Clear</td>\n",
       "      <td>Dark</td>\n",
       "      <td>...</td>\n",
       "      <td>Yes</td>\n",
       "      <td>Yes</td>\n",
       "      <td>No</td>\n",
       "      <td>Yes</td>\n",
       "      <td>No</td>\n",
       "      <td>Woodbine-Lumsden (60)</td>\n",
       "      <td>1</td>\n",
       "      <td>1</td>\n",
       "      <td>23</td>\n",
       "      <td>6</td>\n",
       "    </tr>\n",
       "    <tr>\n",
       "      <th>1</th>\n",
       "      <td>2006</td>\n",
       "      <td>Major Arterial</td>\n",
       "      <td>Toronto and East York</td>\n",
       "      <td>43.699595</td>\n",
       "      <td>-79.318797</td>\n",
       "      <td>Intersection</td>\n",
       "      <td>Intersection Related</td>\n",
       "      <td>No Control</td>\n",
       "      <td>Clear</td>\n",
       "      <td>Dark</td>\n",
       "      <td>...</td>\n",
       "      <td>Yes</td>\n",
       "      <td>Yes</td>\n",
       "      <td>No</td>\n",
       "      <td>Yes</td>\n",
       "      <td>No</td>\n",
       "      <td>Woodbine-Lumsden (60)</td>\n",
       "      <td>1</td>\n",
       "      <td>1</td>\n",
       "      <td>23</td>\n",
       "      <td>6</td>\n",
       "    </tr>\n",
       "    <tr>\n",
       "      <th>2</th>\n",
       "      <td>2006</td>\n",
       "      <td>Major Arterial</td>\n",
       "      <td>Toronto and East York</td>\n",
       "      <td>43.699595</td>\n",
       "      <td>-79.318797</td>\n",
       "      <td>Intersection</td>\n",
       "      <td>Intersection Related</td>\n",
       "      <td>No Control</td>\n",
       "      <td>Clear</td>\n",
       "      <td>Dark</td>\n",
       "      <td>...</td>\n",
       "      <td>Yes</td>\n",
       "      <td>Yes</td>\n",
       "      <td>No</td>\n",
       "      <td>Yes</td>\n",
       "      <td>No</td>\n",
       "      <td>Woodbine-Lumsden (60)</td>\n",
       "      <td>1</td>\n",
       "      <td>1</td>\n",
       "      <td>23</td>\n",
       "      <td>6</td>\n",
       "    </tr>\n",
       "    <tr>\n",
       "      <th>3</th>\n",
       "      <td>2006</td>\n",
       "      <td>Major Arterial</td>\n",
       "      <td>Toronto and East York</td>\n",
       "      <td>43.699595</td>\n",
       "      <td>-79.318797</td>\n",
       "      <td>Intersection</td>\n",
       "      <td>Intersection Related</td>\n",
       "      <td>No Control</td>\n",
       "      <td>Clear</td>\n",
       "      <td>Dark</td>\n",
       "      <td>...</td>\n",
       "      <td>Yes</td>\n",
       "      <td>Yes</td>\n",
       "      <td>No</td>\n",
       "      <td>Yes</td>\n",
       "      <td>No</td>\n",
       "      <td>Woodbine-Lumsden (60)</td>\n",
       "      <td>1</td>\n",
       "      <td>1</td>\n",
       "      <td>23</td>\n",
       "      <td>6</td>\n",
       "    </tr>\n",
       "    <tr>\n",
       "      <th>4</th>\n",
       "      <td>2006</td>\n",
       "      <td>Major Arterial</td>\n",
       "      <td>Toronto and East York</td>\n",
       "      <td>43.699595</td>\n",
       "      <td>-79.318797</td>\n",
       "      <td>Intersection</td>\n",
       "      <td>Intersection Related</td>\n",
       "      <td>No Control</td>\n",
       "      <td>Clear</td>\n",
       "      <td>Dark</td>\n",
       "      <td>...</td>\n",
       "      <td>Yes</td>\n",
       "      <td>Yes</td>\n",
       "      <td>No</td>\n",
       "      <td>Yes</td>\n",
       "      <td>No</td>\n",
       "      <td>Woodbine-Lumsden (60)</td>\n",
       "      <td>1</td>\n",
       "      <td>1</td>\n",
       "      <td>23</td>\n",
       "      <td>6</td>\n",
       "    </tr>\n",
       "    <tr>\n",
       "      <th>...</th>\n",
       "      <td>...</td>\n",
       "      <td>...</td>\n",
       "      <td>...</td>\n",
       "      <td>...</td>\n",
       "      <td>...</td>\n",
       "      <td>...</td>\n",
       "      <td>...</td>\n",
       "      <td>...</td>\n",
       "      <td>...</td>\n",
       "      <td>...</td>\n",
       "      <td>...</td>\n",
       "      <td>...</td>\n",
       "      <td>...</td>\n",
       "      <td>...</td>\n",
       "      <td>...</td>\n",
       "      <td>...</td>\n",
       "      <td>...</td>\n",
       "      <td>...</td>\n",
       "      <td>...</td>\n",
       "      <td>...</td>\n",
       "      <td>...</td>\n",
       "    </tr>\n",
       "    <tr>\n",
       "      <th>16088</th>\n",
       "      <td>2019</td>\n",
       "      <td>Major Arterial</td>\n",
       "      <td>Etobicoke York</td>\n",
       "      <td>43.752475</td>\n",
       "      <td>-79.516483</td>\n",
       "      <td>Mid-Block</td>\n",
       "      <td>Non Intersection</td>\n",
       "      <td>No Control</td>\n",
       "      <td>Clear</td>\n",
       "      <td>Dark</td>\n",
       "      <td>...</td>\n",
       "      <td>No</td>\n",
       "      <td>Yes</td>\n",
       "      <td>No</td>\n",
       "      <td>No</td>\n",
       "      <td>No</td>\n",
       "      <td>Glenfield-Jane Heights (25)</td>\n",
       "      <td>12</td>\n",
       "      <td>27</td>\n",
       "      <td>23</td>\n",
       "      <td>24</td>\n",
       "    </tr>\n",
       "    <tr>\n",
       "      <th>16089</th>\n",
       "      <td>2019</td>\n",
       "      <td>Major Arterial</td>\n",
       "      <td>Etobicoke York</td>\n",
       "      <td>43.752475</td>\n",
       "      <td>-79.516483</td>\n",
       "      <td>Mid-Block</td>\n",
       "      <td>Non Intersection</td>\n",
       "      <td>No Control</td>\n",
       "      <td>Clear</td>\n",
       "      <td>Dark</td>\n",
       "      <td>...</td>\n",
       "      <td>No</td>\n",
       "      <td>Yes</td>\n",
       "      <td>No</td>\n",
       "      <td>No</td>\n",
       "      <td>No</td>\n",
       "      <td>Glenfield-Jane Heights (25)</td>\n",
       "      <td>12</td>\n",
       "      <td>27</td>\n",
       "      <td>23</td>\n",
       "      <td>24</td>\n",
       "    </tr>\n",
       "    <tr>\n",
       "      <th>16090</th>\n",
       "      <td>2019</td>\n",
       "      <td>Major Arterial</td>\n",
       "      <td>Toronto and East York</td>\n",
       "      <td>43.658504</td>\n",
       "      <td>-79.384868</td>\n",
       "      <td>Intersection</td>\n",
       "      <td>At Intersection</td>\n",
       "      <td>Traffic Signal</td>\n",
       "      <td>Clear</td>\n",
       "      <td>Daylight</td>\n",
       "      <td>...</td>\n",
       "      <td>No</td>\n",
       "      <td>Yes</td>\n",
       "      <td>Yes</td>\n",
       "      <td>No</td>\n",
       "      <td>No</td>\n",
       "      <td>Bay Street Corridor (76)</td>\n",
       "      <td>12</td>\n",
       "      <td>28</td>\n",
       "      <td>15</td>\n",
       "      <td>14</td>\n",
       "    </tr>\n",
       "    <tr>\n",
       "      <th>16091</th>\n",
       "      <td>2019</td>\n",
       "      <td>Major Arterial</td>\n",
       "      <td>Toronto and East York</td>\n",
       "      <td>43.658504</td>\n",
       "      <td>-79.384868</td>\n",
       "      <td>Intersection</td>\n",
       "      <td>At Intersection</td>\n",
       "      <td>Traffic Signal</td>\n",
       "      <td>Clear</td>\n",
       "      <td>Daylight</td>\n",
       "      <td>...</td>\n",
       "      <td>No</td>\n",
       "      <td>Yes</td>\n",
       "      <td>Yes</td>\n",
       "      <td>No</td>\n",
       "      <td>No</td>\n",
       "      <td>Bay Street Corridor (76)</td>\n",
       "      <td>12</td>\n",
       "      <td>28</td>\n",
       "      <td>15</td>\n",
       "      <td>14</td>\n",
       "    </tr>\n",
       "    <tr>\n",
       "      <th>16092</th>\n",
       "      <td>2019</td>\n",
       "      <td>Major Arterial</td>\n",
       "      <td>Toronto and East York</td>\n",
       "      <td>43.658504</td>\n",
       "      <td>-79.384868</td>\n",
       "      <td>Intersection</td>\n",
       "      <td>At Intersection</td>\n",
       "      <td>Traffic Signal</td>\n",
       "      <td>Clear</td>\n",
       "      <td>Daylight</td>\n",
       "      <td>...</td>\n",
       "      <td>No</td>\n",
       "      <td>Yes</td>\n",
       "      <td>Yes</td>\n",
       "      <td>No</td>\n",
       "      <td>No</td>\n",
       "      <td>Bay Street Corridor (76)</td>\n",
       "      <td>12</td>\n",
       "      <td>28</td>\n",
       "      <td>15</td>\n",
       "      <td>14</td>\n",
       "    </tr>\n",
       "  </tbody>\n",
       "</table>\n",
       "<p>16093 rows × 45 columns</p>\n",
       "</div>"
      ],
      "text/plain": [
       "       YEAR      ROAD_CLASS               District   LATITUDE  LONGITUDE  \\\n",
       "0      2006  Major Arterial  Toronto and East York  43.699595 -79.318797   \n",
       "1      2006  Major Arterial  Toronto and East York  43.699595 -79.318797   \n",
       "2      2006  Major Arterial  Toronto and East York  43.699595 -79.318797   \n",
       "3      2006  Major Arterial  Toronto and East York  43.699595 -79.318797   \n",
       "4      2006  Major Arterial  Toronto and East York  43.699595 -79.318797   \n",
       "...     ...             ...                    ...        ...        ...   \n",
       "16088  2019  Major Arterial         Etobicoke York  43.752475 -79.516483   \n",
       "16089  2019  Major Arterial         Etobicoke York  43.752475 -79.516483   \n",
       "16090  2019  Major Arterial  Toronto and East York  43.658504 -79.384868   \n",
       "16091  2019  Major Arterial  Toronto and East York  43.658504 -79.384868   \n",
       "16092  2019  Major Arterial  Toronto and East York  43.658504 -79.384868   \n",
       "\n",
       "           LOCCOORD                ACCLOC        TRAFFCTL VISIBILITY  \\\n",
       "0      Intersection  Intersection Related      No Control      Clear   \n",
       "1      Intersection  Intersection Related      No Control      Clear   \n",
       "2      Intersection  Intersection Related      No Control      Clear   \n",
       "3      Intersection  Intersection Related      No Control      Clear   \n",
       "4      Intersection  Intersection Related      No Control      Clear   \n",
       "...             ...                   ...             ...        ...   \n",
       "16088     Mid-Block      Non Intersection      No Control      Clear   \n",
       "16089     Mid-Block      Non Intersection      No Control      Clear   \n",
       "16090  Intersection       At Intersection  Traffic Signal      Clear   \n",
       "16091  Intersection       At Intersection  Traffic Signal      Clear   \n",
       "16092  Intersection       At Intersection  Traffic Signal      Clear   \n",
       "\n",
       "          LIGHT  ... SPEEDING AG_DRIV REDLIGHT ALCOHOL DISABILITY  \\\n",
       "0          Dark  ...      Yes     Yes       No     Yes         No   \n",
       "1          Dark  ...      Yes     Yes       No     Yes         No   \n",
       "2          Dark  ...      Yes     Yes       No     Yes         No   \n",
       "3          Dark  ...      Yes     Yes       No     Yes         No   \n",
       "4          Dark  ...      Yes     Yes       No     Yes         No   \n",
       "...         ...  ...      ...     ...      ...     ...        ...   \n",
       "16088      Dark  ...       No     Yes       No      No         No   \n",
       "16089      Dark  ...       No     Yes       No      No         No   \n",
       "16090  Daylight  ...       No     Yes      Yes      No         No   \n",
       "16091  Daylight  ...       No     Yes      Yes      No         No   \n",
       "16092  Daylight  ...       No     Yes      Yes      No         No   \n",
       "\n",
       "                     Neighbourhood MONTH DAY Hour Minutes  \n",
       "0            Woodbine-Lumsden (60)     1   1   23       6  \n",
       "1            Woodbine-Lumsden (60)     1   1   23       6  \n",
       "2            Woodbine-Lumsden (60)     1   1   23       6  \n",
       "3            Woodbine-Lumsden (60)     1   1   23       6  \n",
       "4            Woodbine-Lumsden (60)     1   1   23       6  \n",
       "...                            ...   ...  ..  ...     ...  \n",
       "16088  Glenfield-Jane Heights (25)    12  27   23      24  \n",
       "16089  Glenfield-Jane Heights (25)    12  27   23      24  \n",
       "16090     Bay Street Corridor (76)    12  28   15      14  \n",
       "16091     Bay Street Corridor (76)    12  28   15      14  \n",
       "16092     Bay Street Corridor (76)    12  28   15      14  \n",
       "\n",
       "[16093 rows x 45 columns]"
      ]
     },
     "execution_count": 643,
     "metadata": {},
     "output_type": "execute_result"
    }
   ],
   "source": [
    "df.dropna(thresh=1)"
   ]
  },
  {
   "cell_type": "code",
   "execution_count": 644,
   "metadata": {},
   "outputs": [
    {
     "data": {
      "text/plain": [
       "YEAR                 0\n",
       "ROAD_CLASS           0\n",
       "District            13\n",
       "LATITUDE             0\n",
       "LONGITUDE            0\n",
       "LOCCOORD             0\n",
       "ACCLOC               0\n",
       "TRAFFCTL             0\n",
       "VISIBILITY           0\n",
       "LIGHT                0\n",
       "RDSFCOND             0\n",
       "ACCLASS              0\n",
       "IMPACTYPE            4\n",
       "INVTYPE             10\n",
       "INVAGE               0\n",
       "INJURY               0\n",
       "INITDIR              0\n",
       "VEHTYPE              0\n",
       "MANOEUVER            0\n",
       "DRIVACT              0\n",
       "DRIVCOND             0\n",
       "PEDTYPE          13523\n",
       "PEDACT           13529\n",
       "PEDCOND          13409\n",
       "CYCLISTYPE       15452\n",
       "CYCACT           15427\n",
       "CYCCOND          15428\n",
       "PEDESTRIAN           0\n",
       "CYCLIST              0\n",
       "AUTOMOBILE           0\n",
       "MOTORCYCLE           0\n",
       "TRUCK                0\n",
       "TRSN_CITY_VEH        0\n",
       "EMERG_VEH            0\n",
       "PASSENGER            0\n",
       "SPEEDING             0\n",
       "AG_DRIV              0\n",
       "REDLIGHT             0\n",
       "ALCOHOL              0\n",
       "DISABILITY           0\n",
       "Neighbourhood        0\n",
       "MONTH                0\n",
       "DAY                  0\n",
       "Hour                 0\n",
       "Minutes              0\n",
       "dtype: int64"
      ]
     },
     "execution_count": 644,
     "metadata": {},
     "output_type": "execute_result"
    }
   ],
   "source": [
    "df.isnull().sum()"
   ]
  },
  {
   "cell_type": "code",
   "execution_count": 658,
   "metadata": {},
   "outputs": [
    {
     "data": {
      "text/plain": [
       "Pedestrian hit at mid-block                                                                     653\n",
       "Vehicle turns left while ped crosses with ROW at inter.                                         506\n",
       "Vehicle is going straight thru inter.while ped cross without ROW                                445\n",
       "Pedestrian hit on sidewalk or shoulder                                                          195\n",
       "Vehicle is going straight thru inter.while ped cross with ROW                                   146\n",
       "Vehicle turns right while ped crosses with ROW at inter.                                        146\n",
       "Pedestrian involved in a collision with transit vehicle anywhere along roadway                  131\n",
       "Vehicle is reversing and hits pedestrian                                                         70\n",
       "Other / Undefined                                                                                69\n",
       "Vehicle turns left while ped crosses without ROW at inter.                                       62\n",
       "Pedestrian hit a PXO/ped. Mid-block signal                                                       54\n",
       "Pedestrian hit at private driveway                                                               36\n",
       "Vehicle hits the pedestrian walking or running out from between parked vehicles at mid-block     22\n",
       "Unknown                                                                                          16\n",
       "Vehicle turns right while ped crosses without ROW at inter.                                      16\n",
       "Pedestrian hit at parking lot                                                                     3\n",
       "Name: PEDTYPE, dtype: int64"
      ]
     },
     "execution_count": 658,
     "metadata": {},
     "output_type": "execute_result"
    }
   ],
   "source": [
    "df['PEDTYPE'].value_counts()"
   ]
  },
  {
   "cell_type": "code",
   "execution_count": 671,
   "metadata": {},
   "outputs": [],
   "source": [
    "#df['PEDTYPE'].isna()\n",
    "df.update(df[['PEDTYPE']].fillna('Unknown'))"
   ]
  },
  {
   "cell_type": "code",
   "execution_count": 673,
   "metadata": {},
   "outputs": [
    {
     "data": {
      "text/plain": [
       "Crossing with right of way               790\n",
       "Crossing, no Traffic Control             595\n",
       "Crossing without right of way            345\n",
       "On Sidewalk or Shoulder                  216\n",
       "Running onto Roadway                     203\n",
       "Other                                    195\n",
       "Crossing, Pedestrian Crossover            57\n",
       "Person Getting on/off Vehicle             33\n",
       "Coming From Behind Parked Vehicle         31\n",
       "Walking on Roadway with Traffic           27\n",
       "Playing or Working on Highway             23\n",
       "Walking on Roadway Against Traffic        19\n",
       "Crossing marked crosswalk without ROW     16\n",
       "Pushing/Working on Vehicle                12\n",
       "Person Getting on/off School Bus           2\n",
       "Name: PEDACT, dtype: int64"
      ]
     },
     "execution_count": 673,
     "metadata": {},
     "output_type": "execute_result"
    }
   ],
   "source": [
    "df['PEDACT'].value_counts()"
   ]
  },
  {
   "cell_type": "code",
   "execution_count": 678,
   "metadata": {},
   "outputs": [
    {
     "data": {
      "text/plain": [
       "Crossing with right of way               790\n",
       "Crossing, no Traffic Control             595\n",
       "Crossing without right of way            345\n",
       "On Sidewalk or Shoulder                  216\n",
       "Running onto Roadway                     203\n",
       "Other                                    195\n",
       "Crossing, Pedestrian Crossover            57\n",
       "Person Getting on/off Vehicle             33\n",
       "Coming From Behind Parked Vehicle         31\n",
       "Walking on Roadway with Traffic           27\n",
       "Playing or Working on Highway             23\n",
       "Walking on Roadway Against Traffic        19\n",
       "Crossing marked crosswalk without ROW     16\n",
       "Pushing/Working on Vehicle                12\n",
       "Person Getting on/off School Bus           2\n",
       "Name: PEDACT, dtype: int64"
      ]
     },
     "execution_count": 678,
     "metadata": {},
     "output_type": "execute_result"
    }
   ],
   "source": [
    "df['PEDACT'].value_counts()"
   ]
  },
  {
   "cell_type": "code",
   "execution_count": 680,
   "metadata": {},
   "outputs": [
    {
     "data": {
      "text/plain": [
       "PEDTYPE           0\n",
       "PEDACT        13529\n",
       "PEDCOND       13409\n",
       "CYCLISTYPE    15452\n",
       "CYCACT        15427\n",
       "CYCCOND       15428\n",
       "dtype: int64"
      ]
     },
     "execution_count": 680,
     "metadata": {},
     "output_type": "execute_result"
    }
   ],
   "source": [
    "df[['PEDTYPE','PEDACT','PEDCOND','CYCLISTYPE','CYCACT','CYCCOND']].isnull().sum()"
   ]
  },
  {
   "cell_type": "code",
   "execution_count": 681,
   "metadata": {},
   "outputs": [],
   "source": [
    "df.drop(['PEDTYPE','PEDACT','PEDCOND','CYCLISTYPE','CYCACT','CYCCOND'],axis=1, inplace=True)"
   ]
  },
  {
   "cell_type": "code",
   "execution_count": 682,
   "metadata": {},
   "outputs": [
    {
     "data": {
      "text/plain": [
       "Index(['YEAR', 'ROAD_CLASS', 'District', 'LATITUDE', 'LONGITUDE', 'LOCCOORD',\n",
       "       'ACCLOC', 'TRAFFCTL', 'VISIBILITY', 'LIGHT', 'RDSFCOND', 'ACCLASS',\n",
       "       'IMPACTYPE', 'INVTYPE', 'INVAGE', 'INJURY', 'INITDIR', 'VEHTYPE',\n",
       "       'MANOEUVER', 'DRIVACT', 'DRIVCOND', 'PEDESTRIAN', 'CYCLIST',\n",
       "       'AUTOMOBILE', 'MOTORCYCLE', 'TRUCK', 'TRSN_CITY_VEH', 'EMERG_VEH',\n",
       "       'PASSENGER', 'SPEEDING', 'AG_DRIV', 'REDLIGHT', 'ALCOHOL', 'DISABILITY',\n",
       "       'Neighbourhood', 'MONTH', 'DAY', 'Hour', 'Minutes'],\n",
       "      dtype='object')"
      ]
     },
     "execution_count": 682,
     "metadata": {},
     "output_type": "execute_result"
    }
   ],
   "source": [
    "df.columns"
   ]
  },
  {
   "cell_type": "code",
   "execution_count": 683,
   "metadata": {},
   "outputs": [
    {
     "data": {
      "text/html": [
       "<div>\n",
       "<style scoped>\n",
       "    .dataframe tbody tr th:only-of-type {\n",
       "        vertical-align: middle;\n",
       "    }\n",
       "\n",
       "    .dataframe tbody tr th {\n",
       "        vertical-align: top;\n",
       "    }\n",
       "\n",
       "    .dataframe thead th {\n",
       "        text-align: right;\n",
       "    }\n",
       "</style>\n",
       "<table border=\"1\" class=\"dataframe\">\n",
       "  <thead>\n",
       "    <tr style=\"text-align: right;\">\n",
       "      <th></th>\n",
       "      <th>YEAR</th>\n",
       "      <th>ROAD_CLASS</th>\n",
       "      <th>District</th>\n",
       "      <th>LATITUDE</th>\n",
       "      <th>LONGITUDE</th>\n",
       "      <th>LOCCOORD</th>\n",
       "      <th>ACCLOC</th>\n",
       "      <th>TRAFFCTL</th>\n",
       "      <th>VISIBILITY</th>\n",
       "      <th>LIGHT</th>\n",
       "      <th>...</th>\n",
       "      <th>SPEEDING</th>\n",
       "      <th>AG_DRIV</th>\n",
       "      <th>REDLIGHT</th>\n",
       "      <th>ALCOHOL</th>\n",
       "      <th>DISABILITY</th>\n",
       "      <th>Neighbourhood</th>\n",
       "      <th>MONTH</th>\n",
       "      <th>DAY</th>\n",
       "      <th>Hour</th>\n",
       "      <th>Minutes</th>\n",
       "    </tr>\n",
       "  </thead>\n",
       "  <tbody>\n",
       "    <tr>\n",
       "      <th>0</th>\n",
       "      <td>2006</td>\n",
       "      <td>Major Arterial</td>\n",
       "      <td>Toronto and East York</td>\n",
       "      <td>43.699595</td>\n",
       "      <td>-79.318797</td>\n",
       "      <td>Intersection</td>\n",
       "      <td>Intersection Related</td>\n",
       "      <td>No Control</td>\n",
       "      <td>Clear</td>\n",
       "      <td>Dark</td>\n",
       "      <td>...</td>\n",
       "      <td>Yes</td>\n",
       "      <td>Yes</td>\n",
       "      <td>No</td>\n",
       "      <td>Yes</td>\n",
       "      <td>No</td>\n",
       "      <td>Woodbine-Lumsden (60)</td>\n",
       "      <td>1</td>\n",
       "      <td>1</td>\n",
       "      <td>23</td>\n",
       "      <td>6</td>\n",
       "    </tr>\n",
       "    <tr>\n",
       "      <th>1</th>\n",
       "      <td>2006</td>\n",
       "      <td>Major Arterial</td>\n",
       "      <td>Toronto and East York</td>\n",
       "      <td>43.699595</td>\n",
       "      <td>-79.318797</td>\n",
       "      <td>Intersection</td>\n",
       "      <td>Intersection Related</td>\n",
       "      <td>No Control</td>\n",
       "      <td>Clear</td>\n",
       "      <td>Dark</td>\n",
       "      <td>...</td>\n",
       "      <td>Yes</td>\n",
       "      <td>Yes</td>\n",
       "      <td>No</td>\n",
       "      <td>Yes</td>\n",
       "      <td>No</td>\n",
       "      <td>Woodbine-Lumsden (60)</td>\n",
       "      <td>1</td>\n",
       "      <td>1</td>\n",
       "      <td>23</td>\n",
       "      <td>6</td>\n",
       "    </tr>\n",
       "    <tr>\n",
       "      <th>2</th>\n",
       "      <td>2006</td>\n",
       "      <td>Major Arterial</td>\n",
       "      <td>Toronto and East York</td>\n",
       "      <td>43.699595</td>\n",
       "      <td>-79.318797</td>\n",
       "      <td>Intersection</td>\n",
       "      <td>Intersection Related</td>\n",
       "      <td>No Control</td>\n",
       "      <td>Clear</td>\n",
       "      <td>Dark</td>\n",
       "      <td>...</td>\n",
       "      <td>Yes</td>\n",
       "      <td>Yes</td>\n",
       "      <td>No</td>\n",
       "      <td>Yes</td>\n",
       "      <td>No</td>\n",
       "      <td>Woodbine-Lumsden (60)</td>\n",
       "      <td>1</td>\n",
       "      <td>1</td>\n",
       "      <td>23</td>\n",
       "      <td>6</td>\n",
       "    </tr>\n",
       "    <tr>\n",
       "      <th>3</th>\n",
       "      <td>2006</td>\n",
       "      <td>Major Arterial</td>\n",
       "      <td>Toronto and East York</td>\n",
       "      <td>43.699595</td>\n",
       "      <td>-79.318797</td>\n",
       "      <td>Intersection</td>\n",
       "      <td>Intersection Related</td>\n",
       "      <td>No Control</td>\n",
       "      <td>Clear</td>\n",
       "      <td>Dark</td>\n",
       "      <td>...</td>\n",
       "      <td>Yes</td>\n",
       "      <td>Yes</td>\n",
       "      <td>No</td>\n",
       "      <td>Yes</td>\n",
       "      <td>No</td>\n",
       "      <td>Woodbine-Lumsden (60)</td>\n",
       "      <td>1</td>\n",
       "      <td>1</td>\n",
       "      <td>23</td>\n",
       "      <td>6</td>\n",
       "    </tr>\n",
       "    <tr>\n",
       "      <th>4</th>\n",
       "      <td>2006</td>\n",
       "      <td>Major Arterial</td>\n",
       "      <td>Toronto and East York</td>\n",
       "      <td>43.699595</td>\n",
       "      <td>-79.318797</td>\n",
       "      <td>Intersection</td>\n",
       "      <td>Intersection Related</td>\n",
       "      <td>No Control</td>\n",
       "      <td>Clear</td>\n",
       "      <td>Dark</td>\n",
       "      <td>...</td>\n",
       "      <td>Yes</td>\n",
       "      <td>Yes</td>\n",
       "      <td>No</td>\n",
       "      <td>Yes</td>\n",
       "      <td>No</td>\n",
       "      <td>Woodbine-Lumsden (60)</td>\n",
       "      <td>1</td>\n",
       "      <td>1</td>\n",
       "      <td>23</td>\n",
       "      <td>6</td>\n",
       "    </tr>\n",
       "  </tbody>\n",
       "</table>\n",
       "<p>5 rows × 39 columns</p>\n",
       "</div>"
      ],
      "text/plain": [
       "   YEAR      ROAD_CLASS               District   LATITUDE  LONGITUDE  \\\n",
       "0  2006  Major Arterial  Toronto and East York  43.699595 -79.318797   \n",
       "1  2006  Major Arterial  Toronto and East York  43.699595 -79.318797   \n",
       "2  2006  Major Arterial  Toronto and East York  43.699595 -79.318797   \n",
       "3  2006  Major Arterial  Toronto and East York  43.699595 -79.318797   \n",
       "4  2006  Major Arterial  Toronto and East York  43.699595 -79.318797   \n",
       "\n",
       "       LOCCOORD                ACCLOC    TRAFFCTL VISIBILITY LIGHT  ...  \\\n",
       "0  Intersection  Intersection Related  No Control      Clear  Dark  ...   \n",
       "1  Intersection  Intersection Related  No Control      Clear  Dark  ...   \n",
       "2  Intersection  Intersection Related  No Control      Clear  Dark  ...   \n",
       "3  Intersection  Intersection Related  No Control      Clear  Dark  ...   \n",
       "4  Intersection  Intersection Related  No Control      Clear  Dark  ...   \n",
       "\n",
       "  SPEEDING AG_DRIV REDLIGHT ALCOHOL DISABILITY          Neighbourhood MONTH  \\\n",
       "0      Yes     Yes       No     Yes         No  Woodbine-Lumsden (60)     1   \n",
       "1      Yes     Yes       No     Yes         No  Woodbine-Lumsden (60)     1   \n",
       "2      Yes     Yes       No     Yes         No  Woodbine-Lumsden (60)     1   \n",
       "3      Yes     Yes       No     Yes         No  Woodbine-Lumsden (60)     1   \n",
       "4      Yes     Yes       No     Yes         No  Woodbine-Lumsden (60)     1   \n",
       "\n",
       "  DAY Hour Minutes  \n",
       "0   1   23       6  \n",
       "1   1   23       6  \n",
       "2   1   23       6  \n",
       "3   1   23       6  \n",
       "4   1   23       6  \n",
       "\n",
       "[5 rows x 39 columns]"
      ]
     },
     "execution_count": 683,
     "metadata": {},
     "output_type": "execute_result"
    }
   ],
   "source": [
    "df.head()"
   ]
  },
  {
   "cell_type": "code",
   "execution_count": 686,
   "metadata": {},
   "outputs": [
    {
     "data": {
      "text/plain": [
       "Index(['YEAR', 'ROAD_CLASS', 'District', 'LATITUDE', 'LONGITUDE', 'LOCCOORD',\n",
       "       'ACCLOC', 'TRAFFCTL', 'VISIBILITY', 'LIGHT', 'RDSFCOND', 'ACCLASS',\n",
       "       'IMPACTYPE', 'INVTYPE', 'INVAGE', 'INJURY', 'INITDIR', 'VEHTYPE',\n",
       "       'MANOEUVER', 'DRIVACT', 'DRIVCOND', 'PEDESTRIAN', 'CYCLIST',\n",
       "       'AUTOMOBILE', 'MOTORCYCLE', 'TRUCK', 'TRSN_CITY_VEH', 'EMERG_VEH',\n",
       "       'PASSENGER', 'SPEEDING', 'AG_DRIV', 'REDLIGHT', 'ALCOHOL', 'DISABILITY',\n",
       "       'Neighbourhood', 'MONTH', 'DAY', 'Hour', 'Minutes'],\n",
       "      dtype='object')"
      ]
     },
     "execution_count": 686,
     "metadata": {},
     "output_type": "execute_result"
    }
   ],
   "source": [
    "df.columns"
   ]
  },
  {
   "cell_type": "code",
   "execution_count": 694,
   "metadata": {},
   "outputs": [],
   "source": [
    "df.rename(columns = {'District': 'DISTRICT','Neighbourhood': 'NEIGHBOURHOOD'}, inplace = True)"
   ]
  },
  {
   "cell_type": "code",
   "execution_count": 695,
   "metadata": {},
   "outputs": [],
   "source": [
    "df.to_csv('Clean_KSI.csv')"
   ]
  },
  {
   "cell_type": "code",
   "execution_count": 699,
   "metadata": {},
   "outputs": [
    {
     "data": {
      "text/plain": [
       "Index(['YEAR', 'ROAD_CLASS', 'DISTRICT', 'LATITUDE', 'LONGITUDE', 'LOCCOORD',\n",
       "       'ACCLOC', 'TRAFFCTL', 'VISIBILITY', 'LIGHT', 'RDSFCOND', 'ACCLASS',\n",
       "       'IMPACTYPE', 'INVTYPE', 'INVAGE', 'INJURY', 'INITDIR', 'VEHTYPE',\n",
       "       'MANOEUVER', 'DRIVACT', 'DRIVCOND', 'PEDESTRIAN', 'CYCLIST',\n",
       "       'AUTOMOBILE', 'MOTORCYCLE', 'TRUCK', 'TRSN_CITY_VEH', 'EMERG_VEH',\n",
       "       'PASSENGER', 'SPEEDING', 'AG_DRIV', 'REDLIGHT', 'ALCOHOL', 'DISABILITY',\n",
       "       'NEIGHBOURHOOD', 'MONTH', 'DAY', 'Hour', 'Minutes'],\n",
       "      dtype='object')"
      ]
     },
     "execution_count": 699,
     "metadata": {},
     "output_type": "execute_result"
    }
   ],
   "source": [
    "df.columns"
   ]
  },
  {
   "cell_type": "code",
   "execution_count": 700,
   "metadata": {},
   "outputs": [],
   "source": [
    "dfnew=df[['YEAR', 'ROAD_CLASS', 'DISTRICT', 'LATITUDE', 'LONGITUDE', 'LOCCOORD',\n",
    "       'ACCLOC', 'TRAFFCTL', 'VISIBILITY', 'LIGHT', 'RDSFCOND', 'ACCLASS',\n",
    "       'IMPACTYPE', 'INVTYPE', 'INVAGE', 'INJURY', 'INITDIR', 'VEHTYPE',\n",
    "       'MANOEUVER', 'DRIVACT', 'DRIVCOND', 'PEDESTRIAN', 'CYCLIST',\n",
    "       'AUTOMOBILE', 'MOTORCYCLE', 'TRUCK', 'TRSN_CITY_VEH', 'EMERG_VEH',\n",
    "       'PASSENGER', 'SPEEDING', 'AG_DRIV', 'REDLIGHT', 'ALCOHOL', 'DISABILITY',\n",
    "       'NEIGHBOURHOOD', 'MONTH', 'DAY', 'Hour', 'Minutes']]"
   ]
  },
  {
   "cell_type": "code",
   "execution_count": 701,
   "metadata": {},
   "outputs": [
    {
     "data": {
      "text/plain": [
       "YEAR              0\n",
       "ROAD_CLASS        0\n",
       "DISTRICT         13\n",
       "LATITUDE          0\n",
       "LONGITUDE         0\n",
       "LOCCOORD          0\n",
       "ACCLOC            0\n",
       "TRAFFCTL          0\n",
       "VISIBILITY        0\n",
       "LIGHT             0\n",
       "RDSFCOND          0\n",
       "ACCLASS           0\n",
       "IMPACTYPE         4\n",
       "INVTYPE          10\n",
       "INVAGE            0\n",
       "INJURY            0\n",
       "INITDIR           0\n",
       "VEHTYPE           0\n",
       "MANOEUVER         0\n",
       "DRIVACT           0\n",
       "DRIVCOND          0\n",
       "PEDESTRIAN        0\n",
       "CYCLIST           0\n",
       "AUTOMOBILE        0\n",
       "MOTORCYCLE        0\n",
       "TRUCK             0\n",
       "TRSN_CITY_VEH     0\n",
       "EMERG_VEH         0\n",
       "PASSENGER         0\n",
       "SPEEDING          0\n",
       "AG_DRIV           0\n",
       "REDLIGHT          0\n",
       "ALCOHOL           0\n",
       "DISABILITY        0\n",
       "NEIGHBOURHOOD     0\n",
       "MONTH             0\n",
       "DAY               0\n",
       "Hour              0\n",
       "Minutes           0\n",
       "dtype: int64"
      ]
     },
     "execution_count": 701,
     "metadata": {},
     "output_type": "execute_result"
    }
   ],
   "source": [
    "dfnew.isnull().sum()"
   ]
  },
  {
   "cell_type": "code",
   "execution_count": 702,
   "metadata": {},
   "outputs": [
    {
     "data": {
      "text/html": [
       "<div>\n",
       "<style scoped>\n",
       "    .dataframe tbody tr th:only-of-type {\n",
       "        vertical-align: middle;\n",
       "    }\n",
       "\n",
       "    .dataframe tbody tr th {\n",
       "        vertical-align: top;\n",
       "    }\n",
       "\n",
       "    .dataframe thead th {\n",
       "        text-align: right;\n",
       "    }\n",
       "</style>\n",
       "<table border=\"1\" class=\"dataframe\">\n",
       "  <thead>\n",
       "    <tr style=\"text-align: right;\">\n",
       "      <th></th>\n",
       "      <th>YEAR</th>\n",
       "      <th>ROAD_CLASS</th>\n",
       "      <th>DISTRICT</th>\n",
       "      <th>LATITUDE</th>\n",
       "      <th>LONGITUDE</th>\n",
       "      <th>LOCCOORD</th>\n",
       "      <th>ACCLOC</th>\n",
       "      <th>TRAFFCTL</th>\n",
       "      <th>VISIBILITY</th>\n",
       "      <th>LIGHT</th>\n",
       "      <th>...</th>\n",
       "      <th>SPEEDING</th>\n",
       "      <th>AG_DRIV</th>\n",
       "      <th>REDLIGHT</th>\n",
       "      <th>ALCOHOL</th>\n",
       "      <th>DISABILITY</th>\n",
       "      <th>NEIGHBOURHOOD</th>\n",
       "      <th>MONTH</th>\n",
       "      <th>DAY</th>\n",
       "      <th>Hour</th>\n",
       "      <th>Minutes</th>\n",
       "    </tr>\n",
       "  </thead>\n",
       "  <tbody>\n",
       "    <tr>\n",
       "      <th>0</th>\n",
       "      <td>2006</td>\n",
       "      <td>Major Arterial</td>\n",
       "      <td>Toronto and East York</td>\n",
       "      <td>43.699595</td>\n",
       "      <td>-79.318797</td>\n",
       "      <td>Intersection</td>\n",
       "      <td>Intersection Related</td>\n",
       "      <td>No Control</td>\n",
       "      <td>Clear</td>\n",
       "      <td>Dark</td>\n",
       "      <td>...</td>\n",
       "      <td>Yes</td>\n",
       "      <td>Yes</td>\n",
       "      <td>No</td>\n",
       "      <td>Yes</td>\n",
       "      <td>No</td>\n",
       "      <td>Woodbine-Lumsden (60)</td>\n",
       "      <td>1</td>\n",
       "      <td>1</td>\n",
       "      <td>23</td>\n",
       "      <td>6</td>\n",
       "    </tr>\n",
       "    <tr>\n",
       "      <th>1</th>\n",
       "      <td>2006</td>\n",
       "      <td>Major Arterial</td>\n",
       "      <td>Toronto and East York</td>\n",
       "      <td>43.699595</td>\n",
       "      <td>-79.318797</td>\n",
       "      <td>Intersection</td>\n",
       "      <td>Intersection Related</td>\n",
       "      <td>No Control</td>\n",
       "      <td>Clear</td>\n",
       "      <td>Dark</td>\n",
       "      <td>...</td>\n",
       "      <td>Yes</td>\n",
       "      <td>Yes</td>\n",
       "      <td>No</td>\n",
       "      <td>Yes</td>\n",
       "      <td>No</td>\n",
       "      <td>Woodbine-Lumsden (60)</td>\n",
       "      <td>1</td>\n",
       "      <td>1</td>\n",
       "      <td>23</td>\n",
       "      <td>6</td>\n",
       "    </tr>\n",
       "    <tr>\n",
       "      <th>2</th>\n",
       "      <td>2006</td>\n",
       "      <td>Major Arterial</td>\n",
       "      <td>Toronto and East York</td>\n",
       "      <td>43.699595</td>\n",
       "      <td>-79.318797</td>\n",
       "      <td>Intersection</td>\n",
       "      <td>Intersection Related</td>\n",
       "      <td>No Control</td>\n",
       "      <td>Clear</td>\n",
       "      <td>Dark</td>\n",
       "      <td>...</td>\n",
       "      <td>Yes</td>\n",
       "      <td>Yes</td>\n",
       "      <td>No</td>\n",
       "      <td>Yes</td>\n",
       "      <td>No</td>\n",
       "      <td>Woodbine-Lumsden (60)</td>\n",
       "      <td>1</td>\n",
       "      <td>1</td>\n",
       "      <td>23</td>\n",
       "      <td>6</td>\n",
       "    </tr>\n",
       "    <tr>\n",
       "      <th>3</th>\n",
       "      <td>2006</td>\n",
       "      <td>Major Arterial</td>\n",
       "      <td>Toronto and East York</td>\n",
       "      <td>43.699595</td>\n",
       "      <td>-79.318797</td>\n",
       "      <td>Intersection</td>\n",
       "      <td>Intersection Related</td>\n",
       "      <td>No Control</td>\n",
       "      <td>Clear</td>\n",
       "      <td>Dark</td>\n",
       "      <td>...</td>\n",
       "      <td>Yes</td>\n",
       "      <td>Yes</td>\n",
       "      <td>No</td>\n",
       "      <td>Yes</td>\n",
       "      <td>No</td>\n",
       "      <td>Woodbine-Lumsden (60)</td>\n",
       "      <td>1</td>\n",
       "      <td>1</td>\n",
       "      <td>23</td>\n",
       "      <td>6</td>\n",
       "    </tr>\n",
       "    <tr>\n",
       "      <th>4</th>\n",
       "      <td>2006</td>\n",
       "      <td>Major Arterial</td>\n",
       "      <td>Toronto and East York</td>\n",
       "      <td>43.699595</td>\n",
       "      <td>-79.318797</td>\n",
       "      <td>Intersection</td>\n",
       "      <td>Intersection Related</td>\n",
       "      <td>No Control</td>\n",
       "      <td>Clear</td>\n",
       "      <td>Dark</td>\n",
       "      <td>...</td>\n",
       "      <td>Yes</td>\n",
       "      <td>Yes</td>\n",
       "      <td>No</td>\n",
       "      <td>Yes</td>\n",
       "      <td>No</td>\n",
       "      <td>Woodbine-Lumsden (60)</td>\n",
       "      <td>1</td>\n",
       "      <td>1</td>\n",
       "      <td>23</td>\n",
       "      <td>6</td>\n",
       "    </tr>\n",
       "  </tbody>\n",
       "</table>\n",
       "<p>5 rows × 39 columns</p>\n",
       "</div>"
      ],
      "text/plain": [
       "   YEAR      ROAD_CLASS               DISTRICT   LATITUDE  LONGITUDE  \\\n",
       "0  2006  Major Arterial  Toronto and East York  43.699595 -79.318797   \n",
       "1  2006  Major Arterial  Toronto and East York  43.699595 -79.318797   \n",
       "2  2006  Major Arterial  Toronto and East York  43.699595 -79.318797   \n",
       "3  2006  Major Arterial  Toronto and East York  43.699595 -79.318797   \n",
       "4  2006  Major Arterial  Toronto and East York  43.699595 -79.318797   \n",
       "\n",
       "       LOCCOORD                ACCLOC    TRAFFCTL VISIBILITY LIGHT  ...  \\\n",
       "0  Intersection  Intersection Related  No Control      Clear  Dark  ...   \n",
       "1  Intersection  Intersection Related  No Control      Clear  Dark  ...   \n",
       "2  Intersection  Intersection Related  No Control      Clear  Dark  ...   \n",
       "3  Intersection  Intersection Related  No Control      Clear  Dark  ...   \n",
       "4  Intersection  Intersection Related  No Control      Clear  Dark  ...   \n",
       "\n",
       "  SPEEDING AG_DRIV REDLIGHT ALCOHOL DISABILITY          NEIGHBOURHOOD MONTH  \\\n",
       "0      Yes     Yes       No     Yes         No  Woodbine-Lumsden (60)     1   \n",
       "1      Yes     Yes       No     Yes         No  Woodbine-Lumsden (60)     1   \n",
       "2      Yes     Yes       No     Yes         No  Woodbine-Lumsden (60)     1   \n",
       "3      Yes     Yes       No     Yes         No  Woodbine-Lumsden (60)     1   \n",
       "4      Yes     Yes       No     Yes         No  Woodbine-Lumsden (60)     1   \n",
       "\n",
       "  DAY Hour Minutes  \n",
       "0   1   23       6  \n",
       "1   1   23       6  \n",
       "2   1   23       6  \n",
       "3   1   23       6  \n",
       "4   1   23       6  \n",
       "\n",
       "[5 rows x 39 columns]"
      ]
     },
     "execution_count": 702,
     "metadata": {},
     "output_type": "execute_result"
    }
   ],
   "source": [
    "dfnew.head()"
   ]
  },
  {
   "cell_type": "code",
   "execution_count": 723,
   "metadata": {},
   "outputs": [
    {
     "ename": "NameError",
     "evalue": "name 'YEAR' is not defined",
     "output_type": "error",
     "traceback": [
      "\u001b[1;31m---------------------------------------------------------------------------\u001b[0m",
      "\u001b[1;31mNameError\u001b[0m                                 Traceback (most recent call last)",
      "\u001b[1;32m<ipython-input-723-ab165a5c6e2e>\u001b[0m in \u001b[0;36m<module>\u001b[1;34m\u001b[0m\n\u001b[1;32m----> 1\u001b[1;33m \u001b[0mplt\u001b[0m\u001b[1;33m.\u001b[0m\u001b[0mplot\u001b[0m\u001b[1;33m(\u001b[0m\u001b[0mYEAR\u001b[0m\u001b[1;33m,\u001b[0m\u001b[0mMONTH\u001b[0m\u001b[1;33m)\u001b[0m\u001b[1;33m\u001b[0m\u001b[1;33m\u001b[0m\u001b[0m\n\u001b[0m\u001b[0;32m      2\u001b[0m \u001b[0mplt\u001b[0m\u001b[1;33m.\u001b[0m\u001b[0mxlabel\u001b[0m\u001b[1;33m(\u001b[0m\u001b[1;34m'Year'\u001b[0m\u001b[1;33m)\u001b[0m\u001b[1;33m\u001b[0m\u001b[1;33m\u001b[0m\u001b[0m\n\u001b[0;32m      3\u001b[0m \u001b[0mplt\u001b[0m\u001b[1;33m.\u001b[0m\u001b[0mylabel\u001b[0m\u001b[1;33m(\u001b[0m\u001b[1;34m'Month'\u001b[0m\u001b[1;33m)\u001b[0m\u001b[1;33m\u001b[0m\u001b[1;33m\u001b[0m\u001b[0m\n\u001b[0;32m      4\u001b[0m \u001b[0mplt\u001b[0m\u001b[1;33m.\u001b[0m\u001b[0mtitle\u001b[0m\u001b[1;33m(\u001b[0m\u001b[1;34m'Year and Month'\u001b[0m\u001b[1;33m)\u001b[0m\u001b[1;33m\u001b[0m\u001b[1;33m\u001b[0m\u001b[0m\n",
      "\u001b[1;31mNameError\u001b[0m: name 'YEAR' is not defined"
     ]
    }
   ],
   "source": [
    "plt.plot(YEAR,MONTH)\n",
    "plt.xlabel('Year')\n",
    "plt.ylabel('Month')\n",
    "plt.title('Year and Month')"
   ]
  },
  {
   "cell_type": "code",
   "execution_count": 727,
   "metadata": {},
   "outputs": [
    {
     "data": {
      "text/html": [
       "<div>\n",
       "<style scoped>\n",
       "    .dataframe tbody tr th:only-of-type {\n",
       "        vertical-align: middle;\n",
       "    }\n",
       "\n",
       "    .dataframe tbody tr th {\n",
       "        vertical-align: top;\n",
       "    }\n",
       "\n",
       "    .dataframe thead th {\n",
       "        text-align: right;\n",
       "    }\n",
       "</style>\n",
       "<table border=\"1\" class=\"dataframe\">\n",
       "  <thead>\n",
       "    <tr style=\"text-align: right;\">\n",
       "      <th></th>\n",
       "      <th>YEAR</th>\n",
       "      <th>ROAD_CLASS</th>\n",
       "      <th>DISTRICT</th>\n",
       "      <th>LATITUDE</th>\n",
       "      <th>LONGITUDE</th>\n",
       "      <th>LOCCOORD</th>\n",
       "      <th>ACCLOC</th>\n",
       "      <th>TRAFFCTL</th>\n",
       "      <th>VISIBILITY</th>\n",
       "      <th>LIGHT</th>\n",
       "      <th>...</th>\n",
       "      <th>SPEEDING</th>\n",
       "      <th>AG_DRIV</th>\n",
       "      <th>REDLIGHT</th>\n",
       "      <th>ALCOHOL</th>\n",
       "      <th>DISABILITY</th>\n",
       "      <th>NEIGHBOURHOOD</th>\n",
       "      <th>MONTH</th>\n",
       "      <th>DAY</th>\n",
       "      <th>Hour</th>\n",
       "      <th>Minutes</th>\n",
       "    </tr>\n",
       "  </thead>\n",
       "  <tbody>\n",
       "    <tr>\n",
       "      <th>0</th>\n",
       "      <td>2006</td>\n",
       "      <td>Major Arterial</td>\n",
       "      <td>Toronto and East York</td>\n",
       "      <td>43.699595</td>\n",
       "      <td>-79.318797</td>\n",
       "      <td>Intersection</td>\n",
       "      <td>Intersection Related</td>\n",
       "      <td>No Control</td>\n",
       "      <td>Clear</td>\n",
       "      <td>Dark</td>\n",
       "      <td>...</td>\n",
       "      <td>Yes</td>\n",
       "      <td>Yes</td>\n",
       "      <td>No</td>\n",
       "      <td>Yes</td>\n",
       "      <td>No</td>\n",
       "      <td>Woodbine-Lumsden (60)</td>\n",
       "      <td>1</td>\n",
       "      <td>1</td>\n",
       "      <td>23</td>\n",
       "      <td>6</td>\n",
       "    </tr>\n",
       "    <tr>\n",
       "      <th>1</th>\n",
       "      <td>2006</td>\n",
       "      <td>Major Arterial</td>\n",
       "      <td>Toronto and East York</td>\n",
       "      <td>43.699595</td>\n",
       "      <td>-79.318797</td>\n",
       "      <td>Intersection</td>\n",
       "      <td>Intersection Related</td>\n",
       "      <td>No Control</td>\n",
       "      <td>Clear</td>\n",
       "      <td>Dark</td>\n",
       "      <td>...</td>\n",
       "      <td>Yes</td>\n",
       "      <td>Yes</td>\n",
       "      <td>No</td>\n",
       "      <td>Yes</td>\n",
       "      <td>No</td>\n",
       "      <td>Woodbine-Lumsden (60)</td>\n",
       "      <td>1</td>\n",
       "      <td>1</td>\n",
       "      <td>23</td>\n",
       "      <td>6</td>\n",
       "    </tr>\n",
       "    <tr>\n",
       "      <th>2</th>\n",
       "      <td>2006</td>\n",
       "      <td>Major Arterial</td>\n",
       "      <td>Toronto and East York</td>\n",
       "      <td>43.699595</td>\n",
       "      <td>-79.318797</td>\n",
       "      <td>Intersection</td>\n",
       "      <td>Intersection Related</td>\n",
       "      <td>No Control</td>\n",
       "      <td>Clear</td>\n",
       "      <td>Dark</td>\n",
       "      <td>...</td>\n",
       "      <td>Yes</td>\n",
       "      <td>Yes</td>\n",
       "      <td>No</td>\n",
       "      <td>Yes</td>\n",
       "      <td>No</td>\n",
       "      <td>Woodbine-Lumsden (60)</td>\n",
       "      <td>1</td>\n",
       "      <td>1</td>\n",
       "      <td>23</td>\n",
       "      <td>6</td>\n",
       "    </tr>\n",
       "    <tr>\n",
       "      <th>3</th>\n",
       "      <td>2006</td>\n",
       "      <td>Major Arterial</td>\n",
       "      <td>Toronto and East York</td>\n",
       "      <td>43.699595</td>\n",
       "      <td>-79.318797</td>\n",
       "      <td>Intersection</td>\n",
       "      <td>Intersection Related</td>\n",
       "      <td>No Control</td>\n",
       "      <td>Clear</td>\n",
       "      <td>Dark</td>\n",
       "      <td>...</td>\n",
       "      <td>Yes</td>\n",
       "      <td>Yes</td>\n",
       "      <td>No</td>\n",
       "      <td>Yes</td>\n",
       "      <td>No</td>\n",
       "      <td>Woodbine-Lumsden (60)</td>\n",
       "      <td>1</td>\n",
       "      <td>1</td>\n",
       "      <td>23</td>\n",
       "      <td>6</td>\n",
       "    </tr>\n",
       "    <tr>\n",
       "      <th>4</th>\n",
       "      <td>2006</td>\n",
       "      <td>Major Arterial</td>\n",
       "      <td>Toronto and East York</td>\n",
       "      <td>43.699595</td>\n",
       "      <td>-79.318797</td>\n",
       "      <td>Intersection</td>\n",
       "      <td>Intersection Related</td>\n",
       "      <td>No Control</td>\n",
       "      <td>Clear</td>\n",
       "      <td>Dark</td>\n",
       "      <td>...</td>\n",
       "      <td>Yes</td>\n",
       "      <td>Yes</td>\n",
       "      <td>No</td>\n",
       "      <td>Yes</td>\n",
       "      <td>No</td>\n",
       "      <td>Woodbine-Lumsden (60)</td>\n",
       "      <td>1</td>\n",
       "      <td>1</td>\n",
       "      <td>23</td>\n",
       "      <td>6</td>\n",
       "    </tr>\n",
       "  </tbody>\n",
       "</table>\n",
       "<p>5 rows × 39 columns</p>\n",
       "</div>"
      ],
      "text/plain": [
       "   YEAR      ROAD_CLASS               DISTRICT   LATITUDE  LONGITUDE  \\\n",
       "0  2006  Major Arterial  Toronto and East York  43.699595 -79.318797   \n",
       "1  2006  Major Arterial  Toronto and East York  43.699595 -79.318797   \n",
       "2  2006  Major Arterial  Toronto and East York  43.699595 -79.318797   \n",
       "3  2006  Major Arterial  Toronto and East York  43.699595 -79.318797   \n",
       "4  2006  Major Arterial  Toronto and East York  43.699595 -79.318797   \n",
       "\n",
       "       LOCCOORD                ACCLOC    TRAFFCTL VISIBILITY LIGHT  ...  \\\n",
       "0  Intersection  Intersection Related  No Control      Clear  Dark  ...   \n",
       "1  Intersection  Intersection Related  No Control      Clear  Dark  ...   \n",
       "2  Intersection  Intersection Related  No Control      Clear  Dark  ...   \n",
       "3  Intersection  Intersection Related  No Control      Clear  Dark  ...   \n",
       "4  Intersection  Intersection Related  No Control      Clear  Dark  ...   \n",
       "\n",
       "  SPEEDING AG_DRIV REDLIGHT ALCOHOL DISABILITY          NEIGHBOURHOOD MONTH  \\\n",
       "0      Yes     Yes       No     Yes         No  Woodbine-Lumsden (60)     1   \n",
       "1      Yes     Yes       No     Yes         No  Woodbine-Lumsden (60)     1   \n",
       "2      Yes     Yes       No     Yes         No  Woodbine-Lumsden (60)     1   \n",
       "3      Yes     Yes       No     Yes         No  Woodbine-Lumsden (60)     1   \n",
       "4      Yes     Yes       No     Yes         No  Woodbine-Lumsden (60)     1   \n",
       "\n",
       "  DAY Hour Minutes  \n",
       "0   1   23       6  \n",
       "1   1   23       6  \n",
       "2   1   23       6  \n",
       "3   1   23       6  \n",
       "4   1   23       6  \n",
       "\n",
       "[5 rows x 39 columns]"
      ]
     },
     "execution_count": 727,
     "metadata": {},
     "output_type": "execute_result"
    }
   ],
   "source": [
    "dfnew.head()"
   ]
  },
  {
   "cell_type": "code",
   "execution_count": 721,
   "metadata": {},
   "outputs": [
    {
     "data": {
      "text/plain": [
       "Index(['YEAR', 'ROAD_CLASS', 'DISTRICT', 'LATITUDE', 'LONGITUDE', 'LOCCOORD',\n",
       "       'ACCLOC', 'TRAFFCTL', 'VISIBILITY', 'LIGHT', 'RDSFCOND', 'ACCLASS',\n",
       "       'IMPACTYPE', 'INVTYPE', 'INVAGE', 'INJURY', 'INITDIR', 'VEHTYPE',\n",
       "       'MANOEUVER', 'DRIVACT', 'DRIVCOND', 'PEDESTRIAN', 'CYCLIST',\n",
       "       'AUTOMOBILE', 'MOTORCYCLE', 'TRUCK', 'TRSN_CITY_VEH', 'EMERG_VEH',\n",
       "       'PASSENGER', 'SPEEDING', 'AG_DRIV', 'REDLIGHT', 'ALCOHOL', 'DISABILITY',\n",
       "       'NEIGHBOURHOOD', 'MONTH', 'DAY', 'Hour', 'Minutes'],\n",
       "      dtype='object')"
      ]
     },
     "execution_count": 721,
     "metadata": {},
     "output_type": "execute_result"
    }
   ],
   "source": [
    "dfnew.columns"
   ]
  },
  {
   "cell_type": "code",
   "execution_count": 1431,
   "metadata": {},
   "outputs": [
    {
     "data": {
      "text/plain": [
       "Text(0.5, 1.0, 'Number of Accidents Per Year')"
      ]
     },
     "execution_count": 1431,
     "metadata": {},
     "output_type": "execute_result"
    },
    {
     "data": {
      "image/png": "[encoded data removed]",
      "text/plain": [
       "<Figure size 720x360 with 1 Axes>"
      ]
     },
     "metadata": {
      "needs_background": "light"
     },
     "output_type": "display_data"
    }
   ],
   "source": [
    "plt.figure(figsize=(10,5))\n",
    "ax = sns.countplot(x='YEAR', palette=\"ch:.25\", data=dfnew)\n",
    "plt.ylabel('Number of Accidents')\n",
    "#plt.ylabel('Type of Manoeuver')\n",
    "plt.title('Number of Accidents in Last 14 Years')"
   ]
  },
  {
   "cell_type": "code",
   "execution_count": 1510,
   "metadata": {},
   "outputs": [
    {
     "ename": "ConversionError",
     "evalue": "Failed to convert value(s) to axis units: {'Nov', 'Jul', 'Sep', 'Mar', 'Dec', 'Feb', 'Jun', 'Oct', 'May', 'Jan', 'Aug', 'Apr'}",
     "output_type": "error",
     "traceback": [
      "\u001b[1;31m---------------------------------------------------------------------------\u001b[0m",
      "\u001b[1;31mValueError\u001b[0m                                Traceback (most recent call last)",
      "\u001b[1;32m~\\Anaconda3\\lib\\site-packages\\matplotlib\\axis.py\u001b[0m in \u001b[0;36mconvert_units\u001b[1;34m(self, x)\u001b[0m\n\u001b[0;32m   1549\u001b[0m         \u001b[1;32mtry\u001b[0m\u001b[1;33m:\u001b[0m\u001b[1;33m\u001b[0m\u001b[1;33m\u001b[0m\u001b[0m\n\u001b[1;32m-> 1550\u001b[1;33m             \u001b[0mret\u001b[0m \u001b[1;33m=\u001b[0m \u001b[0mself\u001b[0m\u001b[1;33m.\u001b[0m\u001b[0mconverter\u001b[0m\u001b[1;33m.\u001b[0m\u001b[0mconvert\u001b[0m\u001b[1;33m(\u001b[0m\u001b[0mx\u001b[0m\u001b[1;33m,\u001b[0m \u001b[0mself\u001b[0m\u001b[1;33m.\u001b[0m\u001b[0munits\u001b[0m\u001b[1;33m,\u001b[0m \u001b[0mself\u001b[0m\u001b[1;33m)\u001b[0m\u001b[1;33m\u001b[0m\u001b[1;33m\u001b[0m\u001b[0m\n\u001b[0m\u001b[0;32m   1551\u001b[0m         \u001b[1;32mexcept\u001b[0m \u001b[0mException\u001b[0m \u001b[1;32mas\u001b[0m \u001b[0me\u001b[0m\u001b[1;33m:\u001b[0m\u001b[1;33m\u001b[0m\u001b[1;33m\u001b[0m\u001b[0m\n",
      "\u001b[1;32m~\\Anaconda3\\lib\\site-packages\\matplotlib\\category.py\u001b[0m in \u001b[0;36mconvert\u001b[1;34m(value, unit, axis)\u001b[0m\n\u001b[0;32m     51\u001b[0m             raise ValueError(\n\u001b[1;32m---> 52\u001b[1;33m                 \u001b[1;34m'Missing category information for StrCategoryConverter; '\u001b[0m\u001b[1;33m\u001b[0m\u001b[1;33m\u001b[0m\u001b[0m\n\u001b[0m\u001b[0;32m     53\u001b[0m                 \u001b[1;34m'this might be caused by unintendedly mixing categorical and '\u001b[0m\u001b[1;33m\u001b[0m\u001b[1;33m\u001b[0m\u001b[0m\n",
      "\u001b[1;31mValueError\u001b[0m: Missing category information for StrCategoryConverter; this might be caused by unintendedly mixing categorical and numeric data",
      "\nThe above exception was the direct cause of the following exception:\n",
      "\u001b[1;31mConversionError\u001b[0m                           Traceback (most recent call last)",
      "\u001b[1;32m<ipython-input-1510-518b4cb3ea81>\u001b[0m in \u001b[0;36m<module>\u001b[1;34m\u001b[0m\n\u001b[0;32m      5\u001b[0m \u001b[1;31m#plt.ylabel('Type of Manoeuver')\u001b[0m\u001b[1;33m\u001b[0m\u001b[1;33m\u001b[0m\u001b[1;33m\u001b[0m\u001b[0m\n\u001b[0;32m      6\u001b[0m \u001b[0mplt\u001b[0m\u001b[1;33m.\u001b[0m\u001b[0mtitle\u001b[0m\u001b[1;33m(\u001b[0m\u001b[1;34m'Number of Accidents Per Month'\u001b[0m\u001b[1;33m)\u001b[0m\u001b[1;33m\u001b[0m\u001b[1;33m\u001b[0m\u001b[0m\n\u001b[1;32m----> 7\u001b[1;33m \u001b[0mplt\u001b[0m\u001b[1;33m.\u001b[0m\u001b[0mxticks\u001b[0m\u001b[1;33m(\u001b[0m\u001b[0mmonths\u001b[0m\u001b[1;33m)\u001b[0m\u001b[1;33m\u001b[0m\u001b[1;33m\u001b[0m\u001b[0m\n\u001b[0m",
      "\u001b[1;32m~\\Anaconda3\\lib\\site-packages\\matplotlib\\pyplot.py\u001b[0m in \u001b[0;36mxticks\u001b[1;34m(ticks, labels, **kwargs)\u001b[0m\n\u001b[0;32m   1538\u001b[0m         \u001b[0mlabels\u001b[0m \u001b[1;33m=\u001b[0m \u001b[0max\u001b[0m\u001b[1;33m.\u001b[0m\u001b[0mget_xticklabels\u001b[0m\u001b[1;33m(\u001b[0m\u001b[1;33m)\u001b[0m\u001b[1;33m\u001b[0m\u001b[1;33m\u001b[0m\u001b[0m\n\u001b[0;32m   1539\u001b[0m     \u001b[1;32melif\u001b[0m \u001b[0mlabels\u001b[0m \u001b[1;32mis\u001b[0m \u001b[1;32mNone\u001b[0m\u001b[1;33m:\u001b[0m\u001b[1;33m\u001b[0m\u001b[1;33m\u001b[0m\u001b[0m\n\u001b[1;32m-> 1540\u001b[1;33m         \u001b[0mlocs\u001b[0m \u001b[1;33m=\u001b[0m \u001b[0max\u001b[0m\u001b[1;33m.\u001b[0m\u001b[0mset_xticks\u001b[0m\u001b[1;33m(\u001b[0m\u001b[0mticks\u001b[0m\u001b[1;33m)\u001b[0m\u001b[1;33m\u001b[0m\u001b[1;33m\u001b[0m\u001b[0m\n\u001b[0m\u001b[0;32m   1541\u001b[0m         \u001b[0mlabels\u001b[0m \u001b[1;33m=\u001b[0m \u001b[0max\u001b[0m\u001b[1;33m.\u001b[0m\u001b[0mget_xticklabels\u001b[0m\u001b[1;33m(\u001b[0m\u001b[1;33m)\u001b[0m\u001b[1;33m\u001b[0m\u001b[1;33m\u001b[0m\u001b[0m\n\u001b[0;32m   1542\u001b[0m     \u001b[1;32melse\u001b[0m\u001b[1;33m:\u001b[0m\u001b[1;33m\u001b[0m\u001b[1;33m\u001b[0m\u001b[0m\n",
      "\u001b[1;32m~\\Anaconda3\\lib\\site-packages\\matplotlib\\axes\\_base.py\u001b[0m in \u001b[0;36mset_xticks\u001b[1;34m(self, ticks, minor)\u001b[0m\n\u001b[0;32m   3348\u001b[0m             \u001b[0mDefault\u001b[0m \u001b[1;32mis\u001b[0m\u001b[0;31m \u001b[0m\u001b[0;31m`\u001b[0m\u001b[0;31m`\u001b[0m\u001b[1;32mFalse\u001b[0m\u001b[0;31m`\u001b[0m\u001b[0;31m`\u001b[0m\u001b[1;33m.\u001b[0m\u001b[1;33m\u001b[0m\u001b[1;33m\u001b[0m\u001b[0m\n\u001b[0;32m   3349\u001b[0m         \"\"\"\n\u001b[1;32m-> 3350\u001b[1;33m         \u001b[0mret\u001b[0m \u001b[1;33m=\u001b[0m \u001b[0mself\u001b[0m\u001b[1;33m.\u001b[0m\u001b[0mxaxis\u001b[0m\u001b[1;33m.\u001b[0m\u001b[0mset_ticks\u001b[0m\u001b[1;33m(\u001b[0m\u001b[0mticks\u001b[0m\u001b[1;33m,\u001b[0m \u001b[0mminor\u001b[0m\u001b[1;33m=\u001b[0m\u001b[0mminor\u001b[0m\u001b[1;33m)\u001b[0m\u001b[1;33m\u001b[0m\u001b[1;33m\u001b[0m\u001b[0m\n\u001b[0m\u001b[0;32m   3351\u001b[0m         \u001b[0mself\u001b[0m\u001b[1;33m.\u001b[0m\u001b[0mstale\u001b[0m \u001b[1;33m=\u001b[0m \u001b[1;32mTrue\u001b[0m\u001b[1;33m\u001b[0m\u001b[1;33m\u001b[0m\u001b[0m\n\u001b[0;32m   3352\u001b[0m         \u001b[1;32mreturn\u001b[0m \u001b[0mret\u001b[0m\u001b[1;33m\u001b[0m\u001b[1;33m\u001b[0m\u001b[0m\n",
      "\u001b[1;32m~\\Anaconda3\\lib\\site-packages\\matplotlib\\axis.py\u001b[0m in \u001b[0;36mset_ticks\u001b[1;34m(self, ticks, minor)\u001b[0m\n\u001b[0;32m   1749\u001b[0m         \"\"\"\n\u001b[0;32m   1750\u001b[0m         \u001b[1;31m# XXX if the user changes units, the information will be lost here\u001b[0m\u001b[1;33m\u001b[0m\u001b[1;33m\u001b[0m\u001b[1;33m\u001b[0m\u001b[0m\n\u001b[1;32m-> 1751\u001b[1;33m         \u001b[0mticks\u001b[0m \u001b[1;33m=\u001b[0m \u001b[0mself\u001b[0m\u001b[1;33m.\u001b[0m\u001b[0mconvert_units\u001b[0m\u001b[1;33m(\u001b[0m\u001b[0mticks\u001b[0m\u001b[1;33m)\u001b[0m\u001b[1;33m\u001b[0m\u001b[1;33m\u001b[0m\u001b[0m\n\u001b[0m\u001b[0;32m   1752\u001b[0m         \u001b[1;32mif\u001b[0m \u001b[0mlen\u001b[0m\u001b[1;33m(\u001b[0m\u001b[0mticks\u001b[0m\u001b[1;33m)\u001b[0m \u001b[1;33m>\u001b[0m \u001b[1;36m1\u001b[0m\u001b[1;33m:\u001b[0m\u001b[1;33m\u001b[0m\u001b[1;33m\u001b[0m\u001b[0m\n\u001b[0;32m   1753\u001b[0m             \u001b[0mxleft\u001b[0m\u001b[1;33m,\u001b[0m \u001b[0mxright\u001b[0m \u001b[1;33m=\u001b[0m \u001b[0mself\u001b[0m\u001b[1;33m.\u001b[0m\u001b[0mget_view_interval\u001b[0m\u001b[1;33m(\u001b[0m\u001b[1;33m)\u001b[0m\u001b[1;33m\u001b[0m\u001b[1;33m\u001b[0m\u001b[0m\n",
      "\u001b[1;32m~\\Anaconda3\\lib\\site-packages\\matplotlib\\axis.py\u001b[0m in \u001b[0;36mconvert_units\u001b[1;34m(self, x)\u001b[0m\n\u001b[0;32m   1551\u001b[0m         \u001b[1;32mexcept\u001b[0m \u001b[0mException\u001b[0m \u001b[1;32mas\u001b[0m \u001b[0me\u001b[0m\u001b[1;33m:\u001b[0m\u001b[1;33m\u001b[0m\u001b[1;33m\u001b[0m\u001b[0m\n\u001b[0;32m   1552\u001b[0m             raise munits.ConversionError('Failed to convert value(s) to axis '\n\u001b[1;32m-> 1553\u001b[1;33m                                          f'units: {x!r}') from e\n\u001b[0m\u001b[0;32m   1554\u001b[0m         \u001b[1;32mreturn\u001b[0m \u001b[0mret\u001b[0m\u001b[1;33m\u001b[0m\u001b[1;33m\u001b[0m\u001b[0m\n\u001b[0;32m   1555\u001b[0m \u001b[1;33m\u001b[0m\u001b[0m\n",
      "\u001b[1;31mConversionError\u001b[0m: Failed to convert value(s) to axis units: {'Nov', 'Jul', 'Sep', 'Mar', 'Dec', 'Feb', 'Jun', 'Oct', 'May', 'Jan', 'Aug', 'Apr'}"
     ]
    },
    {
     "data": {
      "image/png": "[encoded data removed]",
      "text/plain": [
       "<Figure size 720x360 with 1 Axes>"
      ]
     },
     "metadata": {
      "needs_background": "light"
     },
     "output_type": "display_data"
    }
   ],
   "source": [
    "plt.figure(figsize=(10,5))\n",
    "months = {'Jan','Feb','Mar','Apr','May','Jun','Jul','Aug','Sep','Oct','Nov','Dec'}\n",
    "ax = sns.countplot(x='MONTH', palette=\"ch:.25\", data=dfnew)\n",
    "plt.ylabel('Number of Accidents')\n",
    "#plt.ylabel('Type of Manoeuver')\n",
    "plt.title('Number of Accidents Per Month')\n",
    "plt.xticks(months)"
   ]
  },
  {
   "cell_type": "code",
   "execution_count": 1505,
   "metadata": {
    "scrolled": false
   },
   "outputs": [
    {
     "data": {
      "text/plain": [
       "Text(0.5, 0, 'Total Accidents in Toronto')"
      ]
     },
     "execution_count": 1505,
     "metadata": {},
     "output_type": "execute_result"
    },
    {
     "data": {
      "image/png": "[encoded data removed]",
      "text/plain": [
       "<Figure size 1008x432 with 1 Axes>"
      ]
     },
     "metadata": {},
     "output_type": "display_data"
    }
   ],
   "source": [
    "ig, ax = plt.subplots(1,1)\n",
    "pivot.iloc[11].plot(kind='pie', ax=ax, figsize=(14,6), fontsize=10, autopct='%1.1f%%')\n",
    "ax.set_ylabel('')\n",
    "ax.set_xlabel('Reason of Accidents in Toronto')"
   ]
  },
  {
   "cell_type": "code",
   "execution_count": 1402,
   "metadata": {},
   "outputs": [
    {
     "data": {
      "text/plain": [
       "Text(0.5, 1.0, 'Type of Injury')"
      ]
     },
     "execution_count": 1402,
     "metadata": {},
     "output_type": "execute_result"
    },
    {
     "data": {
      "image/png": "[encoded data removed]",
      "text/plain": [
       "<Figure size 1008x432 with 1 Axes>"
      ]
     },
     "metadata": {},
     "output_type": "display_data"
    }
   ],
   "source": [
    "plt.figure(figsize=(14,6))\n",
    "\n",
    "plt.subplot(1,2,1); dfnew.INJURY.value_counts().plot(kind='pie', autopct='%1.1f%%')\n",
    "plt.title('Type of Injury')\n",
    "#plt.xticks(rotation=65, horizontalalignment='right')\n",
    "#plt.ylabel('Injury Type')\n"
   ]
  },
  {
   "cell_type": "code",
   "execution_count": 1238,
   "metadata": {},
   "outputs": [
    {
     "data": {
      "text/plain": [
       "Text(0.5, 0, 'Age Group')"
      ]
     },
     "execution_count": 1238,
     "metadata": {},
     "output_type": "execute_result"
    },
    {
     "data": {
      "image/png": "[encoded data removed]",
      "text/plain": [
       "<Figure size 720x216 with 1 Axes>"
      ]
     },
     "metadata": {
      "needs_background": "light"
     },
     "output_type": "display_data"
    }
   ],
   "source": [
    "f, ax = plt.subplots(nrows = 1, figsize = (10, 3))\n",
    "f.suptitle(\"Age Group Involved in Accident\")\n",
    "#plt.ylabel('Number of Accidents')\n",
    "sns.countplot(x='INVAGE', data=dfnew, order = dfnew.INVAGE.value_counts().index)\n",
    "plt.ylabel('Number of Accident')\n",
    "plt.xlabel('Age Group')"
   ]
  },
  {
   "cell_type": "code",
   "execution_count": 1398,
   "metadata": {},
   "outputs": [
    {
     "data": {
      "text/plain": [
       "Text(0, 0.5, 'Number of Accident')"
      ]
     },
     "execution_count": 1398,
     "metadata": {},
     "output_type": "execute_result"
    },
    {
     "data": {
      "image/png": "[encoded data removed]",
      "text/plain": [
       "<Figure size 720x216 with 1 Axes>"
      ]
     },
     "metadata": {
      "needs_background": "light"
     },
     "output_type": "display_data"
    }
   ],
   "source": [
    "f, ax = plt.subplots(nrows = 1, figsize = (10, 3))\n",
    "f.subplots_adjust(hspace = 0.5)\n",
    "f.suptitle(\"Accident by District\")\n",
    "\n",
    "sns.countplot(x='DISTRICT', data=dfnew, order = dfnew.DISTRICT.value_counts().index)\n",
    "\n",
    "plt.ylabel('Number of Accident')\n",
    "#plt.xlabel('Accident by District')"
   ]
  },
  {
   "cell_type": "code",
   "execution_count": 880,
   "metadata": {},
   "outputs": [],
   "source": [
    "Accreason = dfnew[['SPEEDING','REDLIGHT','ALCOHOL','AG_DRIV']].apply(pd.Series.value_counts)"
   ]
  },
  {
   "cell_type": "code",
   "execution_count": 881,
   "metadata": {
    "scrolled": true
   },
   "outputs": [
    {
     "data": {
      "text/html": [
       "<div>\n",
       "<style scoped>\n",
       "    .dataframe tbody tr th:only-of-type {\n",
       "        vertical-align: middle;\n",
       "    }\n",
       "\n",
       "    .dataframe tbody tr th {\n",
       "        vertical-align: top;\n",
       "    }\n",
       "\n",
       "    .dataframe thead th {\n",
       "        text-align: right;\n",
       "    }\n",
       "</style>\n",
       "<table border=\"1\" class=\"dataframe\">\n",
       "  <thead>\n",
       "    <tr style=\"text-align: right;\">\n",
       "      <th></th>\n",
       "      <th>SPEEDING</th>\n",
       "      <th>REDLIGHT</th>\n",
       "      <th>ALCOHOL</th>\n",
       "      <th>AG_DRIV</th>\n",
       "    </tr>\n",
       "  </thead>\n",
       "  <tbody>\n",
       "    <tr>\n",
       "      <th>No</th>\n",
       "      <td>13936</td>\n",
       "      <td>14732</td>\n",
       "      <td>15380</td>\n",
       "      <td>7787</td>\n",
       "    </tr>\n",
       "    <tr>\n",
       "      <th>Yes</th>\n",
       "      <td>2157</td>\n",
       "      <td>1361</td>\n",
       "      <td>713</td>\n",
       "      <td>8306</td>\n",
       "    </tr>\n",
       "  </tbody>\n",
       "</table>\n",
       "</div>"
      ],
      "text/plain": [
       "     SPEEDING  REDLIGHT  ALCOHOL  AG_DRIV\n",
       "No      13936     14732    15380     7787\n",
       "Yes      2157      1361      713     8306"
      ]
     },
     "execution_count": 881,
     "metadata": {},
     "output_type": "execute_result"
    }
   ],
   "source": [
    "Accreason"
   ]
  },
  {
   "cell_type": "code",
   "execution_count": 1303,
   "metadata": {},
   "outputs": [
    {
     "data": {
      "text/plain": [
       "Text(0.5, 1.0, 'Reason of Accidents')"
      ]
     },
     "execution_count": 1303,
     "metadata": {},
     "output_type": "execute_result"
    },
    {
     "data": {
      "image/png": "[encoded data removed]",
      "text/plain": [
       "<Figure size 864x360 with 1 Axes>"
      ]
     },
     "metadata": {
      "needs_background": "light"
     },
     "output_type": "display_data"
    }
   ],
   "source": [
    "\n",
    "Accreason.T.plot.bar(figsize=(12,5)),plt.xticks(rotation=360)\n",
    "\n",
    "plt.ylabel('Number of Accident')\n",
    "plt.title('Reason of Accidents')\n",
    "#plt.xticks(rotation=65, horizontalalignment='right')"
   ]
  },
  {
   "cell_type": "code",
   "execution_count": 1417,
   "metadata": {
    "scrolled": false
   },
   "outputs": [
    {
     "data": {
      "text/plain": [
       "Text(0.5, 1.0, 'Number of Accidents by Type of Road Class')"
      ]
     },
     "execution_count": 1417,
     "metadata": {},
     "output_type": "execute_result"
    },
    {
     "data": {
      "image/png": "[encoded data removed]",
      "text/plain": [
       "<Figure size 720x432 with 1 Axes>"
      ]
     },
     "metadata": {
      "needs_background": "light"
     },
     "output_type": "display_data"
    }
   ],
   "source": [
    "plt.figure(figsize=(10,6))\n",
    "sns.countplot(y='ROAD_CLASS', data=dfnew)\n",
    "plt.xlabel('Number of Accidents')\n",
    "plt.ylabel('Type of Road Class')\n",
    "plt.title('Number of Accidents by Type of Road Class')\n",
    "\n"
   ]
  },
  {
   "cell_type": "code",
   "execution_count": 1421,
   "metadata": {},
   "outputs": [
    {
     "data": {
      "text/plain": [
       "Text(0.5, 1.0, 'Driver Condition at The Time of Accident')"
      ]
     },
     "execution_count": 1421,
     "metadata": {},
     "output_type": "execute_result"
    },
    {
     "data": {
      "image/png": "[encoded data removed]",
      "text/plain": [
       "<Figure size 720x432 with 1 Axes>"
      ]
     },
     "metadata": {
      "needs_background": "light"
     },
     "output_type": "display_data"
    }
   ],
   "source": [
    "plt.figure(figsize=(10,6))\n",
    "ax = sns.countplot(y='DRIVCOND', data=dfnew, order = dfnew.DRIVCOND.value_counts().index)\n",
    "#ax.set_xlim(50,8000)\n",
    "plt.xlabel('Number of Accidents')\n",
    "plt.ylabel('Driver Condition')\n",
    "plt.title('Driver Condition at The Time of Accident')"
   ]
  },
  {
   "cell_type": "code",
   "execution_count": 1447,
   "metadata": {},
   "outputs": [
    {
     "data": {
      "text/plain": [
       "Text(0.5, 1.0, 'Accident by District When Driver Consumed Alcohol')"
      ]
     },
     "execution_count": 1447,
     "metadata": {},
     "output_type": "execute_result"
    },
    {
     "data": {
      "image/png": "[encoded data removed]",
      "text/plain": [
       "<Figure size 720x432 with 1 Axes>"
      ]
     },
     "metadata": {
      "needs_background": "light"
     },
     "output_type": "display_data"
    }
   ],
   "source": [
    "plt.figure(figsize=(10,6))\n",
    "#f, ax = plt.subplots(nrows = 1, figsize = (10, 3))\n",
    "ax = sns.countplot(x='DISTRICT', hue='ALCOHOL', data=dfnew)\n",
    "plt.ylabel('Number of Accidents')\n",
    "plt.xlabel('Accident by District')\n",
    "plt.title('Accident by District When Driver Consumed Alcohol')\n"
   ]
  },
  {
   "cell_type": "code",
   "execution_count": 1448,
   "metadata": {},
   "outputs": [
    {
     "data": {
      "text/plain": [
       "Text(0.5, 1.0, 'Accident by District When Speeding Involved')"
      ]
     },
     "execution_count": 1448,
     "metadata": {},
     "output_type": "execute_result"
    },
    {
     "data": {
      "image/png": "[encoded data removed]",
      "text/plain": [
       "<Figure size 720x432 with 1 Axes>"
      ]
     },
     "metadata": {
      "needs_background": "light"
     },
     "output_type": "display_data"
    }
   ],
   "source": [
    "plt.figure(figsize=(10,6))\n",
    "#f, ax = plt.subplots(nrows = 1, figsize = (8, 3))\n",
    "ax = sns.countplot(y='DISTRICT', hue='SPEEDING', data=dfnew)\n",
    "\n",
    "plt.xlabel('Number of Accidents')\n",
    "plt.ylabel('Accident by District')\n",
    "plt.title('Accident by District When Speeding Involved')"
   ]
  },
  {
   "cell_type": "code",
   "execution_count": 1449,
   "metadata": {},
   "outputs": [
    {
     "data": {
      "text/plain": [
       "Text(0.5, 1.0, 'Accident by District When Aggressive Driving Involved')"
      ]
     },
     "execution_count": 1449,
     "metadata": {},
     "output_type": "execute_result"
    },
    {
     "data": {
      "image/png": "[encoded data removed]",
      "text/plain": [
       "<Figure size 720x432 with 1 Axes>"
      ]
     },
     "metadata": {
      "needs_background": "light"
     },
     "output_type": "display_data"
    }
   ],
   "source": [
    "plt.figure(figsize=(10,6))\n",
    "#f, ax = plt.subplots(nrows = 1, figsize = (8, 3))\n",
    "ax = sns.countplot(y='DISTRICT', hue='AG_DRIV', data=dfnew)\n",
    "\n",
    "plt.xlabel('Number of Accidents')\n",
    "plt.ylabel('Accident by District')\n",
    "plt.title('Accident by District When Aggressive Driving Involved')"
   ]
  },
  {
   "cell_type": "code",
   "execution_count": 1450,
   "metadata": {},
   "outputs": [
    {
     "data": {
      "text/plain": [
       "Text(0.5, 1.0, 'Pedestrian Involved in Fatal vs Non-Fatal Injury')"
      ]
     },
     "execution_count": 1450,
     "metadata": {},
     "output_type": "execute_result"
    },
    {
     "data": {
      "image/png": "[encoded data removed]",
      "text/plain": [
       "<Figure size 720x432 with 1 Axes>"
      ]
     },
     "metadata": {
      "needs_background": "light"
     },
     "output_type": "display_data"
    }
   ],
   "source": [
    "plt.figure(figsize=(10,6))\n",
    "\n",
    "ax = sns.countplot(x='PEDESTRIAN', hue='ACCLASS', data=dfnew)\n",
    "\n",
    "plt.ylabel('Number of Accidents')\n",
    "plt.xlabel('Pedestrian')\n",
    "plt.title('Pedestrian Involved in Fatal vs Non-Fatal Injury')"
   ]
  },
  {
   "cell_type": "code",
   "execution_count": 1451,
   "metadata": {},
   "outputs": [
    {
     "data": {
      "text/plain": [
       "Text(0.5, 1.0, 'Disable Person Involved in Fatal vs Non-Fatal Injury')"
      ]
     },
     "execution_count": 1451,
     "metadata": {},
     "output_type": "execute_result"
    },
    {
     "data": {
      "image/png": "[encoded data removed]",
      "text/plain": [
       "<Figure size 720x432 with 1 Axes>"
      ]
     },
     "metadata": {
      "needs_background": "light"
     },
     "output_type": "display_data"
    }
   ],
   "source": [
    "plt.figure(figsize=(10,6))\n",
    "ax = sns.countplot(x='DISABILITY', hue='ACCLASS', data=dfnew)\n",
    "\n",
    "plt.ylabel('Number of Accidents')\n",
    "plt.xlabel('Disable Person')\n",
    "plt.title('Disable Person Involved in Fatal vs Non-Fatal Injury')"
   ]
  },
  {
   "cell_type": "code",
   "execution_count": 1452,
   "metadata": {},
   "outputs": [
    {
     "data": {
      "text/plain": [
       "Text(0.5, 1.0, 'Cyclist Involved in Fatal vs Non-Fatal Injury')"
      ]
     },
     "execution_count": 1452,
     "metadata": {},
     "output_type": "execute_result"
    },
    {
     "data": {
      "image/png": "[encoded data removed]",
      "text/plain": [
       "<Figure size 720x432 with 1 Axes>"
      ]
     },
     "metadata": {
      "needs_background": "light"
     },
     "output_type": "display_data"
    }
   ],
   "source": [
    "plt.figure(figsize=(10,6))\n",
    "\n",
    "ax = sns.countplot(x='CYCLIST', hue='ACCLASS', data=dfnew)\n",
    "\n",
    "plt.ylabel('Number of Accidents')\n",
    "plt.xlabel('Cyclist')\n",
    "plt.title('Cyclist Involved in Fatal vs Non-Fatal Injury')"
   ]
  },
  {
   "cell_type": "code",
   "execution_count": 1441,
   "metadata": {},
   "outputs": [
    {
     "data": {
      "text/plain": [
       "(array([ 0,  1,  2,  3,  4,  5,  6,  7,  8,  9, 10, 11, 12, 13, 14, 15, 16,\n",
       "        17, 18, 19, 20, 21, 22, 23, 24, 25, 26, 27]),\n",
       " <a list of 28 Text xticklabel objects>)"
      ]
     },
     "execution_count": 1441,
     "metadata": {},
     "output_type": "execute_result"
    },
    {
     "data": {
      "image/png": "[encoded data removed]",
      "text/plain": [
       "<Figure size 720x432 with 1 Axes>"
      ]
     },
     "metadata": {
      "needs_background": "light"
     },
     "output_type": "display_data"
    }
   ],
   "source": [
    "plt.figure(figsize=(10,6))\n",
    "sns.countplot(x='VEHTYPE', data=dfnew, order = dfnew.VEHTYPE.value_counts().index)\n",
    "plt.xlabel('Type of Vehicle')\n",
    "#plt.ylabel('')\n",
    "plt.ylabel('Number of Accident')\n",
    "plt.title('Accident by Vehicle Type')\n",
    "plt.xticks(rotation=70, horizontalalignment='right')"
   ]
  },
  {
   "cell_type": "code",
   "execution_count": 1439,
   "metadata": {},
   "outputs": [
    {
     "data": {
      "text/plain": [
       "Text(0.5, 1.0, 'Accident by Manoeuver')"
      ]
     },
     "execution_count": 1439,
     "metadata": {},
     "output_type": "execute_result"
    },
    {
     "data": {
      "image/png": "[encoded data removed]",
      "text/plain": [
       "<Figure size 720x432 with 1 Axes>"
      ]
     },
     "metadata": {
      "needs_background": "light"
     },
     "output_type": "display_data"
    }
   ],
   "source": [
    "plt.figure(figsize=(10,6))\n",
    "#f, ax = plt.subplots(nrows = 1, figsize = (8, 6))\n",
    "sns.countplot(y='MANOEUVER', data=dfnew, order = dfnew.MANOEUVER.value_counts().index)\n",
    "plt.xlabel('Number of Accidents')\n",
    "plt.ylabel('Manoeuver Type')\n",
    "plt.title('Accident by Manoeuver')\n",
    "##plt.xticks(rotation=65, horizontalalignment='right')"
   ]
  },
  {
   "cell_type": "code",
   "execution_count": 1414,
   "metadata": {},
   "outputs": [
    {
     "data": {
      "text/plain": [
       "(array([0, 1, 2, 3, 4, 5, 6, 7, 8, 9]), <a list of 10 Text xticklabel objects>)"
      ]
     },
     "execution_count": 1414,
     "metadata": {},
     "output_type": "execute_result"
    },
    {
     "data": {
      "image/png": "[encoded data removed]",
      "text/plain": [
       "<Figure size 720x432 with 1 Axes>"
      ]
     },
     "metadata": {
      "needs_background": "light"
     },
     "output_type": "display_data"
    }
   ],
   "source": [
    "plt.figure(figsize=(10,6))\n",
    "sns.countplot(x='ACCLOC', data=dfnew, order = dfnew.ACCLOC.value_counts().index)\n",
    "plt.xlabel('Locations')\n",
    "#plt.ylabel('')\n",
    "plt.ylabel('Accident Location')\n",
    "plt.title('Accident by Location')\n",
    "plt.xticks(rotation=65, horizontalalignment='right')"
   ]
  },
  {
   "cell_type": "code",
   "execution_count": 1442,
   "metadata": {},
   "outputs": [
    {
     "data": {
      "text/plain": [
       "Text(0.5, 1.0, 'Light Condition at The Time of Accident')"
      ]
     },
     "execution_count": 1442,
     "metadata": {},
     "output_type": "execute_result"
    },
    {
     "data": {
      "image/png": "[encoded data removed]",
      "text/plain": [
       "<Figure size 720x432 with 1 Axes>"
      ]
     },
     "metadata": {
      "needs_background": "light"
     },
     "output_type": "display_data"
    }
   ],
   "source": [
    "plt.figure(figsize=(10,6))\n",
    "ax = sns.countplot(y='LIGHT', data=dfnew, order = dfnew.LIGHT.value_counts().index)\n",
    "\n",
    "plt.xlabel('Number of Accidents')\n",
    "plt.ylabel('Light Condition')\n",
    "plt.title('Light Condition at The Time of Accident')"
   ]
  },
  {
   "cell_type": "code",
   "execution_count": 1420,
   "metadata": {},
   "outputs": [
    {
     "data": {
      "text/plain": [
       "Text(0.5, 1.0, 'Road Condition at The Time of Accident')"
      ]
     },
     "execution_count": 1420,
     "metadata": {},
     "output_type": "execute_result"
    },
    {
     "data": {
      "image/png": "[encoded data removed]",
      "text/plain": [
       "<Figure size 720x432 with 1 Axes>"
      ]
     },
     "metadata": {
      "needs_background": "light"
     },
     "output_type": "display_data"
    }
   ],
   "source": [
    "plt.figure(figsize=(10,6))\n",
    "sns.countplot(y='RDSFCOND',data=dfnew, order = dfnew.RDSFCOND.value_counts().index)\n",
    "ax.set_xlim(50,8000)\n",
    "plt.xlabel('Number of Accidents')\n",
    "plt.ylabel('Road Conditions')\n",
    "plt.title('Road Condition at The Time of Accident')"
   ]
  },
  {
   "cell_type": "code",
   "execution_count": 1443,
   "metadata": {},
   "outputs": [
    {
     "data": {
      "text/plain": [
       "Text(0.5, 1.0, 'Visibility at The Time of Accident')"
      ]
     },
     "execution_count": 1443,
     "metadata": {},
     "output_type": "execute_result"
    },
    {
     "data": {
      "image/png": "[encoded data removed]",
      "text/plain": [
       "<Figure size 720x432 with 1 Axes>"
      ]
     },
     "metadata": {
      "needs_background": "light"
     },
     "output_type": "display_data"
    }
   ],
   "source": [
    "plt.figure(figsize=(10,6))\n",
    "\n",
    "ax = sns.countplot(y='VISIBILITY', data=dfnew, order = dfnew.VISIBILITY.value_counts().index)\n",
    "\n",
    "plt.xlabel('Number of Accidents')\n",
    "plt.ylabel('Visibility')\n",
    "plt.title('Visibility at The Time of Accident')"
   ]
  },
  {
   "cell_type": "code",
   "execution_count": 1207,
   "metadata": {},
   "outputs": [],
   "source": [
    "#plt.figure(figsize=(10,6))\n",
    "\n",
    "#plt.plot(1,2,1); dfnew.LIGHT.value_counts().plot(kind='pie')\n",
    "#plt.legend(loc=2)\n",
    "#plt.legend(fontsize=10, loc=(1.05,0.4))"
   ]
  },
  {
   "cell_type": "code",
   "execution_count": 1378,
   "metadata": {
    "scrolled": false
   },
   "outputs": [],
   "source": [
    "#sns.countplot(y='LOCCOORD', data=dfnew, order = dfnew.LOCCOORD.value_counts().index)"
   ]
  },
  {
   "cell_type": "code",
   "execution_count": 1390,
   "metadata": {
    "scrolled": true
   },
   "outputs": [],
   "source": [
    "#Accident_District = dfnew.groupby('YEAR').INJURY.value_counts(normalize=True)\n",
    "#Accident_District.index"
   ]
  },
  {
   "cell_type": "code",
   "execution_count": 1457,
   "metadata": {},
   "outputs": [
    {
     "data": {
      "text/plain": [
       "Text(0, 0.5, 'Year')"
      ]
     },
     "execution_count": 1457,
     "metadata": {},
     "output_type": "execute_result"
    },
    {
     "data": {
      "text/plain": [
       "<Figure size 720x432 with 0 Axes>"
      ]
     },
     "metadata": {},
     "output_type": "display_data"
    },
    {
     "data": {
      "image/png": "[encoded data removed]",
      "text/plain": [
       "<Figure size 432x288 with 1 Axes>"
      ]
     },
     "metadata": {
      "needs_background": "light"
     },
     "output_type": "display_data"
    }
   ],
   "source": [
    "plt.figure(figsize=(10,6))\n",
    "sns.set_context('notebook')\n",
    "#plt.figure(figsize=(15,6))\n",
    "Accident_District.unstack().plot(kind='bar', stacked=True, width=0.75)\n",
    "plt.title('Number of Injuries per Year')\n",
    "plt.legend(fontsize=10, loc=(1.05,0.4))\n",
    "plt.ylabel('Year')\n"
   ]
  },
  {
   "cell_type": "code",
   "execution_count": 1368,
   "metadata": {},
   "outputs": [
    {
     "data": {
      "text/plain": [
       "Text(0.5, 1.0, 'Injury Comparsion When Speeding')"
      ]
     },
     "execution_count": 1368,
     "metadata": {},
     "output_type": "execute_result"
    },
    {
     "data": {
      "image/png": "[encoded data removed]",
      "text/plain": [
       "<Figure size 432x288 with 1 Axes>"
      ]
     },
     "metadata": {
      "needs_background": "light"
     },
     "output_type": "display_data"
    }
   ],
   "source": [
    "ax = sns.countplot(y='ACCLASS', hue='SPEEDING', data=dfnew)\n",
    "\n",
    "plt.ylabel('Injury Type')\n",
    "plt.xlabel('Number of Accidents')\n",
    "plt.title('Injury Comparsion When Speeding')"
   ]
  },
  {
   "cell_type": "code",
   "execution_count": null,
   "metadata": {},
   "outputs": [],
   "source": []
  },
  {
   "cell_type": "code",
   "execution_count": 1367,
   "metadata": {},
   "outputs": [
    {
     "data": {
      "text/plain": [
       "Text(0.5, 1, 'Accident Happened When Driver was Aggressive and Speeding')"
      ]
     },
     "execution_count": 1367,
     "metadata": {},
     "output_type": "execute_result"
    },
    {
     "data": {
      "image/png": "[encoded data removed]",
      "text/plain": [
       "<Figure size 456.559x288 with 2 Axes>"
      ]
     },
     "metadata": {
      "needs_background": "light"
     },
     "output_type": "display_data"
    }
   ],
   "source": [
    "#g = sns.catplot(x=\"SPEEDING\", hue=\"AG_DRIV\", col=\"ALCOHOL\",\n",
    "                data=dfnew, kind=\"count\",\n",
    "                height=4, aspect=.7);\n",
    "#plt.xticks(rotation=65, horizontalalignment='right')\n",
    "\n",
    "#ax = sns.countplot(x='CYCLIST', hue='ACCLASS', data=dfnew)\n",
    "\n",
    "#plt.xlabel('Number of Accidents')\n",
    "#plt.ylabel('Weather Condition')\n",
    "#plt.title('Accident Happened When Driver was Aggressive and Speeding')"
   ]
  },
  {
   "cell_type": "code",
   "execution_count": 840,
   "metadata": {
    "scrolled": false
   },
   "outputs": [
    {
     "data": {
      "image/png": "[encoded data removed]",
      "text/plain": [
       "<Figure size 703.75x360 with 2 Axes>"
      ]
     },
     "metadata": {
      "needs_background": "light"
     },
     "output_type": "display_data"
    }
   ],
   "source": [
    "#g = sns.catplot(x=\"ACCLASS\", hue=\"ALCOHOL\", col=\"SPEEDING\",\n",
    "                data=dfnew, kind=\"count\",\n",
    "                height=5, aspect=.9);"
   ]
  },
  {
   "cell_type": "code",
   "execution_count": 1466,
   "metadata": {},
   "outputs": [],
   "source": [
    "import numpy as np"
   ]
  },
  {
   "cell_type": "code",
   "execution_count": 1467,
   "metadata": {},
   "outputs": [
    {
     "data": {
      "text/html": [
       "<div>\n",
       "<style scoped>\n",
       "    .dataframe tbody tr th:only-of-type {\n",
       "        vertical-align: middle;\n",
       "    }\n",
       "\n",
       "    .dataframe tbody tr th {\n",
       "        vertical-align: top;\n",
       "    }\n",
       "\n",
       "    .dataframe thead th {\n",
       "        text-align: right;\n",
       "    }\n",
       "</style>\n",
       "<table border=\"1\" class=\"dataframe\">\n",
       "  <thead>\n",
       "    <tr style=\"text-align: right;\">\n",
       "      <th></th>\n",
       "      <th>AG_DRIV</th>\n",
       "      <th>ALCOHOL</th>\n",
       "      <th>CYCLIST</th>\n",
       "      <th>DISABILITY</th>\n",
       "      <th>EMERG_VEH</th>\n",
       "      <th>MOTORCYCLE</th>\n",
       "      <th>PEDESTRIAN</th>\n",
       "      <th>REDLIGHT</th>\n",
       "      <th>SPEEDING</th>\n",
       "      <th>TRSN_CITY_VEH</th>\n",
       "      <th>TRUCK</th>\n",
       "    </tr>\n",
       "    <tr>\n",
       "      <th>YEAR</th>\n",
       "      <th></th>\n",
       "      <th></th>\n",
       "      <th></th>\n",
       "      <th></th>\n",
       "      <th></th>\n",
       "      <th></th>\n",
       "      <th></th>\n",
       "      <th></th>\n",
       "      <th></th>\n",
       "      <th></th>\n",
       "      <th></th>\n",
       "    </tr>\n",
       "  </thead>\n",
       "  <tbody>\n",
       "    <tr>\n",
       "      <th>2006</th>\n",
       "      <td>YesYesYesYesYesYesYesYesNoNoNoNoNoNoNoNoNoNoNo...</td>\n",
       "      <td>YesYesYesYesYesYesYesYesNoNoNoNoNoNoNoNoNoNoNo...</td>\n",
       "      <td>NoNoNoNoNoNoNoNoNoNoNoNoNoNoNoNoNoNoNoNoNoNoNo...</td>\n",
       "      <td>NoNoNoNoNoNoNoNoNoNoNoNoNoNoNoNoNoNoNoNoNoNoNo...</td>\n",
       "      <td>NoNoNoNoNoNoNoNoNoNoNoNoNoNoNoNoNoNoNoNoNoNoNo...</td>\n",
       "      <td>NoNoNoNoNoNoNoNoNoNoNoNoNoNoNoNoNoNoNoNoNoNoNo...</td>\n",
       "      <td>NoNoNoNoNoNoNoNoNoNoNoNoNoYesYesYesYesYesYesNo...</td>\n",
       "      <td>NoNoNoNoNoNoNoNoNoNoNoNoNoNoNoNoNoNoNoNoNoNoYe...</td>\n",
       "      <td>YesYesYesYesYesYesYesYesNoNoNoNoNoNoNoNoNoNoNo...</td>\n",
       "      <td>NoNoNoNoNoNoNoNoNoNoNoNoNoNoNoNoNoNoNoNoNoNoNo...</td>\n",
       "      <td>NoNoNoNoNoNoNoNoNoNoNoNoNoNoNoNoNoNoNoNoNoNoNo...</td>\n",
       "    </tr>\n",
       "    <tr>\n",
       "      <th>2007</th>\n",
       "      <td>YesYesYesNoNoYesYesYesYesYesYesYesNoYesNoNoYes...</td>\n",
       "      <td>NoNoNoNoNoNoNoNoNoNoNoNoNoNoNoNoNoNoNoNoNoNoNo...</td>\n",
       "      <td>NoNoNoNoNoNoNoNoNoNoNoNoNoNoNoNoNoNoNoNoNoNoNo...</td>\n",
       "      <td>NoNoNoNoNoNoNoNoNoNoNoNoNoNoNoNoNoNoNoNoNoNoNo...</td>\n",
       "      <td>NoNoNoNoNoNoNoNoNoNoNoNoNoNoNoNoNoNoNoNoNoNoNo...</td>\n",
       "      <td>NoNoNoNoNoNoNoNoNoNoNoNoNoNoNoNoNoNoNoNoNoNoNo...</td>\n",
       "      <td>NoNoNoNoNoYesYesYesNoNoYesYesNoYesYesYesNoNoNo...</td>\n",
       "      <td>NoNoNoNoNoNoNoNoNoNoNoNoNoNoNoNoNoNoNoNoNoNoNo...</td>\n",
       "      <td>NoNoNoNoNoNoNoNoNoNoNoNoNoNoNoNoNoNoNoNoNoNoNo...</td>\n",
       "      <td>NoNoNoNoNoNoNoNoNoNoYesYesNoYesNoNoNoNoNoNoNoN...</td>\n",
       "      <td>NoNoNoNoNoNoNoNoNoNoNoNoYesNoNoNoNoNoNoNoNoNoN...</td>\n",
       "    </tr>\n",
       "    <tr>\n",
       "      <th>2008</th>\n",
       "      <td>NoNoNoNoNoNoNoNoNoNoYesYesYesYesNoNoNoYesYesYe...</td>\n",
       "      <td>NoNoNoNoNoNoNoNoNoNoNoNoNoNoNoNoNoNoNoNoNoNoNo...</td>\n",
       "      <td>NoNoNoNoNoNoNoNoNoNoNoNoNoNoNoNoNoNoNoNoNoNoNo...</td>\n",
       "      <td>NoNoNoNoNoNoNoNoNoNoNoNoNoNoNoNoNoNoNoNoNoNoNo...</td>\n",
       "      <td>NoNoNoNoNoNoNoNoNoNoNoNoNoNoNoNoNoNoNoNoNoNoNo...</td>\n",
       "      <td>NoNoNoNoNoNoNoNoNoNoNoNoNoNoNoNoNoNoNoNoNoNoNo...</td>\n",
       "      <td>NoNoNoNoYesYesYesYesYesYesYesYesYesYesNoNoNoNo...</td>\n",
       "      <td>NoNoNoNoNoNoNoNoNoNoNoNoNoNoNoNoNoYesYesYesYes...</td>\n",
       "      <td>NoNoNoNoNoNoNoNoNoNoNoNoNoNoNoNoNoYesYesYesYes...</td>\n",
       "      <td>NoNoNoNoNoNoNoNoNoNoNoNoNoNoNoNoNoNoNoNoNoNoNo...</td>\n",
       "      <td>NoNoNoNoNoNoNoNoNoNoNoNoNoNoNoNoNoNoNoNoNoNoNo...</td>\n",
       "    </tr>\n",
       "    <tr>\n",
       "      <th>2009</th>\n",
       "      <td>YesYesYesYesYesNoYesNoYesNoNoNoYesYesYesNoNoNo...</td>\n",
       "      <td>NoNoNoNoNoNoNoNoNoNoNoNoNoNoNoNoNoNoNoNoNoNoNo...</td>\n",
       "      <td>NoNoNoNoNoYesNoNoNoNoNoNoNoNoNoNoNoNoNoNoNoNoN...</td>\n",
       "      <td>NoNoNoNoNoNoNoNoNoNoNoNoNoNoNoNoNoNoNoNoNoNoNo...</td>\n",
       "      <td>NoNoNoNoNoNoNoNoNoNoNoNoNoNoNoNoNoNoNoNoNoNoNo...</td>\n",
       "      <td>YesNoYesYesNoNoNoYesNoNoNoNoNoNoNoNoNoNoNoNoNo...</td>\n",
       "      <td>NoNoNoNoNoNoNoNoNoNoNoNoNoNoNoYesYesYesYesYesY...</td>\n",
       "      <td>NoNoNoNoNoNoNoNoNoNoNoNoNoNoNoNoNoNoNoNoNoNoYe...</td>\n",
       "      <td>YesNoYesYesNoNoNoNoNoNoNoNoNoNoNoNoNoNoNoNoNoN...</td>\n",
       "      <td>NoNoNoNoNoNoNoNoNoNoNoNoNoNoNoNoNoNoNoNoYesNoN...</td>\n",
       "      <td>NoNoNoNoNoNoNoNoNoNoNoNoNoNoNoNoNoNoNoNoNoNoNo...</td>\n",
       "    </tr>\n",
       "    <tr>\n",
       "      <th>2010</th>\n",
       "      <td>NoNoNoNoYesYesYesYesYesYesYesYesYesNoNoNoNoNoN...</td>\n",
       "      <td>NoNoNoNoNoNoNoNoNoNoNoNoNoNoNoNoNoNoNoNoNoNoNo...</td>\n",
       "      <td>NoNoNoNoNoYesNoNoNoNoNoNoNoNoNoNoNoNoNoNoNoNoN...</td>\n",
       "      <td>NoNoNoNoNoNoNoNoNoNoNoNoNoYesNoNoYesNoNoNoNoNo...</td>\n",
       "      <td>NoNoNoNoNoNoNoNoNoNoNoNoNoNoNoNoNoNoNoNoNoNoNo...</td>\n",
       "      <td>NoNoNoNoNoNoYesNoNoYesNoNoNoNoNoNoNoNoNoNoNoNo...</td>\n",
       "      <td>NoNoNoNoYesNoNoYesNoNoNoNoNoNoYesYesNoNoNoNoNo...</td>\n",
       "      <td>NoNoNoNoYesNoNoYesYesNoNoNoNoNoNoNoNoNoNoNoNoN...</td>\n",
       "      <td>NoNoNoNoNoNoNoNoNoNoNoNoNoNoNoNoNoNoNoNoNoNoNo...</td>\n",
       "      <td>NoNoNoNoNoNoNoNoNoNoNoNoNoNoNoNoNoNoNoNoNoNoNo...</td>\n",
       "      <td>NoNoNoNoNoNoNoNoNoNoNoNoNoNoNoNoNoNoNoNoNoNoNo...</td>\n",
       "    </tr>\n",
       "    <tr>\n",
       "      <th>2011</th>\n",
       "      <td>NoNoYesYesNoYesYesYesYesYesNoNoNoNoNoNoNoNoNoY...</td>\n",
       "      <td>NoNoNoNoNoNoNoNoNoNoNoNoNoNoNoNoNoNoNoNoNoNoNo...</td>\n",
       "      <td>NoNoNoYesYesNoYesYesYesYesNoNoNoNoNoNoNoNoNoNo...</td>\n",
       "      <td>NoNoNoNoNoNoNoNoNoNoNoNoNoNoNoNoNoNoNoNoNoNoNo...</td>\n",
       "      <td>NoNoNoNoNoNoNoNoNoNoNoNoNoNoNoNoNoNoNoNoNoNoNo...</td>\n",
       "      <td>NoNoNoNoNoNoNoNoNoNoNoNoNoNoNoYesYesYesYesNoNo...</td>\n",
       "      <td>YesYesYesNoNoYesNoNoNoNoYesYesYesYesYesNoNoNoN...</td>\n",
       "      <td>NoNoNoNoNoNoNoNoNoNoNoNoNoNoNoNoNoNoNoNoNoNoNo...</td>\n",
       "      <td>NoNoNoNoNoNoNoNoYesYesNoNoNoNoNoNoNoNoNoNoNoNo...</td>\n",
       "      <td>NoYesNoNoNoNoNoNoNoNoNoNoNoNoNoNoNoNoNoNoNoNoN...</td>\n",
       "      <td>YesNoNoNoNoNoNoNoNoNoNoNoNoNoNoNoNoNoNoNoNoNoN...</td>\n",
       "    </tr>\n",
       "    <tr>\n",
       "      <th>2012</th>\n",
       "      <td>YesYesNoNoNoYesYesYesYesNoNoYesYesYesYesYesYes...</td>\n",
       "      <td>NoNoNoNoNoNoNoNoNoNoNoNoNoNoNoNoNoNoNoNoNoNoNo...</td>\n",
       "      <td>NoNoNoNoNoNoNoNoNoNoNoNoNoNoNoNoNoNoNoNoNoNoNo...</td>\n",
       "      <td>NoNoNoNoNoNoNoNoNoNoNoNoNoNoNoNoNoNoNoNoNoNoNo...</td>\n",
       "      <td>NoNoNoNoNoNoNoNoNoNoNoNoNoNoNoNoNoNoNoNoNoNoNo...</td>\n",
       "      <td>NoNoNoNoNoNoNoNoNoNoNoNoNoNoNoNoNoNoNoNoNoNoNo...</td>\n",
       "      <td>NoNoYesYesYesNoNoNoNoYesYesNoNoNoNoNoNoNoNoNoN...</td>\n",
       "      <td>NoNoNoNoNoNoNoNoNoNoNoNoNoNoNoNoNoNoNoNoNoNoNo...</td>\n",
       "      <td>NoNoNoNoNoNoNoNoNoNoNoNoNoNoNoNoNoNoNoNoNoNoNo...</td>\n",
       "      <td>NoNoYesYesYesNoNoNoNoNoNoNoNoNoNoNoNoNoNoNoNoN...</td>\n",
       "      <td>NoNoNoNoNoNoNoNoNoYesYesNoNoNoNoNoNoNoNoNoNoNo...</td>\n",
       "    </tr>\n",
       "    <tr>\n",
       "      <th>2013</th>\n",
       "      <td>YesYesYesNoNoYesYesYesYesYesYesYesYesYesYesYes...</td>\n",
       "      <td>NoNoNoNoNoNoNoNoNoNoNoNoNoNoNoNoNoNoNoNoNoNoNo...</td>\n",
       "      <td>NoNoNoNoNoNoNoNoNoNoNoNoNoNoNoNoNoNoNoNoNoNoNo...</td>\n",
       "      <td>NoNoNoNoNoNoNoNoNoNoNoNoNoNoNoNoNoNoNoNoNoNoNo...</td>\n",
       "      <td>NoNoNoNoNoNoNoNoNoNoNoNoNoNoNoNoNoNoNoNoNoNoNo...</td>\n",
       "      <td>NoNoNoNoNoNoNoNoNoNoNoNoNoNoNoNoNoNoNoNoNoNoNo...</td>\n",
       "      <td>NoNoNoYesYesYesYesNoYesNoYesNoYesNoYesNoYesYes...</td>\n",
       "      <td>NoNoNoNoNoNoNoNoNoNoNoNoNoNoNoNoNoNoNoNoNoNoNo...</td>\n",
       "      <td>NoYesYesNoNoNoNoNoYesNoNoNoNoNoYesNoNoNoNoYesY...</td>\n",
       "      <td>NoNoNoNoNoNoNoNoYesNoNoNoNoNoYesNoNoNoNoYesYes...</td>\n",
       "      <td>NoNoNoNoNoNoNoNoYesYesNoNoNoYesYesNoNoNoYesYes...</td>\n",
       "    </tr>\n",
       "    <tr>\n",
       "      <th>2014</th>\n",
       "      <td>NoYesNoNoNoNoNoYesYesYesYesYesYesYesYesYesYesY...</td>\n",
       "      <td>NoNoNoNoNoNoNoNoNoNoNoNoNoNoNoNoNoNoNoNoNoNoNo...</td>\n",
       "      <td>NoNoNoNoNoNoNoNoNoNoNoNoNoNoNoNoNoNoNoNoNoNoNo...</td>\n",
       "      <td>NoNoNoNoNoNoNoNoNoNoNoNoNoNoNoNoNoNoNoNoNoNoNo...</td>\n",
       "      <td>NoNoNoNoNoNoNoNoNoNoNoNoNoNoNoNoNoNoNoNoNoNoNo...</td>\n",
       "      <td>NoNoNoNoNoNoNoYesYesYesNoNoYesYesNoNoNoNoNoNoN...</td>\n",
       "      <td>YesYesNoYesYesYesYesNoNoNoYesYesNoNoNoNoNoNoNo...</td>\n",
       "      <td>NoNoNoNoNoNoNoNoNoNoNoNoNoNoYesYesYesYesYesYes...</td>\n",
       "      <td>NoNoNoNoNoNoNoNoNoNoNoNoNoNoNoNoNoNoNoNoNoNoNo...</td>\n",
       "      <td>YesNoNoYesYesNoNoNoNoNoNoNoNoNoYesYesYesYesYes...</td>\n",
       "      <td>NoNoNoNoNoNoNoNoNoNoNoNoNoNoNoNoNoNoNoNoNoNoNo...</td>\n",
       "    </tr>\n",
       "    <tr>\n",
       "      <th>2015</th>\n",
       "      <td>YesYesYesYesYesYesYesYesNoNoNoNoYesYesYesYesNo...</td>\n",
       "      <td>NoNoNoNoNoNoNoNoNoNoNoNoNoNoNoNoNoNoNoNoNoNoNo...</td>\n",
       "      <td>NoNoNoNoNoNoNoNoNoNoNoNoNoNoNoNoNoNoNoNoNoNoNo...</td>\n",
       "      <td>NoNoNoNoNoNoNoNoNoNoNoNoNoNoNoNoNoNoNoNoNoNoNo...</td>\n",
       "      <td>NoNoNoNoNoNoNoNoNoNoNoNoNoNoNoNoNoNoNoNoNoNoNo...</td>\n",
       "      <td>NoNoNoNoNoNoNoNoNoNoNoNoNoNoNoNoNoNoNoNoNoNoNo...</td>\n",
       "      <td>NoNoNoNoNoNoNoNoYesYesYesYesYesYesNoNoYesYesNo...</td>\n",
       "      <td>NoNoNoNoNoNoNoNoNoNoNoNoNoNoNoNoNoNoNoNoNoNoNo...</td>\n",
       "      <td>NoYesYesYesYesYesNoNoNoNoNoNoNoNoYesYesNoNoNoY...</td>\n",
       "      <td>NoNoNoNoNoNoNoNoNoNoNoNoNoNoNoNoNoNoNoNoNoNoNo...</td>\n",
       "      <td>NoNoNoNoNoNoNoNoNoNoNoNoNoNoNoNoNoNoNoNoNoNoNo...</td>\n",
       "    </tr>\n",
       "    <tr>\n",
       "      <th>2016</th>\n",
       "      <td>YesNoYesYesYesYesYesYesYesYesYesYesYesNoNoYesY...</td>\n",
       "      <td>NoNoNoNoNoNoNoNoNoNoNoNoNoNoNoNoNoNoNoNoNoNoNo...</td>\n",
       "      <td>NoNoNoNoNoNoNoNoNoNoNoNoNoNoNoNoNoNoNoNoNoNoNo...</td>\n",
       "      <td>NoNoNoNoNoNoNoNoNoNoNoNoNoNoNoNoNoNoNoNoNoNoNo...</td>\n",
       "      <td>NoNoNoNoNoNoNoNoNoNoNoNoNoNoNoNoNoNoNoNoNoNoNo...</td>\n",
       "      <td>NoNoYesYesNoNoNoNoNoNoNoYesYesNoNoYesYesNoNoNo...</td>\n",
       "      <td>NoNoNoNoYesYesYesNoNoNoNoNoNoYesYesNoNoNoNoNoN...</td>\n",
       "      <td>NoNoNoNoNoNoNoNoNoYesYesNoNoNoNoNoNoNoNoNoNoNo...</td>\n",
       "      <td>NoNoNoNoNoNoNoNoNoNoNoNoNoNoNoYesYesNoNoNoNoNo...</td>\n",
       "      <td>YesYesNoNoNoNoNoNoNoNoNoNoNoNoNoNoNoNoNoNoNoNo...</td>\n",
       "      <td>NoNoNoNoNoNoNoNoNoNoNoNoNoNoNoYesYesNoNoNoNoNo...</td>\n",
       "    </tr>\n",
       "    <tr>\n",
       "      <th>2017</th>\n",
       "      <td>YesYesYesYesYesYesNoNoNoNoNoNoNoYesYesYesYesYe...</td>\n",
       "      <td>NoNoNoNoNoNoNoNoNoNoNoNoNoNoNoNoNoNoNoNoNoNoNo...</td>\n",
       "      <td>NoNoNoNoNoNoNoNoNoNoNoNoNoYesYesNoNoNoYesNoNoN...</td>\n",
       "      <td>NoYesYesNoYesYesNoNoNoNoNoNoNoNoNoNoNoNoNoNoNo...</td>\n",
       "      <td>NoNoNoNoNoNoNoNoNoNoNoNoNoNoNoNoNoNoNoNoNoNoNo...</td>\n",
       "      <td>NoNoNoYesNoNoNoNoNoNoNoNoNoNoNoNoYesNoNoNoNoNo...</td>\n",
       "      <td>YesNoNoNoNoNoNoNoNoNoNoNoNoNoNoNoNoNoNoNoNoNoN...</td>\n",
       "      <td>NoNoNoNoNoNoNoNoNoNoNoNoNoNoNoNoYesNoNoNoNoNoN...</td>\n",
       "      <td>NoNoNoNoNoNoNoNoNoNoNoNoNoNoNoYesNoYesNoYesYes...</td>\n",
       "      <td>NoNoNoNoNoNoNoNoNoNoNoNoNoNoNoNoNoNoNoNoNoNoNo...</td>\n",
       "      <td>NoNoNoNoNoNoNoNoNoNoNoNoNoNoNoNoNoNoNoNoNoNoNo...</td>\n",
       "    </tr>\n",
       "    <tr>\n",
       "      <th>2018</th>\n",
       "      <td>NoYesNoNoYesYesYesNoNoNoYesYesNoYesYesNoNoYesY...</td>\n",
       "      <td>NoNoNoNoNoNoNoNoNoNoNoNoNoNoNoNoNoNoNoNoNoNoNo...</td>\n",
       "      <td>YesNoNoNoNoNoNoYesNoNoNoNoNoNoNoYesNoNoNoYesNo...</td>\n",
       "      <td>NoNoNoNoNoNoNoNoNoYesNoNoNoNoNoNoNoNoNoNoNoNoN...</td>\n",
       "      <td>NoNoNoNoNoNoNoNoNoNoNoNoNoNoNoNoNoNoNoNoNoNoNo...</td>\n",
       "      <td>NoNoYesNoYesNoYesNoNoNoNoNoYesYesNoNoNoNoNoNoN...</td>\n",
       "      <td>NoYesNoYesNoYesNoNoYesNoYesYesNoNoNoNoYesYesNo...</td>\n",
       "      <td>NoNoNoNoNoYesNoNoNoNoNoYesNoNoNoNoNoYesNoNoNoN...</td>\n",
       "      <td>NoNoNoNoNoNoNoNoNoNoNoNoNoYesYesNoNoNoYesNoNoY...</td>\n",
       "      <td>YesNoNoNoNoNoNoYesNoNoNoNoNoNoNoNoNoNoNoNoYesN...</td>\n",
       "      <td>NoNoNoNoNoNoNoNoNoNoNoNoNoNoYesNoNoNoYesNoNoNo...</td>\n",
       "    </tr>\n",
       "    <tr>\n",
       "      <th>2019</th>\n",
       "      <td>YesYesYesYesYesYesNoNoYesYesYesYesYesNoYesNoNo...</td>\n",
       "      <td>NoNoNoNoNoNoNoNoNoNoNoNoNoNoNoNoNoNoNoNoNoNoNo...</td>\n",
       "      <td>NoNoNoNoNoNoNoNoNoNoNoNoNoNoNoNoNoNoNoNoNoNoNo...</td>\n",
       "      <td>NoNoNoNoNoNoNoNoNoNoNoNoNoNoNoNoNoNoNoNoNoNoYe...</td>\n",
       "      <td>NoNoNoNoNoNoNoNoNoNoNoNoNoNoNoNoNoNoNoNoNoNoNo...</td>\n",
       "      <td>NoNoNoNoNoNoNoYesNoYesYesNoNoNoNoNoNoNoNoNoNoN...</td>\n",
       "      <td>YesYesYesYesYesYesYesNoNoNoNoYesYesYesYesYesYe...</td>\n",
       "      <td>NoNoYesNoYesNoNoNoNoNoNoNoNoNoNoNoNoNoNoNoNoNo...</td>\n",
       "      <td>YesNoNoYesNoNoNoNoYesNoNoNoNoNoNoNoNoNoNoNoNoN...</td>\n",
       "      <td>NoNoNoNoNoNoNoNoNoNoNoNoNoNoNoNoNoNoNoNoYesNoN...</td>\n",
       "      <td>NoNoNoNoNoNoNoNoNoNoNoNoNoNoNoNoNoNoNoNoNoNoNo...</td>\n",
       "    </tr>\n",
       "    <tr>\n",
       "      <th>TOTAL</th>\n",
       "      <td>YesYesYesYesYesYesYesYesNoNoNoNoNoNoNoNoNoNoNo...</td>\n",
       "      <td>YesYesYesYesYesYesYesYesNoNoNoNoNoNoNoNoNoNoNo...</td>\n",
       "      <td>NoNoNoNoNoNoNoNoNoNoNoNoNoNoNoNoNoNoNoNoNoNoNo...</td>\n",
       "      <td>NoNoNoNoNoNoNoNoNoNoNoNoNoNoNoNoNoNoNoNoNoNoNo...</td>\n",
       "      <td>NoNoNoNoNoNoNoNoNoNoNoNoNoNoNoNoNoNoNoNoNoNoNo...</td>\n",
       "      <td>NoNoNoNoNoNoNoNoNoNoNoNoNoNoNoNoNoNoNoNoNoNoNo...</td>\n",
       "      <td>NoNoNoNoNoNoNoNoNoNoNoNoNoYesYesYesYesYesYesNo...</td>\n",
       "      <td>NoNoNoNoNoNoNoNoNoNoNoNoNoNoNoNoNoNoNoNoNoNoYe...</td>\n",
       "      <td>YesYesYesYesYesYesYesYesNoNoNoNoNoNoNoNoNoNoNo...</td>\n",
       "      <td>NoNoNoNoNoNoNoNoNoNoNoNoNoNoNoNoNoNoNoNoNoNoNo...</td>\n",
       "      <td>NoNoNoNoNoNoNoNoNoNoNoNoNoNoNoNoNoNoNoNoNoNoNo...</td>\n",
       "    </tr>\n",
       "  </tbody>\n",
       "</table>\n",
       "</div>"
      ],
      "text/plain": [
       "                                                 AG_DRIV  \\\n",
       "YEAR                                                       \n",
       "2006   YesYesYesYesYesYesYesYesNoNoNoNoNoNoNoNoNoNoNo...   \n",
       "2007   YesYesYesNoNoYesYesYesYesYesYesYesNoYesNoNoYes...   \n",
       "2008   NoNoNoNoNoNoNoNoNoNoYesYesYesYesNoNoNoYesYesYe...   \n",
       "2009   YesYesYesYesYesNoYesNoYesNoNoNoYesYesYesNoNoNo...   \n",
       "2010   NoNoNoNoYesYesYesYesYesYesYesYesYesNoNoNoNoNoN...   \n",
       "2011   NoNoYesYesNoYesYesYesYesYesNoNoNoNoNoNoNoNoNoY...   \n",
       "2012   YesYesNoNoNoYesYesYesYesNoNoYesYesYesYesYesYes...   \n",
       "2013   YesYesYesNoNoYesYesYesYesYesYesYesYesYesYesYes...   \n",
       "2014   NoYesNoNoNoNoNoYesYesYesYesYesYesYesYesYesYesY...   \n",
       "2015   YesYesYesYesYesYesYesYesNoNoNoNoYesYesYesYesNo...   \n",
       "2016   YesNoYesYesYesYesYesYesYesYesYesYesYesNoNoYesY...   \n",
       "2017   YesYesYesYesYesYesNoNoNoNoNoNoNoYesYesYesYesYe...   \n",
       "2018   NoYesNoNoYesYesYesNoNoNoYesYesNoYesYesNoNoYesY...   \n",
       "2019   YesYesYesYesYesYesNoNoYesYesYesYesYesNoYesNoNo...   \n",
       "TOTAL  YesYesYesYesYesYesYesYesNoNoNoNoNoNoNoNoNoNoNo...   \n",
       "\n",
       "                                                 ALCOHOL  \\\n",
       "YEAR                                                       \n",
       "2006   YesYesYesYesYesYesYesYesNoNoNoNoNoNoNoNoNoNoNo...   \n",
       "2007   NoNoNoNoNoNoNoNoNoNoNoNoNoNoNoNoNoNoNoNoNoNoNo...   \n",
       "2008   NoNoNoNoNoNoNoNoNoNoNoNoNoNoNoNoNoNoNoNoNoNoNo...   \n",
       "2009   NoNoNoNoNoNoNoNoNoNoNoNoNoNoNoNoNoNoNoNoNoNoNo...   \n",
       "2010   NoNoNoNoNoNoNoNoNoNoNoNoNoNoNoNoNoNoNoNoNoNoNo...   \n",
       "2011   NoNoNoNoNoNoNoNoNoNoNoNoNoNoNoNoNoNoNoNoNoNoNo...   \n",
       "2012   NoNoNoNoNoNoNoNoNoNoNoNoNoNoNoNoNoNoNoNoNoNoNo...   \n",
       "2013   NoNoNoNoNoNoNoNoNoNoNoNoNoNoNoNoNoNoNoNoNoNoNo...   \n",
       "2014   NoNoNoNoNoNoNoNoNoNoNoNoNoNoNoNoNoNoNoNoNoNoNo...   \n",
       "2015   NoNoNoNoNoNoNoNoNoNoNoNoNoNoNoNoNoNoNoNoNoNoNo...   \n",
       "2016   NoNoNoNoNoNoNoNoNoNoNoNoNoNoNoNoNoNoNoNoNoNoNo...   \n",
       "2017   NoNoNoNoNoNoNoNoNoNoNoNoNoNoNoNoNoNoNoNoNoNoNo...   \n",
       "2018   NoNoNoNoNoNoNoNoNoNoNoNoNoNoNoNoNoNoNoNoNoNoNo...   \n",
       "2019   NoNoNoNoNoNoNoNoNoNoNoNoNoNoNoNoNoNoNoNoNoNoNo...   \n",
       "TOTAL  YesYesYesYesYesYesYesYesNoNoNoNoNoNoNoNoNoNoNo...   \n",
       "\n",
       "                                                 CYCLIST  \\\n",
       "YEAR                                                       \n",
       "2006   NoNoNoNoNoNoNoNoNoNoNoNoNoNoNoNoNoNoNoNoNoNoNo...   \n",
       "2007   NoNoNoNoNoNoNoNoNoNoNoNoNoNoNoNoNoNoNoNoNoNoNo...   \n",
       "2008   NoNoNoNoNoNoNoNoNoNoNoNoNoNoNoNoNoNoNoNoNoNoNo...   \n",
       "2009   NoNoNoNoNoYesNoNoNoNoNoNoNoNoNoNoNoNoNoNoNoNoN...   \n",
       "2010   NoNoNoNoNoYesNoNoNoNoNoNoNoNoNoNoNoNoNoNoNoNoN...   \n",
       "2011   NoNoNoYesYesNoYesYesYesYesNoNoNoNoNoNoNoNoNoNo...   \n",
       "2012   NoNoNoNoNoNoNoNoNoNoNoNoNoNoNoNoNoNoNoNoNoNoNo...   \n",
       "2013   NoNoNoNoNoNoNoNoNoNoNoNoNoNoNoNoNoNoNoNoNoNoNo...   \n",
       "2014   NoNoNoNoNoNoNoNoNoNoNoNoNoNoNoNoNoNoNoNoNoNoNo...   \n",
       "2015   NoNoNoNoNoNoNoNoNoNoNoNoNoNoNoNoNoNoNoNoNoNoNo...   \n",
       "2016   NoNoNoNoNoNoNoNoNoNoNoNoNoNoNoNoNoNoNoNoNoNoNo...   \n",
       "2017   NoNoNoNoNoNoNoNoNoNoNoNoNoYesYesNoNoNoYesNoNoN...   \n",
       "2018   YesNoNoNoNoNoNoYesNoNoNoNoNoNoNoYesNoNoNoYesNo...   \n",
       "2019   NoNoNoNoNoNoNoNoNoNoNoNoNoNoNoNoNoNoNoNoNoNoNo...   \n",
       "TOTAL  NoNoNoNoNoNoNoNoNoNoNoNoNoNoNoNoNoNoNoNoNoNoNo...   \n",
       "\n",
       "                                              DISABILITY  \\\n",
       "YEAR                                                       \n",
       "2006   NoNoNoNoNoNoNoNoNoNoNoNoNoNoNoNoNoNoNoNoNoNoNo...   \n",
       "2007   NoNoNoNoNoNoNoNoNoNoNoNoNoNoNoNoNoNoNoNoNoNoNo...   \n",
       "2008   NoNoNoNoNoNoNoNoNoNoNoNoNoNoNoNoNoNoNoNoNoNoNo...   \n",
       "2009   NoNoNoNoNoNoNoNoNoNoNoNoNoNoNoNoNoNoNoNoNoNoNo...   \n",
       "2010   NoNoNoNoNoNoNoNoNoNoNoNoNoYesNoNoYesNoNoNoNoNo...   \n",
       "2011   NoNoNoNoNoNoNoNoNoNoNoNoNoNoNoNoNoNoNoNoNoNoNo...   \n",
       "2012   NoNoNoNoNoNoNoNoNoNoNoNoNoNoNoNoNoNoNoNoNoNoNo...   \n",
       "2013   NoNoNoNoNoNoNoNoNoNoNoNoNoNoNoNoNoNoNoNoNoNoNo...   \n",
       "2014   NoNoNoNoNoNoNoNoNoNoNoNoNoNoNoNoNoNoNoNoNoNoNo...   \n",
       "2015   NoNoNoNoNoNoNoNoNoNoNoNoNoNoNoNoNoNoNoNoNoNoNo...   \n",
       "2016   NoNoNoNoNoNoNoNoNoNoNoNoNoNoNoNoNoNoNoNoNoNoNo...   \n",
       "2017   NoYesYesNoYesYesNoNoNoNoNoNoNoNoNoNoNoNoNoNoNo...   \n",
       "2018   NoNoNoNoNoNoNoNoNoYesNoNoNoNoNoNoNoNoNoNoNoNoN...   \n",
       "2019   NoNoNoNoNoNoNoNoNoNoNoNoNoNoNoNoNoNoNoNoNoNoYe...   \n",
       "TOTAL  NoNoNoNoNoNoNoNoNoNoNoNoNoNoNoNoNoNoNoNoNoNoNo...   \n",
       "\n",
       "                                               EMERG_VEH  \\\n",
       "YEAR                                                       \n",
       "2006   NoNoNoNoNoNoNoNoNoNoNoNoNoNoNoNoNoNoNoNoNoNoNo...   \n",
       "2007   NoNoNoNoNoNoNoNoNoNoNoNoNoNoNoNoNoNoNoNoNoNoNo...   \n",
       "2008   NoNoNoNoNoNoNoNoNoNoNoNoNoNoNoNoNoNoNoNoNoNoNo...   \n",
       "2009   NoNoNoNoNoNoNoNoNoNoNoNoNoNoNoNoNoNoNoNoNoNoNo...   \n",
       "2010   NoNoNoNoNoNoNoNoNoNoNoNoNoNoNoNoNoNoNoNoNoNoNo...   \n",
       "2011   NoNoNoNoNoNoNoNoNoNoNoNoNoNoNoNoNoNoNoNoNoNoNo...   \n",
       "2012   NoNoNoNoNoNoNoNoNoNoNoNoNoNoNoNoNoNoNoNoNoNoNo...   \n",
       "2013   NoNoNoNoNoNoNoNoNoNoNoNoNoNoNoNoNoNoNoNoNoNoNo...   \n",
       "2014   NoNoNoNoNoNoNoNoNoNoNoNoNoNoNoNoNoNoNoNoNoNoNo...   \n",
       "2015   NoNoNoNoNoNoNoNoNoNoNoNoNoNoNoNoNoNoNoNoNoNoNo...   \n",
       "2016   NoNoNoNoNoNoNoNoNoNoNoNoNoNoNoNoNoNoNoNoNoNoNo...   \n",
       "2017   NoNoNoNoNoNoNoNoNoNoNoNoNoNoNoNoNoNoNoNoNoNoNo...   \n",
       "2018   NoNoNoNoNoNoNoNoNoNoNoNoNoNoNoNoNoNoNoNoNoNoNo...   \n",
       "2019   NoNoNoNoNoNoNoNoNoNoNoNoNoNoNoNoNoNoNoNoNoNoNo...   \n",
       "TOTAL  NoNoNoNoNoNoNoNoNoNoNoNoNoNoNoNoNoNoNoNoNoNoNo...   \n",
       "\n",
       "                                              MOTORCYCLE  \\\n",
       "YEAR                                                       \n",
       "2006   NoNoNoNoNoNoNoNoNoNoNoNoNoNoNoNoNoNoNoNoNoNoNo...   \n",
       "2007   NoNoNoNoNoNoNoNoNoNoNoNoNoNoNoNoNoNoNoNoNoNoNo...   \n",
       "2008   NoNoNoNoNoNoNoNoNoNoNoNoNoNoNoNoNoNoNoNoNoNoNo...   \n",
       "2009   YesNoYesYesNoNoNoYesNoNoNoNoNoNoNoNoNoNoNoNoNo...   \n",
       "2010   NoNoNoNoNoNoYesNoNoYesNoNoNoNoNoNoNoNoNoNoNoNo...   \n",
       "2011   NoNoNoNoNoNoNoNoNoNoNoNoNoNoNoYesYesYesYesNoNo...   \n",
       "2012   NoNoNoNoNoNoNoNoNoNoNoNoNoNoNoNoNoNoNoNoNoNoNo...   \n",
       "2013   NoNoNoNoNoNoNoNoNoNoNoNoNoNoNoNoNoNoNoNoNoNoNo...   \n",
       "2014   NoNoNoNoNoNoNoYesYesYesNoNoYesYesNoNoNoNoNoNoN...   \n",
       "2015   NoNoNoNoNoNoNoNoNoNoNoNoNoNoNoNoNoNoNoNoNoNoNo...   \n",
       "2016   NoNoYesYesNoNoNoNoNoNoNoYesYesNoNoYesYesNoNoNo...   \n",
       "2017   NoNoNoYesNoNoNoNoNoNoNoNoNoNoNoNoYesNoNoNoNoNo...   \n",
       "2018   NoNoYesNoYesNoYesNoNoNoNoNoYesYesNoNoNoNoNoNoN...   \n",
       "2019   NoNoNoNoNoNoNoYesNoYesYesNoNoNoNoNoNoNoNoNoNoN...   \n",
       "TOTAL  NoNoNoNoNoNoNoNoNoNoNoNoNoNoNoNoNoNoNoNoNoNoNo...   \n",
       "\n",
       "                                              PEDESTRIAN  \\\n",
       "YEAR                                                       \n",
       "2006   NoNoNoNoNoNoNoNoNoNoNoNoNoYesYesYesYesYesYesNo...   \n",
       "2007   NoNoNoNoNoYesYesYesNoNoYesYesNoYesYesYesNoNoNo...   \n",
       "2008   NoNoNoNoYesYesYesYesYesYesYesYesYesYesNoNoNoNo...   \n",
       "2009   NoNoNoNoNoNoNoNoNoNoNoNoNoNoNoYesYesYesYesYesY...   \n",
       "2010   NoNoNoNoYesNoNoYesNoNoNoNoNoNoYesYesNoNoNoNoNo...   \n",
       "2011   YesYesYesNoNoYesNoNoNoNoYesYesYesYesYesNoNoNoN...   \n",
       "2012   NoNoYesYesYesNoNoNoNoYesYesNoNoNoNoNoNoNoNoNoN...   \n",
       "2013   NoNoNoYesYesYesYesNoYesNoYesNoYesNoYesNoYesYes...   \n",
       "2014   YesYesNoYesYesYesYesNoNoNoYesYesNoNoNoNoNoNoNo...   \n",
       "2015   NoNoNoNoNoNoNoNoYesYesYesYesYesYesNoNoYesYesNo...   \n",
       "2016   NoNoNoNoYesYesYesNoNoNoNoNoNoYesYesNoNoNoNoNoN...   \n",
       "2017   YesNoNoNoNoNoNoNoNoNoNoNoNoNoNoNoNoNoNoNoNoNoN...   \n",
       "2018   NoYesNoYesNoYesNoNoYesNoYesYesNoNoNoNoYesYesNo...   \n",
       "2019   YesYesYesYesYesYesYesNoNoNoNoYesYesYesYesYesYe...   \n",
       "TOTAL  NoNoNoNoNoNoNoNoNoNoNoNoNoYesYesYesYesYesYesNo...   \n",
       "\n",
       "                                                REDLIGHT  \\\n",
       "YEAR                                                       \n",
       "2006   NoNoNoNoNoNoNoNoNoNoNoNoNoNoNoNoNoNoNoNoNoNoYe...   \n",
       "2007   NoNoNoNoNoNoNoNoNoNoNoNoNoNoNoNoNoNoNoNoNoNoNo...   \n",
       "2008   NoNoNoNoNoNoNoNoNoNoNoNoNoNoNoNoNoYesYesYesYes...   \n",
       "2009   NoNoNoNoNoNoNoNoNoNoNoNoNoNoNoNoNoNoNoNoNoNoYe...   \n",
       "2010   NoNoNoNoYesNoNoYesYesNoNoNoNoNoNoNoNoNoNoNoNoN...   \n",
       "2011   NoNoNoNoNoNoNoNoNoNoNoNoNoNoNoNoNoNoNoNoNoNoNo...   \n",
       "2012   NoNoNoNoNoNoNoNoNoNoNoNoNoNoNoNoNoNoNoNoNoNoNo...   \n",
       "2013   NoNoNoNoNoNoNoNoNoNoNoNoNoNoNoNoNoNoNoNoNoNoNo...   \n",
       "2014   NoNoNoNoNoNoNoNoNoNoNoNoNoNoYesYesYesYesYesYes...   \n",
       "2015   NoNoNoNoNoNoNoNoNoNoNoNoNoNoNoNoNoNoNoNoNoNoNo...   \n",
       "2016   NoNoNoNoNoNoNoNoNoYesYesNoNoNoNoNoNoNoNoNoNoNo...   \n",
       "2017   NoNoNoNoNoNoNoNoNoNoNoNoNoNoNoNoYesNoNoNoNoNoN...   \n",
       "2018   NoNoNoNoNoYesNoNoNoNoNoYesNoNoNoNoNoYesNoNoNoN...   \n",
       "2019   NoNoYesNoYesNoNoNoNoNoNoNoNoNoNoNoNoNoNoNoNoNo...   \n",
       "TOTAL  NoNoNoNoNoNoNoNoNoNoNoNoNoNoNoNoNoNoNoNoNoNoYe...   \n",
       "\n",
       "                                                SPEEDING  \\\n",
       "YEAR                                                       \n",
       "2006   YesYesYesYesYesYesYesYesNoNoNoNoNoNoNoNoNoNoNo...   \n",
       "2007   NoNoNoNoNoNoNoNoNoNoNoNoNoNoNoNoNoNoNoNoNoNoNo...   \n",
       "2008   NoNoNoNoNoNoNoNoNoNoNoNoNoNoNoNoNoYesYesYesYes...   \n",
       "2009   YesNoYesYesNoNoNoNoNoNoNoNoNoNoNoNoNoNoNoNoNoN...   \n",
       "2010   NoNoNoNoNoNoNoNoNoNoNoNoNoNoNoNoNoNoNoNoNoNoNo...   \n",
       "2011   NoNoNoNoNoNoNoNoYesYesNoNoNoNoNoNoNoNoNoNoNoNo...   \n",
       "2012   NoNoNoNoNoNoNoNoNoNoNoNoNoNoNoNoNoNoNoNoNoNoNo...   \n",
       "2013   NoYesYesNoNoNoNoNoYesNoNoNoNoNoYesNoNoNoNoYesY...   \n",
       "2014   NoNoNoNoNoNoNoNoNoNoNoNoNoNoNoNoNoNoNoNoNoNoNo...   \n",
       "2015   NoYesYesYesYesYesNoNoNoNoNoNoNoNoYesYesNoNoNoY...   \n",
       "2016   NoNoNoNoNoNoNoNoNoNoNoNoNoNoNoYesYesNoNoNoNoNo...   \n",
       "2017   NoNoNoNoNoNoNoNoNoNoNoNoNoNoNoYesNoYesNoYesYes...   \n",
       "2018   NoNoNoNoNoNoNoNoNoNoNoNoNoYesYesNoNoNoYesNoNoY...   \n",
       "2019   YesNoNoYesNoNoNoNoYesNoNoNoNoNoNoNoNoNoNoNoNoN...   \n",
       "TOTAL  YesYesYesYesYesYesYesYesNoNoNoNoNoNoNoNoNoNoNo...   \n",
       "\n",
       "                                           TRSN_CITY_VEH  \\\n",
       "YEAR                                                       \n",
       "2006   NoNoNoNoNoNoNoNoNoNoNoNoNoNoNoNoNoNoNoNoNoNoNo...   \n",
       "2007   NoNoNoNoNoNoNoNoNoNoYesYesNoYesNoNoNoNoNoNoNoN...   \n",
       "2008   NoNoNoNoNoNoNoNoNoNoNoNoNoNoNoNoNoNoNoNoNoNoNo...   \n",
       "2009   NoNoNoNoNoNoNoNoNoNoNoNoNoNoNoNoNoNoNoNoYesNoN...   \n",
       "2010   NoNoNoNoNoNoNoNoNoNoNoNoNoNoNoNoNoNoNoNoNoNoNo...   \n",
       "2011   NoYesNoNoNoNoNoNoNoNoNoNoNoNoNoNoNoNoNoNoNoNoN...   \n",
       "2012   NoNoYesYesYesNoNoNoNoNoNoNoNoNoNoNoNoNoNoNoNoN...   \n",
       "2013   NoNoNoNoNoNoNoNoYesNoNoNoNoNoYesNoNoNoNoYesYes...   \n",
       "2014   YesNoNoYesYesNoNoNoNoNoNoNoNoNoYesYesYesYesYes...   \n",
       "2015   NoNoNoNoNoNoNoNoNoNoNoNoNoNoNoNoNoNoNoNoNoNoNo...   \n",
       "2016   YesYesNoNoNoNoNoNoNoNoNoNoNoNoNoNoNoNoNoNoNoNo...   \n",
       "2017   NoNoNoNoNoNoNoNoNoNoNoNoNoNoNoNoNoNoNoNoNoNoNo...   \n",
       "2018   YesNoNoNoNoNoNoYesNoNoNoNoNoNoNoNoNoNoNoNoYesN...   \n",
       "2019   NoNoNoNoNoNoNoNoNoNoNoNoNoNoNoNoNoNoNoNoYesNoN...   \n",
       "TOTAL  NoNoNoNoNoNoNoNoNoNoNoNoNoNoNoNoNoNoNoNoNoNoNo...   \n",
       "\n",
       "                                                   TRUCK  \n",
       "YEAR                                                      \n",
       "2006   NoNoNoNoNoNoNoNoNoNoNoNoNoNoNoNoNoNoNoNoNoNoNo...  \n",
       "2007   NoNoNoNoNoNoNoNoNoNoNoNoYesNoNoNoNoNoNoNoNoNoN...  \n",
       "2008   NoNoNoNoNoNoNoNoNoNoNoNoNoNoNoNoNoNoNoNoNoNoNo...  \n",
       "2009   NoNoNoNoNoNoNoNoNoNoNoNoNoNoNoNoNoNoNoNoNoNoNo...  \n",
       "2010   NoNoNoNoNoNoNoNoNoNoNoNoNoNoNoNoNoNoNoNoNoNoNo...  \n",
       "2011   YesNoNoNoNoNoNoNoNoNoNoNoNoNoNoNoNoNoNoNoNoNoN...  \n",
       "2012   NoNoNoNoNoNoNoNoNoYesYesNoNoNoNoNoNoNoNoNoNoNo...  \n",
       "2013   NoNoNoNoNoNoNoNoYesYesNoNoNoYesYesNoNoNoYesYes...  \n",
       "2014   NoNoNoNoNoNoNoNoNoNoNoNoNoNoNoNoNoNoNoNoNoNoNo...  \n",
       "2015   NoNoNoNoNoNoNoNoNoNoNoNoNoNoNoNoNoNoNoNoNoNoNo...  \n",
       "2016   NoNoNoNoNoNoNoNoNoNoNoNoNoNoNoYesYesNoNoNoNoNo...  \n",
       "2017   NoNoNoNoNoNoNoNoNoNoNoNoNoNoNoNoNoNoNoNoNoNoNo...  \n",
       "2018   NoNoNoNoNoNoNoNoNoNoNoNoNoNoYesNoNoNoYesNoNoNo...  \n",
       "2019   NoNoNoNoNoNoNoNoNoNoNoNoNoNoNoNoNoNoNoNoNoNoNo...  \n",
       "TOTAL  NoNoNoNoNoNoNoNoNoNoNoNoNoNoNoNoNoNoNoNoNoNoNo...  "
      ]
     },
     "execution_count": 1467,
     "metadata": {},
     "output_type": "execute_result"
    }
   ],
   "source": [
    "pivot=dfnew.pivot_table(index='YEAR',margins=True,margins_name='TOTAL',values=['ALCOHOL', 'PEDESTRIAN', 'CYCLIST', 'TRSN_CITY_VEH', 'MOTORCYCLE', 'TRUCK', 'EMERG_VEH', 'AG_DRIV', 'REDLIGHT', 'DISABILITY', 'SPEEDING'],aggfunc=np.sum)\n",
    "pivot"
   ]
  },
  {
   "cell_type": "code",
   "execution_count": 1487,
   "metadata": {},
   "outputs": [
    {
     "data": {
      "text/html": [
       "<div>\n",
       "<style scoped>\n",
       "    .dataframe tbody tr th:only-of-type {\n",
       "        vertical-align: middle;\n",
       "    }\n",
       "\n",
       "    .dataframe tbody tr th {\n",
       "        vertical-align: top;\n",
       "    }\n",
       "\n",
       "    .dataframe thead th {\n",
       "        text-align: right;\n",
       "    }\n",
       "</style>\n",
       "<table border=\"1\" class=\"dataframe\">\n",
       "  <thead>\n",
       "    <tr style=\"text-align: right;\">\n",
       "      <th></th>\n",
       "      <th>YEAR</th>\n",
       "      <th>ALCOHOL</th>\n",
       "      <th>SPEEDING</th>\n",
       "      <th>AG_DRIV</th>\n",
       "      <th>REDLIGHT</th>\n",
       "    </tr>\n",
       "  </thead>\n",
       "  <tbody>\n",
       "    <tr>\n",
       "      <th>0</th>\n",
       "      <td>2006</td>\n",
       "      <td>Yes</td>\n",
       "      <td>Yes</td>\n",
       "      <td>Yes</td>\n",
       "      <td>No</td>\n",
       "    </tr>\n",
       "    <tr>\n",
       "      <th>1</th>\n",
       "      <td>2006</td>\n",
       "      <td>Yes</td>\n",
       "      <td>Yes</td>\n",
       "      <td>Yes</td>\n",
       "      <td>No</td>\n",
       "    </tr>\n",
       "    <tr>\n",
       "      <th>2</th>\n",
       "      <td>2006</td>\n",
       "      <td>Yes</td>\n",
       "      <td>Yes</td>\n",
       "      <td>Yes</td>\n",
       "      <td>No</td>\n",
       "    </tr>\n",
       "    <tr>\n",
       "      <th>3</th>\n",
       "      <td>2006</td>\n",
       "      <td>Yes</td>\n",
       "      <td>Yes</td>\n",
       "      <td>Yes</td>\n",
       "      <td>No</td>\n",
       "    </tr>\n",
       "    <tr>\n",
       "      <th>4</th>\n",
       "      <td>2006</td>\n",
       "      <td>Yes</td>\n",
       "      <td>Yes</td>\n",
       "      <td>Yes</td>\n",
       "      <td>No</td>\n",
       "    </tr>\n",
       "    <tr>\n",
       "      <th>...</th>\n",
       "      <td>...</td>\n",
       "      <td>...</td>\n",
       "      <td>...</td>\n",
       "      <td>...</td>\n",
       "      <td>...</td>\n",
       "    </tr>\n",
       "    <tr>\n",
       "      <th>16088</th>\n",
       "      <td>2019</td>\n",
       "      <td>No</td>\n",
       "      <td>No</td>\n",
       "      <td>Yes</td>\n",
       "      <td>No</td>\n",
       "    </tr>\n",
       "    <tr>\n",
       "      <th>16089</th>\n",
       "      <td>2019</td>\n",
       "      <td>No</td>\n",
       "      <td>No</td>\n",
       "      <td>Yes</td>\n",
       "      <td>No</td>\n",
       "    </tr>\n",
       "    <tr>\n",
       "      <th>16090</th>\n",
       "      <td>2019</td>\n",
       "      <td>No</td>\n",
       "      <td>No</td>\n",
       "      <td>Yes</td>\n",
       "      <td>Yes</td>\n",
       "    </tr>\n",
       "    <tr>\n",
       "      <th>16091</th>\n",
       "      <td>2019</td>\n",
       "      <td>No</td>\n",
       "      <td>No</td>\n",
       "      <td>Yes</td>\n",
       "      <td>Yes</td>\n",
       "    </tr>\n",
       "    <tr>\n",
       "      <th>16092</th>\n",
       "      <td>2019</td>\n",
       "      <td>No</td>\n",
       "      <td>No</td>\n",
       "      <td>Yes</td>\n",
       "      <td>Yes</td>\n",
       "    </tr>\n",
       "  </tbody>\n",
       "</table>\n",
       "<p>16093 rows × 5 columns</p>\n",
       "</div>"
      ],
      "text/plain": [
       "       YEAR ALCOHOL SPEEDING AG_DRIV REDLIGHT\n",
       "0      2006     Yes      Yes     Yes       No\n",
       "1      2006     Yes      Yes     Yes       No\n",
       "2      2006     Yes      Yes     Yes       No\n",
       "3      2006     Yes      Yes     Yes       No\n",
       "4      2006     Yes      Yes     Yes       No\n",
       "...     ...     ...      ...     ...      ...\n",
       "16088  2019      No       No     Yes       No\n",
       "16089  2019      No       No     Yes       No\n",
       "16090  2019      No       No     Yes      Yes\n",
       "16091  2019      No       No     Yes      Yes\n",
       "16092  2019      No       No     Yes      Yes\n",
       "\n",
       "[16093 rows x 5 columns]"
      ]
     },
     "execution_count": 1487,
     "metadata": {},
     "output_type": "execute_result"
    }
   ],
   "source": [
    "df1=dfnew[['YEAR','ALCOHOL','SPEEDING','AG_DRIV','REDLIGHT']]\n",
    "df1"
   ]
  },
  {
   "cell_type": "code",
   "execution_count": 1488,
   "metadata": {},
   "outputs": [
    {
     "name": "stderr",
     "output_type": "stream",
     "text": [
      "C:\\Users\\anili\\Anaconda3\\lib\\site-packages\\ipykernel_launcher.py:1: SettingWithCopyWarning: \n",
      "A value is trying to be set on a copy of a slice from a DataFrame.\n",
      "Try using .loc[row_indexer,col_indexer] = value instead\n",
      "\n",
      "See the caveats in the documentation: https://pandas.pydata.org/pandas-docs/stable/user_guide/indexing.html#returning-a-view-versus-a-copy\n",
      "  \"\"\"Entry point for launching an IPython kernel.\n"
     ]
    }
   ],
   "source": [
    "df1['ALCOHOL']=df1['ALCOHOL'].map(dict(Yes=1, No=0))\n"
   ]
  },
  {
   "cell_type": "code",
   "execution_count": 1489,
   "metadata": {},
   "outputs": [
    {
     "data": {
      "text/plain": [
       "0    15380\n",
       "1      713\n",
       "Name: ALCOHOL, dtype: int64"
      ]
     },
     "execution_count": 1489,
     "metadata": {},
     "output_type": "execute_result"
    }
   ],
   "source": [
    "df1['ALCOHOL'].value_counts()"
   ]
  },
  {
   "cell_type": "code",
   "execution_count": 1490,
   "metadata": {},
   "outputs": [
    {
     "name": "stderr",
     "output_type": "stream",
     "text": [
      "C:\\Users\\anili\\Anaconda3\\lib\\site-packages\\ipykernel_launcher.py:1: SettingWithCopyWarning: \n",
      "A value is trying to be set on a copy of a slice from a DataFrame.\n",
      "Try using .loc[row_indexer,col_indexer] = value instead\n",
      "\n",
      "See the caveats in the documentation: https://pandas.pydata.org/pandas-docs/stable/user_guide/indexing.html#returning-a-view-versus-a-copy\n",
      "  \"\"\"Entry point for launching an IPython kernel.\n",
      "C:\\Users\\anili\\Anaconda3\\lib\\site-packages\\ipykernel_launcher.py:2: SettingWithCopyWarning: \n",
      "A value is trying to be set on a copy of a slice from a DataFrame.\n",
      "Try using .loc[row_indexer,col_indexer] = value instead\n",
      "\n",
      "See the caveats in the documentation: https://pandas.pydata.org/pandas-docs/stable/user_guide/indexing.html#returning-a-view-versus-a-copy\n",
      "  \n",
      "C:\\Users\\anili\\Anaconda3\\lib\\site-packages\\ipykernel_launcher.py:3: SettingWithCopyWarning: \n",
      "A value is trying to be set on a copy of a slice from a DataFrame.\n",
      "Try using .loc[row_indexer,col_indexer] = value instead\n",
      "\n",
      "See the caveats in the documentation: https://pandas.pydata.org/pandas-docs/stable/user_guide/indexing.html#returning-a-view-versus-a-copy\n",
      "  This is separate from the ipykernel package so we can avoid doing imports until\n"
     ]
    }
   ],
   "source": [
    "df1['SPEEDING']=df1['SPEEDING'].map(dict(Yes=1, No=0))\n",
    "df1['AG_DRIV']=df1['AG_DRIV'].map(dict(Yes=1, No=0))\n",
    "df1['REDLIGHT']=df1['REDLIGHT'].map(dict(Yes=1, No=0))\n"
   ]
  },
  {
   "cell_type": "code",
   "execution_count": 1492,
   "metadata": {},
   "outputs": [
    {
     "data": {
      "text/html": [
       "<div>\n",
       "<style scoped>\n",
       "    .dataframe tbody tr th:only-of-type {\n",
       "        vertical-align: middle;\n",
       "    }\n",
       "\n",
       "    .dataframe tbody tr th {\n",
       "        vertical-align: top;\n",
       "    }\n",
       "\n",
       "    .dataframe thead th {\n",
       "        text-align: right;\n",
       "    }\n",
       "</style>\n",
       "<table border=\"1\" class=\"dataframe\">\n",
       "  <thead>\n",
       "    <tr style=\"text-align: right;\">\n",
       "      <th></th>\n",
       "      <th>AG_DRIV</th>\n",
       "      <th>ALCOHOL</th>\n",
       "      <th>REDLIGHT</th>\n",
       "      <th>SPEEDING</th>\n",
       "    </tr>\n",
       "    <tr>\n",
       "      <th>YEAR</th>\n",
       "      <th></th>\n",
       "      <th></th>\n",
       "      <th></th>\n",
       "      <th></th>\n",
       "    </tr>\n",
       "  </thead>\n",
       "  <tbody>\n",
       "    <tr>\n",
       "      <th>2006</th>\n",
       "      <td>715</td>\n",
       "      <td>95</td>\n",
       "      <td>136</td>\n",
       "      <td>227</td>\n",
       "    </tr>\n",
       "    <tr>\n",
       "      <th>2007</th>\n",
       "      <td>771</td>\n",
       "      <td>85</td>\n",
       "      <td>190</td>\n",
       "      <td>224</td>\n",
       "    </tr>\n",
       "    <tr>\n",
       "      <th>2008</th>\n",
       "      <td>627</td>\n",
       "      <td>77</td>\n",
       "      <td>122</td>\n",
       "      <td>168</td>\n",
       "    </tr>\n",
       "    <tr>\n",
       "      <th>2009</th>\n",
       "      <td>581</td>\n",
       "      <td>55</td>\n",
       "      <td>97</td>\n",
       "      <td>110</td>\n",
       "    </tr>\n",
       "    <tr>\n",
       "      <th>2010</th>\n",
       "      <td>600</td>\n",
       "      <td>74</td>\n",
       "      <td>78</td>\n",
       "      <td>125</td>\n",
       "    </tr>\n",
       "    <tr>\n",
       "      <th>2011</th>\n",
       "      <td>601</td>\n",
       "      <td>44</td>\n",
       "      <td>60</td>\n",
       "      <td>153</td>\n",
       "    </tr>\n",
       "    <tr>\n",
       "      <th>2012</th>\n",
       "      <td>708</td>\n",
       "      <td>44</td>\n",
       "      <td>113</td>\n",
       "      <td>138</td>\n",
       "    </tr>\n",
       "    <tr>\n",
       "      <th>2013</th>\n",
       "      <td>610</td>\n",
       "      <td>40</td>\n",
       "      <td>91</td>\n",
       "      <td>143</td>\n",
       "    </tr>\n",
       "    <tr>\n",
       "      <th>2014</th>\n",
       "      <td>521</td>\n",
       "      <td>33</td>\n",
       "      <td>105</td>\n",
       "      <td>103</td>\n",
       "    </tr>\n",
       "    <tr>\n",
       "      <th>2015</th>\n",
       "      <td>468</td>\n",
       "      <td>32</td>\n",
       "      <td>68</td>\n",
       "      <td>120</td>\n",
       "    </tr>\n",
       "    <tr>\n",
       "      <th>2016</th>\n",
       "      <td>575</td>\n",
       "      <td>29</td>\n",
       "      <td>71</td>\n",
       "      <td>216</td>\n",
       "    </tr>\n",
       "    <tr>\n",
       "      <th>2017</th>\n",
       "      <td>504</td>\n",
       "      <td>34</td>\n",
       "      <td>81</td>\n",
       "      <td>149</td>\n",
       "    </tr>\n",
       "    <tr>\n",
       "      <th>2018</th>\n",
       "      <td>555</td>\n",
       "      <td>36</td>\n",
       "      <td>77</td>\n",
       "      <td>164</td>\n",
       "    </tr>\n",
       "    <tr>\n",
       "      <th>2019</th>\n",
       "      <td>470</td>\n",
       "      <td>35</td>\n",
       "      <td>72</td>\n",
       "      <td>117</td>\n",
       "    </tr>\n",
       "    <tr>\n",
       "      <th>TOTAL</th>\n",
       "      <td>8306</td>\n",
       "      <td>713</td>\n",
       "      <td>1361</td>\n",
       "      <td>2157</td>\n",
       "    </tr>\n",
       "  </tbody>\n",
       "</table>\n",
       "</div>"
      ],
      "text/plain": [
       "       AG_DRIV  ALCOHOL  REDLIGHT  SPEEDING\n",
       "YEAR                                       \n",
       "2006       715       95       136       227\n",
       "2007       771       85       190       224\n",
       "2008       627       77       122       168\n",
       "2009       581       55        97       110\n",
       "2010       600       74        78       125\n",
       "2011       601       44        60       153\n",
       "2012       708       44       113       138\n",
       "2013       610       40        91       143\n",
       "2014       521       33       105       103\n",
       "2015       468       32        68       120\n",
       "2016       575       29        71       216\n",
       "2017       504       34        81       149\n",
       "2018       555       36        77       164\n",
       "2019       470       35        72       117\n",
       "TOTAL     8306      713      1361      2157"
      ]
     },
     "execution_count": 1492,
     "metadata": {},
     "output_type": "execute_result"
    }
   ],
   "source": [
    "pivot=df1.pivot_table(index='YEAR',margins=True,margins_name='TOTAL',values=['ALCOHOL','AG_DRIV', 'REDLIGHT', 'SPEEDING'],aggfunc=np.sum)\n",
    "pivot"
   ]
  },
  {
   "cell_type": "code",
   "execution_count": null,
   "metadata": {},
   "outputs": [],
   "source": []
  }
 ],
 "metadata": {
  "kernelspec": {
   "display_name": "Python 3",
   "language": "python",
   "name": "python3"
  },
  "language_info": {
   "codemirror_mode": {
    "name": "ipython",
    "version": 3
   },
   "file_extension": ".py",
   "mimetype": "text/x-python",
   "name": "python",
   "nbconvert_exporter": "python",
   "pygments_lexer": "ipython3",
   "version": "3.7.6"
  }
 },
 "nbformat": 4,
 "nbformat_minor": 4
}
